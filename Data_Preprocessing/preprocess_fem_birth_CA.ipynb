{
 "cells": [
  {
   "cell_type": "markdown",
   "metadata": {},
   "source": [
    "Preprocessing given dataset for the Time-Series forecasting. "
   ]
  },
  {
   "cell_type": "markdown",
   "metadata": {},
   "source": [
    "Pandas library provides excellent built-in support for time series data.  \n",
    "Pandas represent time-series datasets as a Series. Dataframe is a collection of Series.   \n",
    "A Series in an 1-Dimensional array with dates/time-labels for each row.  "
   ]
  },
  {
   "cell_type": "code",
   "execution_count": null,
   "metadata": {},
   "outputs": [],
   "source": [
    "import pandas as pd  "
   ]
  },
  {
   "cell_type": "code",
   "execution_count": null,
   "metadata": {},
   "outputs": [],
   "source": [
    "fem_birth = pd.read_csv('../Datasets/daily-total-female-births-CA.csv', header=0) \n",
    "fem_birth "
   ]
  },
  {
   "cell_type": "code",
   "execution_count": null,
   "metadata": {},
   "outputs": [],
   "source": [
    "fem_birth['date'].dtype "
   ]
  },
  {
   "cell_type": "markdown",
   "metadata": {},
   "source": [
    "Loading data with parsed dates - "
   ]
  },
  {
   "cell_type": "markdown",
   "metadata": {},
   "source": [
    "Sometimes it will be difficult to directly parse objects into time data.  \n",
    "So;  \n",
    "dateparse = lambda x: pd.datetime.strptime(x, %Y-%m-%d %H:%M:%S)  \n",
    "df = pd.read_csv('dataset', parse_dates = [<date_column>], date_format = dateparse)  "
   ]
  },
  {
   "cell_type": "code",
   "execution_count": null,
   "metadata": {},
   "outputs": [],
   "source": [
    "dateparse = lambda x: pd.to_datetime(x, format='%Y-%m-%d')   \n",
    "fem_birth_data = pd.read_csv('../Datasets/daily-total-female-births-CA.csv', header=0, parse_dates=[0], date_format=dateparse)  \n",
    "fem_birth_data  "
   ]
  },
  {
   "cell_type": "code",
   "execution_count": null,
   "metadata": {},
   "outputs": [],
   "source": [
    "fem_birth_data['date'].dtype "
   ]
  },
  {
   "cell_type": "code",
   "execution_count": null,
   "metadata": {},
   "outputs": [],
   "source": [
    "fem_birth_data = pd.read_csv('../Datasets/daily-total-female-births-CA.csv', header=0, parse_dates=[0])     # parse_dates = [date_column]  \n",
    "fem_birth_data    "
   ]
  },
  {
   "cell_type": "code",
   "execution_count": null,
   "metadata": {},
   "outputs": [],
   "source": [
    "fem_birth_data['date'].dtype "
   ]
  },
  {
   "cell_type": "code",
   "execution_count": null,
   "metadata": {},
   "outputs": [],
   "source": [
    "fem_birth_data.shape "
   ]
  },
  {
   "cell_type": "code",
   "execution_count": null,
   "metadata": {},
   "outputs": [],
   "source": [
    "print(f\" Births in January : \\n{ fem_birth_data[(fem_birth_data['date'] >= '1959-01-01') & (fem_birth_data['date'] <= '1959-02-01')] } \")  "
   ]
  },
  {
   "cell_type": "markdown",
   "metadata": {},
   "source": [
    "Loading data as Series - "
   ]
  },
  {
   "cell_type": "code",
   "execution_count": null,
   "metadata": {},
   "outputs": [],
   "source": [
    "series = pd.read_csv('../Datasets/daily-total-female-births-CA.csv', header=0, parse_dates=[0], index_col=0).squeeze(\"columns\")  \n",
    "# index_col = <column_to_be_the_index>  \n",
    "series   "
   ]
  },
  {
   "cell_type": "code",
   "execution_count": null,
   "metadata": {},
   "outputs": [],
   "source": [
    "series.shape  "
   ]
  },
  {
   "cell_type": "code",
   "execution_count": null,
   "metadata": {},
   "outputs": [],
   "source": [
    "print(f\"Births in January : \\n{series['1959-01']} \") "
   ]
  },
  {
   "cell_type": "markdown",
   "metadata": {},
   "source": [
    "Descriptive Statistics - "
   ]
  },
  {
   "cell_type": "code",
   "execution_count": null,
   "metadata": {},
   "outputs": [],
   "source": [
    "fem_birth_data.describe()  "
   ]
  },
  {
   "cell_type": "code",
   "execution_count": null,
   "metadata": {},
   "outputs": [],
   "source": [
    "series.describe()  "
   ]
  },
  {
   "cell_type": "markdown",
   "metadata": {},
   "source": [
    "# Feature Engineering - "
   ]
  },
  {
   "cell_type": "markdown",
   "metadata": {},
   "source": [
    "Feature Engineering refers to modifyiing, deleting, or combining existing raw features into our data to create new features. These new features will help us enhancing the overall performance of the forecasting model.  \n",
    "Input variables are also called features in the field of machine learning, and the task before us is to create or invent new input features from our time series dataset.  \n",
    "---> Datetime features    ---> Lag features    ---> Window features    ---> Expanding features  "
   ]
  },
  {
   "cell_type": "markdown",
   "metadata": {},
   "source": [
    "Date-Time Features : Components of time step itself for each observation.  "
   ]
  },
  {
   "cell_type": "code",
   "execution_count": null,
   "metadata": {},
   "outputs": [],
   "source": [
    "features = fem_birth_data.copy() \n",
    "features['year'] = fem_birth_data['date'].dt.year  \n",
    "features['month'] = fem_birth_data['date'].dt.month  \n",
    "features['day'] = fem_birth_data['date'].dt.day  \n",
    "features  "
   ]
  },
  {
   "cell_type": "markdown",
   "metadata": {},
   "source": [
    "Lag Features : Values at prior timestamps. To shift dates at a specific value.    "
   ]
  },
  {
   "cell_type": "code",
   "execution_count": null,
   "metadata": {},
   "outputs": [],
   "source": [
    "features['lag1'] =features['births'].shift(1) \n",
    "features['lag2'] =features['births'].shift(365) \n",
    "features['lag3'] =features['births'].shift(150)  \n",
    "features "
   ]
  },
  {
   "cell_type": "markdown",
   "metadata": {},
   "source": [
    "Window Features : Summary of values over a prior window of prior time step.  "
   ]
  },
  {
   "cell_type": "markdown",
   "metadata": {},
   "source": [
    "Rolling Window : Add summary of values at previous time steps.  "
   ]
  },
  {
   "cell_type": "code",
   "execution_count": null,
   "metadata": {},
   "outputs": [],
   "source": [
    "features['roll_mean'] = fem_birth_data['births'].rolling(window = 2).mean()  \n",
    "features "
   ]
  },
  {
   "cell_type": "code",
   "execution_count": null,
   "metadata": {},
   "outputs": [],
   "source": [
    "features['roll_max'] = fem_birth_data['births'].rolling(window = 3).max()  \n",
    "features "
   ]
  },
  {
   "cell_type": "markdown",
   "metadata": {},
   "source": [
    "Expanding Window : Add summary of all previous data in series.  "
   ]
  },
  {
   "cell_type": "code",
   "execution_count": null,
   "metadata": {},
   "outputs": [],
   "source": [
    "features['expand_max'] = fem_birth_data['births'].expanding().max()  \n",
    "features "
   ]
  }
 ],
 "metadata": {
  "kernelspec": {
   "display_name": "virtl_env",
   "language": "python",
   "name": "python3"
  },
  "language_info": {
   "codemirror_mode": {
    "name": "ipython",
    "version": 3
   },
   "file_extension": ".py",
   "mimetype": "text/x-python",
   "name": "python",
   "nbconvert_exporter": "python",
   "pygments_lexer": "ipython3",
   "version": "3.12.2"
  }
 },
 "nbformat": 4,
 "nbformat_minor": 2
}
