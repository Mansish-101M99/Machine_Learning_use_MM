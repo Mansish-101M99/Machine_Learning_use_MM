{
 "cells": [
  {
   "cell_type": "markdown",
   "metadata": {},
   "source": [
    "Preprocessing given dataset for the Time-Series forecasting. "
   ]
  },
  {
   "cell_type": "markdown",
   "metadata": {},
   "source": [
    "Pandas library provides excellent built-in support for time series data.  \n",
    "Pandas represent time-series datasets as a Series. Dataframe is a collection of Series.   \n",
    "A Series in an 1-Dimensional array with dates/time-labels for each row.  "
   ]
  },
  {
   "cell_type": "code",
   "execution_count": null,
   "metadata": {},
   "outputs": [],
   "source": [
    "import numpy as np \n",
    "import pandas as pd  \n",
    "import matplotlib.pyplot as plt \n",
    "import seaborn as sb \n",
    "%matplotlib inline "
   ]
  },
  {
   "cell_type": "code",
   "execution_count": null,
   "metadata": {},
   "outputs": [],
   "source": [
    "fem_birth = pd.read_csv('../Datasets/daily-total-female-births-CA.csv', header=0) \n",
    "fem_birth "
   ]
  },
  {
   "cell_type": "code",
   "execution_count": null,
   "metadata": {},
   "outputs": [],
   "source": [
    "fem_birth['date'].dtype "
   ]
  },
  {
   "cell_type": "markdown",
   "metadata": {},
   "source": [
    "Loading data with parsed dates - "
   ]
  },
  {
   "cell_type": "markdown",
   "metadata": {},
   "source": [
    "Sometimes it will be difficult to directly parse objects into time data.  \n",
    "So;  \n",
    "dateparse = lambda x: pd.datetime.strptime(x, %Y-%m-%d %H:%M:%S)    \n",
    "                                OR       \n",
    "dateparse = lambda x: pd.to_datetime(x, format='%Y-%m-%d')  \n",
    "    \n",
    "df = pd.read_csv('dataset', parse_dates = [<date_column>], date_format = dateparse)  "
   ]
  },
  {
   "cell_type": "code",
   "execution_count": null,
   "metadata": {},
   "outputs": [],
   "source": [
    "dateparse = lambda x: pd.to_datetime(x, format='%Y-%m-%d')   \n",
    "fem_birth_data = pd.read_csv('../Datasets/daily-total-female-births-CA.csv', header=0, parse_dates=[0], date_format=dateparse)  \n",
    "fem_birth_data  "
   ]
  },
  {
   "cell_type": "code",
   "execution_count": null,
   "metadata": {},
   "outputs": [],
   "source": [
    "fem_birth_data['date'].dtype "
   ]
  },
  {
   "cell_type": "code",
   "execution_count": null,
   "metadata": {},
   "outputs": [],
   "source": [
    "fem_birth_data = pd.read_csv('../Datasets/daily-total-female-births-CA.csv', header=0, parse_dates=[0])     # parse_dates = [date_column]  \n",
    "fem_birth_data    "
   ]
  },
  {
   "cell_type": "code",
   "execution_count": null,
   "metadata": {},
   "outputs": [],
   "source": [
    "fem_birth_data['date'].dtype "
   ]
  },
  {
   "cell_type": "code",
   "execution_count": null,
   "metadata": {},
   "outputs": [],
   "source": [
    "fem_birth_data.shape "
   ]
  },
  {
   "cell_type": "code",
   "execution_count": null,
   "metadata": {},
   "outputs": [],
   "source": [
    "print(f\" Births in January : \\n{ fem_birth_data[(fem_birth_data['date'] >= '1959-01-01') & (fem_birth_data['date'] <= '1959-02-01')] } \")  "
   ]
  },
  {
   "cell_type": "markdown",
   "metadata": {},
   "source": [
    "Loading data as Series - "
   ]
  },
  {
   "cell_type": "code",
   "execution_count": null,
   "metadata": {},
   "outputs": [],
   "source": [
    "series = pd.read_csv('../Datasets/daily-total-female-births-CA.csv', header=0, parse_dates=[0], index_col=0).squeeze(\"columns\")  \n",
    "# index_col = <column_to_be_the_index>  \n",
    "series   "
   ]
  },
  {
   "cell_type": "code",
   "execution_count": null,
   "metadata": {},
   "outputs": [],
   "source": [
    "series.shape  "
   ]
  },
  {
   "cell_type": "code",
   "execution_count": null,
   "metadata": {},
   "outputs": [],
   "source": [
    "print(f\"Births in January : \\n{series['1959-01']} \") "
   ]
  },
  {
   "cell_type": "markdown",
   "metadata": {},
   "source": [
    "Descriptive Statistics - "
   ]
  },
  {
   "cell_type": "code",
   "execution_count": null,
   "metadata": {},
   "outputs": [],
   "source": [
    "fem_birth_data.describe()  "
   ]
  },
  {
   "cell_type": "code",
   "execution_count": null,
   "metadata": {},
   "outputs": [],
   "source": [
    "series.describe()  "
   ]
  },
  {
   "cell_type": "markdown",
   "metadata": {},
   "source": [
    "------------------------------------------------------------------------------------------------------------------------------------------------\n",
    "# Feature Engineering - "
   ]
  },
  {
   "cell_type": "markdown",
   "metadata": {},
   "source": [
    "Feature Engineering refers to modifyiing, deleting, or combining existing raw features into our data to create new features. These new features will help us enhancing the overall performance of the forecasting model.  \n",
    "Input variables are also called features in the field of machine learning, and the task before us is to create or invent new input features from our time series dataset.  \n",
    "---> Datetime features    ---> Lag features    ---> Window features    ---> Expanding features  "
   ]
  },
  {
   "cell_type": "markdown",
   "metadata": {},
   "source": [
    "Date-Time Features : Components of time step itself for each observation.  "
   ]
  },
  {
   "cell_type": "code",
   "execution_count": null,
   "metadata": {},
   "outputs": [],
   "source": [
    "features_fbth = fem_birth_data.copy() \n",
    "features_fbth['year'] = fem_birth_data['date'].dt.year  \n",
    "features_fbth['month'] = fem_birth_data['date'].dt.month  \n",
    "features_fbth['day'] = fem_birth_data['date'].dt.day  \n",
    "features_fbth  "
   ]
  },
  {
   "cell_type": "markdown",
   "metadata": {},
   "source": [
    "Lag Features : Values at prior timestamps. To shift dates at a specific value.    "
   ]
  },
  {
   "cell_type": "code",
   "execution_count": null,
   "metadata": {},
   "outputs": [],
   "source": [
    "features_fbth['lag1'] =features_fbth['births'].shift(1) \n",
    "features_fbth['lag2'] =features_fbth['births'].shift(365) \n",
    "features_fbth['lag3'] =features_fbth['births'].shift(150)  \n",
    "features_fbth "
   ]
  },
  {
   "cell_type": "markdown",
   "metadata": {},
   "source": [
    "Window Features : Summary of values over a prior window of prior time step.  "
   ]
  },
  {
   "cell_type": "markdown",
   "metadata": {},
   "source": [
    "Rolling Window : Add summary of values at previous time steps.  "
   ]
  },
  {
   "cell_type": "code",
   "execution_count": null,
   "metadata": {},
   "outputs": [],
   "source": [
    "features_fbth['roll_mean'] = fem_birth_data['births'].rolling(window = 2).mean()  \n",
    "features_fbth "
   ]
  },
  {
   "cell_type": "code",
   "execution_count": null,
   "metadata": {},
   "outputs": [],
   "source": [
    "features_fbth['roll_max'] = fem_birth_data['births'].rolling(window = 3).max()  \n",
    "features_fbth "
   ]
  },
  {
   "cell_type": "markdown",
   "metadata": {},
   "source": [
    "Expanding Window : Add summary of all previous data in series.  "
   ]
  },
  {
   "cell_type": "code",
   "execution_count": null,
   "metadata": {},
   "outputs": [],
   "source": [
    "features_fbth['expand_max'] = fem_birth_data['births'].expanding().max()  \n",
    "features_fbth "
   ]
  },
  {
   "cell_type": "markdown",
   "metadata": {},
   "source": [
    "----------------------------------------------------------------------------------------------------------------------------------------------\n",
    "# Visualization -  \n",
    "By visualizing the series, we can identify and detect initial paterns, identify its competence, and spot potential problems such as outliers, missing values, and unequal spaccing.   "
   ]
  },
  {
   "cell_type": "markdown",
   "metadata": {},
   "source": [
    "# Time Plot -  \n",
    "The most basic and informative plot for visualizing a time series is the Time Plot.  \n",
    "It is a line chart of the series values (y1, y2,....) over time (t = 1, 2,....), with temporal labels (e.g., calendar date) on the horizontal axis.  \n"
   ]
  },
  {
   "cell_type": "code",
   "execution_count": null,
   "metadata": {},
   "outputs": [],
   "source": [
    "# dateparse = lambda x: pd.to_datetime(x, format='%Y-%m-%d')   \n",
    "# airl_miles_data = pd.read_csv('../Datasets/us-airlines-monthly-aircraft-miles-flown.csv', header=0, parse_dates=[0], date_format=dateparse) \n",
    "\n",
    "airl_miles_data = pd.read_csv('../Datasets/us-airlines-monthly-aircraft-miles-flown.csv', header=0, parse_dates=[0]) \n",
    "# parse_dates = [dates_column] \n",
    "airl_miles_data "
   ]
  },
  {
   "cell_type": "code",
   "execution_count": null,
   "metadata": {},
   "outputs": [],
   "source": [
    "airl_miles_data['MilesMM'].plot() "
   ]
  },
  {
   "cell_type": "code",
   "execution_count": null,
   "metadata": {},
   "outputs": [],
   "source": [
    "dataviz_fbth = fem_birth_data.copy() \n",
    "dataviz_fbth "
   ]
  },
  {
   "cell_type": "code",
   "execution_count": null,
   "metadata": {},
   "outputs": [],
   "source": [
    "dataviz_fbth['births'].plot() "
   ]
  },
  {
   "cell_type": "code",
   "execution_count": null,
   "metadata": {},
   "outputs": [],
   "source": [
    "# Ensure the index is a datetime index \n",
    "dataviz_fbth.index = pd.to_datetime(dataviz_fbth['date']) \n",
    "airl_miles_data.index = pd.to_datetime(airl_miles_data['Month'])  \n",
    "\n",
    "# Convert datetime index to ordinal numbers\n",
    "dataviz_fbth['date_ordinal'] = dataviz_fbth.index.map(pd.Timestamp.toordinal) \n",
    "airl_miles_data['month_ordinal'] = airl_miles_data.index.map(pd.Timestamp.toordinal)  \n",
    "\n",
    "# print(dataviz_fbth) \n",
    "# print(airl_miles_data)  "
   ]
  },
  {
   "cell_type": "code",
   "execution_count": null,
   "metadata": {},
   "outputs": [],
   "source": [
    "dataviz_fbth "
   ]
  },
  {
   "cell_type": "code",
   "execution_count": null,
   "metadata": {},
   "outputs": [],
   "source": [
    "airl_miles_data "
   ]
  },
  {
   "cell_type": "code",
   "execution_count": null,
   "metadata": {},
   "outputs": [],
   "source": [
    "dataviz_fbth['births'].plot() "
   ]
  },
  {
   "cell_type": "code",
   "execution_count": null,
   "metadata": {},
   "outputs": [],
   "source": [
    "airl_miles_data['MilesMM'].plot() "
   ]
  },
  {
   "cell_type": "markdown",
   "metadata": {},
   "source": [
    "->> Zooming In -  \n",
    "    Zooming in or looking at to a shorter period within the series can reveal patterns that are hidden when viewing the entire series. This is especially important when the time series is long.  \n"
   ]
  },
  {
   "cell_type": "code",
   "execution_count": null,
   "metadata": {},
   "outputs": [],
   "source": [
    "dataviz_fbth2 = dataviz_fbth[(dataviz_fbth['date'] >= '1959-01-01') & (dataviz_fbth['date'] <= '1959-01-20')].copy() \n",
    "dataviz_fbth2 "
   ]
  },
  {
   "cell_type": "code",
   "execution_count": null,
   "metadata": {},
   "outputs": [],
   "source": [
    "dataviz_fbth2['births'].plot() "
   ]
  }
 ],
 "metadata": {
  "kernelspec": {
   "display_name": "virtl_env",
   "language": "python",
   "name": "python3"
  },
  "language_info": {
   "codemirror_mode": {
    "name": "ipython",
    "version": 3
   },
   "file_extension": ".py",
   "mimetype": "text/x-python",
   "name": "python",
   "nbconvert_exporter": "python",
   "pygments_lexer": "ipython3",
   "version": "3.12.2"
  }
 },
 "nbformat": 4,
 "nbformat_minor": 2
}
