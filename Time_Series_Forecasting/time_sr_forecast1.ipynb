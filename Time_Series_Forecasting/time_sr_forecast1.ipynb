{
 "cells": [
  {
   "cell_type": "code",
   "execution_count": null,
   "metadata": {},
   "outputs": [],
   "source": [
    "import numpy as np \n",
    "import pandas as pd  \n",
    "import matplotlib.pyplot as plt \n",
    "import seaborn as sb \n",
    "\n",
    "from statsmodels.tsa.seasonal import seasonal_decompose \n",
    "\n",
    "import nbformat \n",
    "from IPython import get_ipython \n",
    "%matplotlib inline \n",
    "from pandas.plotting import lag_plot, autocorrelation_plot "
   ]
  },
  {
   "cell_type": "code",
   "execution_count": null,
   "metadata": {},
   "outputs": [],
   "source": [
    "# %run \"../Data_Preprocessing/preprocess_time_series.ipynb\" \n",
    "\n",
    "with open(\"../Data_Preprocessing/preprocess_time_series.ipynb\", \"r\", encoding=\"utf-8\") as f:\n",
    "    notebook1 = nbformat.read(f, as_version=4)\n",
    "\n",
    "ipython = get_ipython() \n",
    "\n",
    "for cell in notebook1.cells:\n",
    "    if cell.cell_type == \"code\":\n",
    "        print(cell.source) \n",
    "        if (\"fem_birth_data\" in cell.source or \"series\" in cell.source or \"features_fbth\" in cell.source or \"airl_miles_data\" in cell.source or \"airl_miles_data2\" in cell.source): \n",
    "            ipython.run_cell(cell.source, silent=True) \n",
    "            # ipython.run_cell_async(cell.source, silent=True) \n",
    "\n",
    "try:\n",
    "    print(\"\\nTotal female birth Data : \")\n",
    "    print(fem_birth_data.head())   # type: ignore \n",
    "    \n",
    "except NameError as e:\n",
    "    print(f\"Variable not found: {e}\")"
   ]
  },
  {
   "cell_type": "code",
   "execution_count": null,
   "metadata": {},
   "outputs": [],
   "source": [
    "fem_birth_data     # type: ignore "
   ]
  },
  {
   "cell_type": "code",
   "execution_count": null,
   "metadata": {},
   "outputs": [],
   "source": [
    "series      # type: ignore "
   ]
  },
  {
   "cell_type": "code",
   "execution_count": null,
   "metadata": {},
   "outputs": [],
   "source": [
    "features_fbth      # type: ignore "
   ]
  },
  {
   "cell_type": "code",
   "execution_count": null,
   "metadata": {},
   "outputs": [],
   "source": [
    "airl_miles_data      # type: ignore "
   ]
  },
  {
   "cell_type": "code",
   "execution_count": null,
   "metadata": {},
   "outputs": [],
   "source": [
    "airl_miles_data2     # type: ignore "
   ]
  },
  {
   "cell_type": "markdown",
   "metadata": {},
   "source": [
    "# Resampling -  \n",
    "Changing the frequency of the available data to match the frequency of required forecast. It is done for the purpose of feature engineering.   \n",
    "\n",
    "Types of resampling - Upsampling and Downsampling  \n"
   ]
  },
  {
   "cell_type": "markdown",
   "metadata": {},
   "source": [
    "Downsampling -  \n",
    "When you decrease the frequency of the samples by removing some relevant samples.  \n",
    "(e.g., from months to years, from minutes to hours, etc.)  "
   ]
  },
  {
   "cell_type": "code",
   "execution_count": null,
   "metadata": {},
   "outputs": [],
   "source": [
    "qtrly_miles_data = airl_miles_data.resample('QE', on='Month').mean()         # type: ignore \n",
    "qtrly_miles_data      # Quarterly miles flown data "
   ]
  },
  {
   "cell_type": "code",
   "execution_count": null,
   "metadata": {},
   "outputs": [],
   "source": [
    "qtrly_miles_data2 = airl_miles_data2.resample('QE', on='Month').mean()         # type: ignore \n",
    "qtrly_miles_data2 "
   ]
  },
  {
   "cell_type": "code",
   "execution_count": null,
   "metadata": {},
   "outputs": [],
   "source": [
    "yrly_total_miles = airl_miles_data.resample('YE', on='Month').sum()      # type: ignore  \n",
    "yrly_total_miles       # Yearly miles flown data "
   ]
  },
  {
   "cell_type": "code",
   "execution_count": null,
   "metadata": {},
   "outputs": [],
   "source": [
    "yrly_total_miles2 = airl_miles_data2.resample('YE', on='Month').sum()      # type: ignore  \n",
    "yrly_total_miles2 "
   ]
  },
  {
   "cell_type": "markdown",
   "metadata": {},
   "source": [
    "Upsampling -  \n",
    "When you increase the frequency of the samples by adding more unique and relevant samples.  \n",
    "(e.g., from months to dates, from minutes to seconds, etc.)  "
   ]
  },
  {
   "cell_type": "code",
   "execution_count": null,
   "metadata": {},
   "outputs": [],
   "source": [
    "upsmp_miles_data = airl_miles_data.resample('D', on='Month').mean()         # type: ignore \n",
    "upsmp_miles_data      # Daily miles flown data "
   ]
  },
  {
   "cell_type": "code",
   "execution_count": null,
   "metadata": {},
   "outputs": [],
   "source": [
    "upsmp_miles_data2 = airl_miles_data2.resample('D', on='Month').mean()       # type: ignore \n",
    "upsmp_miles_data2 "
   ]
  },
  {
   "cell_type": "code",
   "execution_count": null,
   "metadata": {},
   "outputs": [],
   "source": [
    "interp_miles_data = upsmp_miles_data.interpolate(method='linear') \n",
    "interp_miles_data "
   ]
  },
  {
   "cell_type": "code",
   "execution_count": null,
   "metadata": {},
   "outputs": [],
   "source": [
    "# interp_miles_data.plot() "
   ]
  },
  {
   "cell_type": "code",
   "execution_count": null,
   "metadata": {},
   "outputs": [],
   "source": [
    "interp_miles_data2 = upsmp_miles_data2.interpolate(method='linear') \n",
    "interp_miles_data2 "
   ]
  },
  {
   "cell_type": "code",
   "execution_count": null,
   "metadata": {},
   "outputs": [],
   "source": [
    "interp_miles_data2.plot() "
   ]
  },
  {
   "cell_type": "code",
   "execution_count": null,
   "metadata": {},
   "outputs": [],
   "source": [
    "poly_interp_miles_data = upsmp_miles_data.interpolate(method='spline', order=2)  \n",
    "poly_interp_miles_data "
   ]
  },
  {
   "cell_type": "code",
   "execution_count": null,
   "metadata": {},
   "outputs": [],
   "source": [
    "# poly_interp_miles_data.plot() "
   ]
  },
  {
   "cell_type": "code",
   "execution_count": null,
   "metadata": {},
   "outputs": [],
   "source": [
    "# poly_interp_miles_data2 = upsmp_miles_data2.interpolate(method='spline', order=2)  \n",
    "poly_interp_miles_data2 = upsmp_miles_data2.interpolate(method='spline', order=3)  \n",
    "poly_interp_miles_data2 "
   ]
  },
  {
   "cell_type": "code",
   "execution_count": null,
   "metadata": {},
   "outputs": [],
   "source": [
    "poly_interp_miles_data2.plot() "
   ]
  },
  {
   "cell_type": "markdown",
   "metadata": {},
   "source": [
    "# Decomposing Time Series -  \n",
    "\n",
    "Level - It is the average value in the series.  \n",
    "Trend - It is the incresaing or decreasing value in the series.  \n",
    "Seasonality - It is the repeating short term cycle in the series.  \n",
    "Noise - It is the random variation in the series.  \n"
   ]
  },
  {
   "cell_type": "code",
   "execution_count": null,
   "metadata": {},
   "outputs": [],
   "source": [
    "air_mls_decomp = airl_miles_data2     # type: ignore \n",
    "air_mls_decomp "
   ]
  },
  {
   "cell_type": "code",
   "execution_count": null,
   "metadata": {},
   "outputs": [],
   "source": [
    "air_mls_decomp.index = air_mls_decomp['Month'] \n",
    "air_mls_decomp "
   ]
  },
  {
   "cell_type": "markdown",
   "metadata": {},
   "source": [
    "Additive Model :-  \n",
    "y(t) = Level + Trend + Seasonality + Noise  "
   ]
  },
  {
   "cell_type": "code",
   "execution_count": null,
   "metadata": {},
   "outputs": [],
   "source": [
    "res = seasonal_decompose(air_mls_decomp['MilesMM'], model='additive') \n",
    "# res \n",
    "res.plot()  "
   ]
  },
  {
   "cell_type": "markdown",
   "metadata": {},
   "source": [
    "Multiplicative Model :-  \n",
    "y(t) = Level * Trend * Seasonality * Noise  "
   ]
  },
  {
   "cell_type": "code",
   "execution_count": null,
   "metadata": {},
   "outputs": [],
   "source": [
    "res2 = seasonal_decompose(air_mls_decomp['MilesMM'], model='multiplicative') \n",
    "# res2 \n",
    "res2.plot()  "
   ]
  }
 ],
 "metadata": {
  "kernelspec": {
   "display_name": "virtl_env",
   "language": "python",
   "name": "python3"
  },
  "language_info": {
   "codemirror_mode": {
    "name": "ipython",
    "version": 3
   },
   "file_extension": ".py",
   "mimetype": "text/x-python",
   "name": "python",
   "nbconvert_exporter": "python",
   "pygments_lexer": "ipython3",
   "version": "3.12.2"
  }
 },
 "nbformat": 4,
 "nbformat_minor": 2
}
