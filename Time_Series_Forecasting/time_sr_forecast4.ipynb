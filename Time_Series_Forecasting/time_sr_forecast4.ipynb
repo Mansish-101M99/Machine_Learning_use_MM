{
 "cells": [
  {
   "cell_type": "markdown",
   "metadata": {},
   "source": [
    "ARMA (Auto Regression Moving Average)  "
   ]
  },
  {
   "cell_type": "code",
   "execution_count": null,
   "metadata": {},
   "outputs": [],
   "source": [
    "import numpy as np \n",
    "import pandas as pd  \n",
    "import matplotlib.pyplot as plt \n",
    "import seaborn as sb \n",
    "%matplotlib inline \n",
    "\n",
    "from statsmodels.tsa.ar_model import AutoReg, ar_select_order  \n",
    "from sklearn.metrics import mean_squared_error "
   ]
  },
  {
   "cell_type": "code",
   "execution_count": null,
   "metadata": {},
   "outputs": [],
   "source": [
    "# min_tmp = pd.read_csv('../Datasets/daily-min-temperatures.csv', header=0, parse_dates=[0], index_col=0) \n",
    "# min_tmp = pd.read_csv('../Datasets/daily-min-temperatures.csv', header=0, parse_dates=[0])  \n",
    "\n",
    "# min_tmp = pd.read_csv('../Datasets/daily-min-temperatures.csv', header=0, parse_dates=['Date'], date_format=dateparse)   \n",
    "\n",
    "dateparse = lambda x: pd.to_datetime(x, format='%Y-%m-%d') \n",
    "min_tmp = pd.read_csv('../Datasets/daily-min-temperatures.csv', header=0, parse_dates=[0], date_format=dateparse)   \n",
    "min_tmp "
   ]
  },
  {
   "cell_type": "code",
   "execution_count": null,
   "metadata": {},
   "outputs": [],
   "source": [
    "if not isinstance(min_tmp.index, pd.DatetimeIndex):\n",
    "    min_tmp.index = pd.to_datetime(min_tmp.index)\n",
    "    print('Converted index to DateTime format.') \n",
    "\n",
    "# min_tmp = min_tmp.asfreq('D') \n",
    "# min_tmp = min_tmp.asfreq('H')  \n",
    "# min_tmp "
   ]
  },
  {
   "cell_type": "markdown",
   "metadata": {},
   "source": [
    "# Moving Average -  \n",
    "\n",
    "Let, actual value (at time t+1) = y  \n",
    "     predicted value (at time t+1) = y_ + residuals  \n",
    "\n",
    "y = y_ + residuals  (residual = forecasting error = y - y_)  \n",
    "Residuals should be white noise with no patterns and seasonality.  \n",
    "\n",
    "Our model may leave info in residuals too. So to extract the info, we run a forecating model on residuals. The 2nd level model for residuals will identify and capture in the new forecast and this new forecast will be added to our original forecast for better forecast.  \n",
    "\n",
    "use of AutoReg with moving avg. is also called ARMA method.  "
   ]
  },
  {
   "cell_type": "code",
   "execution_count": null,
   "metadata": {},
   "outputs": [],
   "source": [
    "min_tmp['t'] = min_tmp['Temp'].shift(1)        # this column is the lagged column \n",
    "min_tmp "
   ]
  },
  {
   "cell_type": "code",
   "execution_count": null,
   "metadata": {},
   "outputs": [],
   "source": [
    "min_tmp['Resid'] = min_tmp['Temp'] - min_tmp['t'] \n",
    "min_tmp "
   ]
  },
  {
   "cell_type": "markdown",
   "metadata": {},
   "source": [
    "Test and Train split - "
   ]
  },
  {
   "cell_type": "code",
   "execution_count": null,
   "metadata": {},
   "outputs": [],
   "source": [
    "# Series data on the Residual values \n",
    "\n",
    "train, test = min_tmp.Resid[1: (min_tmp.shape[0]-7)], min_tmp.Resid[(min_tmp.shape[0]-7):]  "
   ]
  },
  {
   "cell_type": "code",
   "execution_count": null,
   "metadata": {},
   "outputs": [],
   "source": [
    "train "
   ]
  },
  {
   "cell_type": "code",
   "execution_count": null,
   "metadata": {},
   "outputs": [],
   "source": [
    "test "
   ]
  },
  {
   "cell_type": "code",
   "execution_count": null,
   "metadata": {},
   "outputs": [],
   "source": [
    "train_y, test_y = min_tmp.Temp[1: (min_tmp.shape[0]-7)], min_tmp.Temp[(min_tmp.shape[0]-7):]  \n",
    "train_x, test_x = min_tmp.Date[1: (min_tmp.shape[0]-7)], min_tmp.Date[(min_tmp.shape[0]-7):]  \n",
    "\n",
    "print(f\" y_train size : {train_y.shape} \\n y_test size : {test_y.shape}\") \n",
    "print(f\" y_train : {train_y} \\n y_test : {test_y}\") \n",
    "\n",
    "print(f\" x_train size : {train_x.shape} \\n x_test size : {test_x.shape}\") \n",
    "print(f\" x_train : {train_x} \\n x_test : {test_x}\") "
   ]
  },
  {
   "cell_type": "markdown",
   "metadata": {},
   "source": [
    "Auto-Regression -  "
   ]
  },
  {
   "cell_type": "code",
   "execution_count": null,
   "metadata": {},
   "outputs": [],
   "source": [
    "# axlag is less than the number of observations in training data \n",
    "# max_lag = max(10, 29, 30, len(train) - 1)  \n",
    "max_lag = min(10, 29, 30, len(train) - 1)  \n",
    "\n",
    "# Automatically selecting Optimal number of lagged values \n",
    "\n",
    "slct_ord = ar_select_order(train, maxlag=max_lag, ic='aic', seasonal=False) \n",
    "optimal_lags = slct_ord.ar_lags \n",
    "print(f\"optimal number of lags : {optimal_lags}\")  \n",
    "\n",
    "max_optimal_lag = max(optimal_lags) if optimal_lags else 0 \n",
    "print(f\"Max OPtimal lags : {max_optimal_lag}\") "
   ]
  },
  {
   "cell_type": "code",
   "execution_count": null,
   "metadata": {},
   "outputs": [],
   "source": [
    "# train = train[max_optimal_lag:]  \n",
    "model = AutoReg(train, lags=max_optimal_lag)     \n",
    "model_fit = model.fit() \n",
    "model_fit.summary()  "
   ]
  },
  {
   "cell_type": "code",
   "execution_count": null,
   "metadata": {},
   "outputs": [],
   "source": [
    "model_fit.params "
   ]
  },
  {
   "cell_type": "markdown",
   "metadata": {},
   "source": [
    "Predictions -  "
   ]
  },
  {
   "cell_type": "code",
   "execution_count": null,
   "metadata": {},
   "outputs": [],
   "source": [
    "\n",
    "pred_resid = model_fit.predict(start=len(train), end=(len(train) + len(test) - 1)) \n",
    "pred_resid \n",
    "# Predicting forecast residuals for the next values in the time series "
   ]
  },
  {
   "cell_type": "code",
   "execution_count": null,
   "metadata": {},
   "outputs": [],
   "source": [
    "pred = min_tmp.t[(min_tmp.shape[0]-7):] + pred_resid \n",
    "pred \n",
    "# Forecast naive values "
   ]
  },
  {
   "cell_type": "code",
   "execution_count": null,
   "metadata": {},
   "outputs": [],
   "source": [
    "mse_test = mean_squared_error(test_y, pred) \n",
    "print(f\"Mean Squared Error (Test) : {mse_test}\") "
   ]
  },
  {
   "cell_type": "code",
   "execution_count": null,
   "metadata": {},
   "outputs": [],
   "source": [
    "test.index.strftime('%Y-%m-%d') "
   ]
  },
  {
   "cell_type": "code",
   "execution_count": null,
   "metadata": {},
   "outputs": [],
   "source": [
    "\n",
    "plt.plot(test_x, test_y, label=\"Actual\") \n",
    "plt.plot(test_x, pred, color='red', linestyle='dashed', label=\"Predicted\")  \n",
    "\n",
    "plt.legend() \n",
    "plt.show() "
   ]
  }
 ],
 "metadata": {
  "kernelspec": {
   "display_name": "virtl_env",
   "language": "python",
   "name": "python3"
  },
  "language_info": {
   "codemirror_mode": {
    "name": "ipython",
    "version": 3
   },
   "file_extension": ".py",
   "mimetype": "text/x-python",
   "name": "python",
   "nbconvert_exporter": "python",
   "pygments_lexer": "ipython3",
   "version": "3.12.2"
  }
 },
 "nbformat": 4,
 "nbformat_minor": 2
}
