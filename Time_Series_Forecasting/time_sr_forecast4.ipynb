{
 "cells": [
  {
   "cell_type": "markdown",
   "metadata": {},
   "source": [
    "ARMA (Auto Regression Moving Average)  "
   ]
  },
  {
   "cell_type": "code",
   "execution_count": 19,
   "metadata": {},
   "outputs": [],
   "source": [
    "import numpy as np \n",
    "import pandas as pd  \n",
    "import matplotlib.pyplot as plt \n",
    "import seaborn as sb \n",
    "%matplotlib inline \n",
    "\n",
    "from statsmodels.tsa.ar_model import AutoReg, ar_select_order  \n",
    "from sklearn.metrics import mean_squared_error "
   ]
  },
  {
   "cell_type": "code",
   "execution_count": 20,
   "metadata": {},
   "outputs": [
    {
     "data": {
      "text/html": [
       "<div>\n",
       "<style scoped>\n",
       "    .dataframe tbody tr th:only-of-type {\n",
       "        vertical-align: middle;\n",
       "    }\n",
       "\n",
       "    .dataframe tbody tr th {\n",
       "        vertical-align: top;\n",
       "    }\n",
       "\n",
       "    .dataframe thead th {\n",
       "        text-align: right;\n",
       "    }\n",
       "</style>\n",
       "<table border=\"1\" class=\"dataframe\">\n",
       "  <thead>\n",
       "    <tr style=\"text-align: right;\">\n",
       "      <th></th>\n",
       "      <th>Date</th>\n",
       "      <th>Temp</th>\n",
       "    </tr>\n",
       "  </thead>\n",
       "  <tbody>\n",
       "    <tr>\n",
       "      <th>0</th>\n",
       "      <td>1981-01-01</td>\n",
       "      <td>20.7</td>\n",
       "    </tr>\n",
       "    <tr>\n",
       "      <th>1</th>\n",
       "      <td>1981-01-02</td>\n",
       "      <td>17.9</td>\n",
       "    </tr>\n",
       "    <tr>\n",
       "      <th>2</th>\n",
       "      <td>1981-01-03</td>\n",
       "      <td>18.8</td>\n",
       "    </tr>\n",
       "    <tr>\n",
       "      <th>3</th>\n",
       "      <td>1981-01-04</td>\n",
       "      <td>14.6</td>\n",
       "    </tr>\n",
       "    <tr>\n",
       "      <th>4</th>\n",
       "      <td>1981-01-05</td>\n",
       "      <td>15.8</td>\n",
       "    </tr>\n",
       "    <tr>\n",
       "      <th>...</th>\n",
       "      <td>...</td>\n",
       "      <td>...</td>\n",
       "    </tr>\n",
       "    <tr>\n",
       "      <th>3645</th>\n",
       "      <td>1990-12-27</td>\n",
       "      <td>14.0</td>\n",
       "    </tr>\n",
       "    <tr>\n",
       "      <th>3646</th>\n",
       "      <td>1990-12-28</td>\n",
       "      <td>13.6</td>\n",
       "    </tr>\n",
       "    <tr>\n",
       "      <th>3647</th>\n",
       "      <td>1990-12-29</td>\n",
       "      <td>13.5</td>\n",
       "    </tr>\n",
       "    <tr>\n",
       "      <th>3648</th>\n",
       "      <td>1990-12-30</td>\n",
       "      <td>15.7</td>\n",
       "    </tr>\n",
       "    <tr>\n",
       "      <th>3649</th>\n",
       "      <td>1990-12-31</td>\n",
       "      <td>13.0</td>\n",
       "    </tr>\n",
       "  </tbody>\n",
       "</table>\n",
       "<p>3650 rows × 2 columns</p>\n",
       "</div>"
      ],
      "text/plain": [
       "            Date  Temp\n",
       "0     1981-01-01  20.7\n",
       "1     1981-01-02  17.9\n",
       "2     1981-01-03  18.8\n",
       "3     1981-01-04  14.6\n",
       "4     1981-01-05  15.8\n",
       "...          ...   ...\n",
       "3645  1990-12-27  14.0\n",
       "3646  1990-12-28  13.6\n",
       "3647  1990-12-29  13.5\n",
       "3648  1990-12-30  15.7\n",
       "3649  1990-12-31  13.0\n",
       "\n",
       "[3650 rows x 2 columns]"
      ]
     },
     "execution_count": 20,
     "metadata": {},
     "output_type": "execute_result"
    }
   ],
   "source": [
    "# min_tmp = pd.read_csv('../Datasets/daily-min-temperatures.csv', header=0, parse_dates=[0], index_col=0) \n",
    "# min_tmp = pd.read_csv('../Datasets/daily-min-temperatures.csv', header=0, parse_dates=[0])  \n",
    "\n",
    "# min_tmp = pd.read_csv('../Datasets/daily-min-temperatures.csv', header=0, parse_dates=['Date'], date_format=dateparse)   \n",
    "\n",
    "dateparse = lambda x: pd.to_datetime(x, format='%Y-%m-%d') \n",
    "min_tmp = pd.read_csv('../Datasets/daily-min-temperatures.csv', header=0, parse_dates=[0], date_format=dateparse)   \n",
    "min_tmp "
   ]
  },
  {
   "cell_type": "code",
   "execution_count": 21,
   "metadata": {},
   "outputs": [
    {
     "name": "stdout",
     "output_type": "stream",
     "text": [
      "Converted index to DateTime format.\n"
     ]
    }
   ],
   "source": [
    "if not isinstance(min_tmp.index, pd.DatetimeIndex):\n",
    "    min_tmp.index = pd.to_datetime(min_tmp.index)\n",
    "    print('Converted index to DateTime format.') \n",
    "\n",
    "# min_tmp = min_tmp.asfreq('D') \n",
    "# min_tmp = min_tmp.asfreq('H')  \n",
    "# min_tmp "
   ]
  },
  {
   "cell_type": "markdown",
   "metadata": {},
   "source": [
    "# Moving Average -  \n",
    "\n",
    "Let, actual value (at time t+1) = y  \n",
    "     predicted value (at time t+1) = y_ + residuals  \n",
    "\n",
    "y = y_ + residuals  (residual = forecasting error = y - y_)  \n",
    "Residuals should be white noise with no patterns and seasonality.  \n",
    "\n",
    "Our model may leave info in residuals too. So to extract the info, we run a forecating model on residuals. The 2nd level model for residuals will identify and capture in the new forecast and this new forecast will be added to our original forecast for better forecast.  \n",
    "\n",
    "use of AutoReg with moving avg. is also called ARMA method.  "
   ]
  },
  {
   "cell_type": "code",
   "execution_count": 22,
   "metadata": {},
   "outputs": [
    {
     "data": {
      "text/html": [
       "<div>\n",
       "<style scoped>\n",
       "    .dataframe tbody tr th:only-of-type {\n",
       "        vertical-align: middle;\n",
       "    }\n",
       "\n",
       "    .dataframe tbody tr th {\n",
       "        vertical-align: top;\n",
       "    }\n",
       "\n",
       "    .dataframe thead th {\n",
       "        text-align: right;\n",
       "    }\n",
       "</style>\n",
       "<table border=\"1\" class=\"dataframe\">\n",
       "  <thead>\n",
       "    <tr style=\"text-align: right;\">\n",
       "      <th></th>\n",
       "      <th>Date</th>\n",
       "      <th>Temp</th>\n",
       "      <th>t</th>\n",
       "    </tr>\n",
       "  </thead>\n",
       "  <tbody>\n",
       "    <tr>\n",
       "      <th>1970-01-01 00:00:00.000000000</th>\n",
       "      <td>1981-01-01</td>\n",
       "      <td>20.7</td>\n",
       "      <td>NaN</td>\n",
       "    </tr>\n",
       "    <tr>\n",
       "      <th>1970-01-01 00:00:00.000000001</th>\n",
       "      <td>1981-01-02</td>\n",
       "      <td>17.9</td>\n",
       "      <td>20.7</td>\n",
       "    </tr>\n",
       "    <tr>\n",
       "      <th>1970-01-01 00:00:00.000000002</th>\n",
       "      <td>1981-01-03</td>\n",
       "      <td>18.8</td>\n",
       "      <td>17.9</td>\n",
       "    </tr>\n",
       "    <tr>\n",
       "      <th>1970-01-01 00:00:00.000000003</th>\n",
       "      <td>1981-01-04</td>\n",
       "      <td>14.6</td>\n",
       "      <td>18.8</td>\n",
       "    </tr>\n",
       "    <tr>\n",
       "      <th>1970-01-01 00:00:00.000000004</th>\n",
       "      <td>1981-01-05</td>\n",
       "      <td>15.8</td>\n",
       "      <td>14.6</td>\n",
       "    </tr>\n",
       "    <tr>\n",
       "      <th>...</th>\n",
       "      <td>...</td>\n",
       "      <td>...</td>\n",
       "      <td>...</td>\n",
       "    </tr>\n",
       "    <tr>\n",
       "      <th>1970-01-01 00:00:00.000003645</th>\n",
       "      <td>1990-12-27</td>\n",
       "      <td>14.0</td>\n",
       "      <td>14.6</td>\n",
       "    </tr>\n",
       "    <tr>\n",
       "      <th>1970-01-01 00:00:00.000003646</th>\n",
       "      <td>1990-12-28</td>\n",
       "      <td>13.6</td>\n",
       "      <td>14.0</td>\n",
       "    </tr>\n",
       "    <tr>\n",
       "      <th>1970-01-01 00:00:00.000003647</th>\n",
       "      <td>1990-12-29</td>\n",
       "      <td>13.5</td>\n",
       "      <td>13.6</td>\n",
       "    </tr>\n",
       "    <tr>\n",
       "      <th>1970-01-01 00:00:00.000003648</th>\n",
       "      <td>1990-12-30</td>\n",
       "      <td>15.7</td>\n",
       "      <td>13.5</td>\n",
       "    </tr>\n",
       "    <tr>\n",
       "      <th>1970-01-01 00:00:00.000003649</th>\n",
       "      <td>1990-12-31</td>\n",
       "      <td>13.0</td>\n",
       "      <td>15.7</td>\n",
       "    </tr>\n",
       "  </tbody>\n",
       "</table>\n",
       "<p>3650 rows × 3 columns</p>\n",
       "</div>"
      ],
      "text/plain": [
       "                                     Date  Temp     t\n",
       "1970-01-01 00:00:00.000000000  1981-01-01  20.7   NaN\n",
       "1970-01-01 00:00:00.000000001  1981-01-02  17.9  20.7\n",
       "1970-01-01 00:00:00.000000002  1981-01-03  18.8  17.9\n",
       "1970-01-01 00:00:00.000000003  1981-01-04  14.6  18.8\n",
       "1970-01-01 00:00:00.000000004  1981-01-05  15.8  14.6\n",
       "...                                   ...   ...   ...\n",
       "1970-01-01 00:00:00.000003645  1990-12-27  14.0  14.6\n",
       "1970-01-01 00:00:00.000003646  1990-12-28  13.6  14.0\n",
       "1970-01-01 00:00:00.000003647  1990-12-29  13.5  13.6\n",
       "1970-01-01 00:00:00.000003648  1990-12-30  15.7  13.5\n",
       "1970-01-01 00:00:00.000003649  1990-12-31  13.0  15.7\n",
       "\n",
       "[3650 rows x 3 columns]"
      ]
     },
     "execution_count": 22,
     "metadata": {},
     "output_type": "execute_result"
    }
   ],
   "source": [
    "min_tmp['t'] = min_tmp['Temp'].shift(1)        # this column is the lagged column \n",
    "min_tmp "
   ]
  },
  {
   "cell_type": "code",
   "execution_count": 23,
   "metadata": {},
   "outputs": [
    {
     "data": {
      "text/html": [
       "<div>\n",
       "<style scoped>\n",
       "    .dataframe tbody tr th:only-of-type {\n",
       "        vertical-align: middle;\n",
       "    }\n",
       "\n",
       "    .dataframe tbody tr th {\n",
       "        vertical-align: top;\n",
       "    }\n",
       "\n",
       "    .dataframe thead th {\n",
       "        text-align: right;\n",
       "    }\n",
       "</style>\n",
       "<table border=\"1\" class=\"dataframe\">\n",
       "  <thead>\n",
       "    <tr style=\"text-align: right;\">\n",
       "      <th></th>\n",
       "      <th>Date</th>\n",
       "      <th>Temp</th>\n",
       "      <th>t</th>\n",
       "      <th>Resid</th>\n",
       "    </tr>\n",
       "  </thead>\n",
       "  <tbody>\n",
       "    <tr>\n",
       "      <th>1970-01-01 00:00:00.000000000</th>\n",
       "      <td>1981-01-01</td>\n",
       "      <td>20.7</td>\n",
       "      <td>NaN</td>\n",
       "      <td>NaN</td>\n",
       "    </tr>\n",
       "    <tr>\n",
       "      <th>1970-01-01 00:00:00.000000001</th>\n",
       "      <td>1981-01-02</td>\n",
       "      <td>17.9</td>\n",
       "      <td>20.7</td>\n",
       "      <td>-2.8</td>\n",
       "    </tr>\n",
       "    <tr>\n",
       "      <th>1970-01-01 00:00:00.000000002</th>\n",
       "      <td>1981-01-03</td>\n",
       "      <td>18.8</td>\n",
       "      <td>17.9</td>\n",
       "      <td>0.9</td>\n",
       "    </tr>\n",
       "    <tr>\n",
       "      <th>1970-01-01 00:00:00.000000003</th>\n",
       "      <td>1981-01-04</td>\n",
       "      <td>14.6</td>\n",
       "      <td>18.8</td>\n",
       "      <td>-4.2</td>\n",
       "    </tr>\n",
       "    <tr>\n",
       "      <th>1970-01-01 00:00:00.000000004</th>\n",
       "      <td>1981-01-05</td>\n",
       "      <td>15.8</td>\n",
       "      <td>14.6</td>\n",
       "      <td>1.2</td>\n",
       "    </tr>\n",
       "    <tr>\n",
       "      <th>...</th>\n",
       "      <td>...</td>\n",
       "      <td>...</td>\n",
       "      <td>...</td>\n",
       "      <td>...</td>\n",
       "    </tr>\n",
       "    <tr>\n",
       "      <th>1970-01-01 00:00:00.000003645</th>\n",
       "      <td>1990-12-27</td>\n",
       "      <td>14.0</td>\n",
       "      <td>14.6</td>\n",
       "      <td>-0.6</td>\n",
       "    </tr>\n",
       "    <tr>\n",
       "      <th>1970-01-01 00:00:00.000003646</th>\n",
       "      <td>1990-12-28</td>\n",
       "      <td>13.6</td>\n",
       "      <td>14.0</td>\n",
       "      <td>-0.4</td>\n",
       "    </tr>\n",
       "    <tr>\n",
       "      <th>1970-01-01 00:00:00.000003647</th>\n",
       "      <td>1990-12-29</td>\n",
       "      <td>13.5</td>\n",
       "      <td>13.6</td>\n",
       "      <td>-0.1</td>\n",
       "    </tr>\n",
       "    <tr>\n",
       "      <th>1970-01-01 00:00:00.000003648</th>\n",
       "      <td>1990-12-30</td>\n",
       "      <td>15.7</td>\n",
       "      <td>13.5</td>\n",
       "      <td>2.2</td>\n",
       "    </tr>\n",
       "    <tr>\n",
       "      <th>1970-01-01 00:00:00.000003649</th>\n",
       "      <td>1990-12-31</td>\n",
       "      <td>13.0</td>\n",
       "      <td>15.7</td>\n",
       "      <td>-2.7</td>\n",
       "    </tr>\n",
       "  </tbody>\n",
       "</table>\n",
       "<p>3650 rows × 4 columns</p>\n",
       "</div>"
      ],
      "text/plain": [
       "                                     Date  Temp     t  Resid\n",
       "1970-01-01 00:00:00.000000000  1981-01-01  20.7   NaN    NaN\n",
       "1970-01-01 00:00:00.000000001  1981-01-02  17.9  20.7   -2.8\n",
       "1970-01-01 00:00:00.000000002  1981-01-03  18.8  17.9    0.9\n",
       "1970-01-01 00:00:00.000000003  1981-01-04  14.6  18.8   -4.2\n",
       "1970-01-01 00:00:00.000000004  1981-01-05  15.8  14.6    1.2\n",
       "...                                   ...   ...   ...    ...\n",
       "1970-01-01 00:00:00.000003645  1990-12-27  14.0  14.6   -0.6\n",
       "1970-01-01 00:00:00.000003646  1990-12-28  13.6  14.0   -0.4\n",
       "1970-01-01 00:00:00.000003647  1990-12-29  13.5  13.6   -0.1\n",
       "1970-01-01 00:00:00.000003648  1990-12-30  15.7  13.5    2.2\n",
       "1970-01-01 00:00:00.000003649  1990-12-31  13.0  15.7   -2.7\n",
       "\n",
       "[3650 rows x 4 columns]"
      ]
     },
     "execution_count": 23,
     "metadata": {},
     "output_type": "execute_result"
    }
   ],
   "source": [
    "min_tmp['Resid'] = min_tmp['Temp'] - min_tmp['t'] \n",
    "min_tmp "
   ]
  },
  {
   "cell_type": "markdown",
   "metadata": {},
   "source": [
    "Test and Train split - "
   ]
  },
  {
   "cell_type": "code",
   "execution_count": 24,
   "metadata": {},
   "outputs": [],
   "source": [
    "# Series data on the Residual values \n",
    "\n",
    "train, test = min_tmp.Resid[1: (min_tmp.shape[0]-7)], min_tmp.Resid[(min_tmp.shape[0]-7):]  "
   ]
  },
  {
   "cell_type": "code",
   "execution_count": 25,
   "metadata": {},
   "outputs": [
    {
     "data": {
      "text/plain": [
       "1970-01-01 00:00:00.000000001   -2.8\n",
       "1970-01-01 00:00:00.000000002    0.9\n",
       "1970-01-01 00:00:00.000000003   -4.2\n",
       "1970-01-01 00:00:00.000000004    1.2\n",
       "1970-01-01 00:00:00.000000005    0.0\n",
       "                                ... \n",
       "1970-01-01 00:00:00.000003638    0.7\n",
       "1970-01-01 00:00:00.000003639   -2.3\n",
       "1970-01-01 00:00:00.000003640    0.1\n",
       "1970-01-01 00:00:00.000003641    0.7\n",
       "1970-01-01 00:00:00.000003642   -3.9\n",
       "Name: Resid, Length: 3642, dtype: float64"
      ]
     },
     "execution_count": 25,
     "metadata": {},
     "output_type": "execute_result"
    }
   ],
   "source": [
    "train "
   ]
  },
  {
   "cell_type": "code",
   "execution_count": 26,
   "metadata": {},
   "outputs": [
    {
     "data": {
      "text/plain": [
       "1970-01-01 00:00:00.000003643    2.9\n",
       "1970-01-01 00:00:00.000003644    1.7\n",
       "1970-01-01 00:00:00.000003645   -0.6\n",
       "1970-01-01 00:00:00.000003646   -0.4\n",
       "1970-01-01 00:00:00.000003647   -0.1\n",
       "1970-01-01 00:00:00.000003648    2.2\n",
       "1970-01-01 00:00:00.000003649   -2.7\n",
       "Name: Resid, dtype: float64"
      ]
     },
     "execution_count": 26,
     "metadata": {},
     "output_type": "execute_result"
    }
   ],
   "source": [
    "test "
   ]
  },
  {
   "cell_type": "code",
   "execution_count": 27,
   "metadata": {},
   "outputs": [
    {
     "name": "stdout",
     "output_type": "stream",
     "text": [
      " y_train size : (3642,) \n",
      " y_test size : (7,)\n",
      " y_train : \n",
      "1970-01-01 00:00:00.000000001    17.9\n",
      "1970-01-01 00:00:00.000000002    18.8\n",
      "1970-01-01 00:00:00.000000003    14.6\n",
      "1970-01-01 00:00:00.000000004    15.8\n",
      "1970-01-01 00:00:00.000000005    15.8\n",
      "                                 ... \n",
      "1970-01-01 00:00:00.000003638    15.4\n",
      "1970-01-01 00:00:00.000003639    13.1\n",
      "1970-01-01 00:00:00.000003640    13.2\n",
      "1970-01-01 00:00:00.000003641    13.9\n",
      "1970-01-01 00:00:00.000003642    10.0\n",
      "Name: Temp, Length: 3642, dtype: float64 \n",
      " y_test : \n",
      "1970-01-01 00:00:00.000003643    12.9\n",
      "1970-01-01 00:00:00.000003644    14.6\n",
      "1970-01-01 00:00:00.000003645    14.0\n",
      "1970-01-01 00:00:00.000003646    13.6\n",
      "1970-01-01 00:00:00.000003647    13.5\n",
      "1970-01-01 00:00:00.000003648    15.7\n",
      "1970-01-01 00:00:00.000003649    13.0\n",
      "Name: Temp, dtype: float64\n",
      " x_train size : (3642,) \n",
      " x_test size : (7,)\n",
      " x_train : \n",
      "1970-01-01 00:00:00.000000001    1981-01-02\n",
      "1970-01-01 00:00:00.000000002    1981-01-03\n",
      "1970-01-01 00:00:00.000000003    1981-01-04\n",
      "1970-01-01 00:00:00.000000004    1981-01-05\n",
      "1970-01-01 00:00:00.000000005    1981-01-06\n",
      "                                    ...    \n",
      "1970-01-01 00:00:00.000003638    1990-12-20\n",
      "1970-01-01 00:00:00.000003639    1990-12-21\n",
      "1970-01-01 00:00:00.000003640    1990-12-22\n",
      "1970-01-01 00:00:00.000003641    1990-12-23\n",
      "1970-01-01 00:00:00.000003642    1990-12-24\n",
      "Name: Date, Length: 3642, dtype: object \n",
      " x_test : \n",
      "1970-01-01 00:00:00.000003643    1990-12-25\n",
      "1970-01-01 00:00:00.000003644    1990-12-26\n",
      "1970-01-01 00:00:00.000003645    1990-12-27\n",
      "1970-01-01 00:00:00.000003646    1990-12-28\n",
      "1970-01-01 00:00:00.000003647    1990-12-29\n",
      "1970-01-01 00:00:00.000003648    1990-12-30\n",
      "1970-01-01 00:00:00.000003649    1990-12-31\n",
      "Name: Date, dtype: object\n"
     ]
    }
   ],
   "source": [
    "train_y, test_y = min_tmp.Temp[1: (min_tmp.shape[0]-7)], min_tmp.Temp[(min_tmp.shape[0]-7):]  \n",
    "train_x, test_x = min_tmp.Date[1: (min_tmp.shape[0]-7)], min_tmp.Date[(min_tmp.shape[0]-7):]  \n",
    "\n",
    "print(f\" y_train size : {train_y.shape} \\n y_test size : {test_y.shape}\") \n",
    "print(f\" y_train : \\n{train_y} \\n y_test : \\n{test_y}\") \n",
    "\n",
    "print(f\" x_train size : {train_x.shape} \\n x_test size : {test_x.shape}\") \n",
    "print(f\" x_train : \\n{train_x} \\n x_test : \\n{test_x}\") "
   ]
  },
  {
   "cell_type": "markdown",
   "metadata": {},
   "source": [
    "Auto-Regression -  "
   ]
  },
  {
   "cell_type": "code",
   "execution_count": 28,
   "metadata": {},
   "outputs": [
    {
     "name": "stdout",
     "output_type": "stream",
     "text": [
      "optimal number of lags : [1, 2, 3, 4, 5, 6, 7, 8, 9, 10]\n",
      "Max OPtimal lags : 10\n"
     ]
    },
    {
     "name": "stderr",
     "output_type": "stream",
     "text": [
      "d:\\Machine_Learning_PY\\virtl_env\\Lib\\site-packages\\statsmodels\\tsa\\base\\tsa_model.py:473: ValueWarning: No frequency information was provided, so inferred frequency ns will be used.\n",
      "  self._init_dates(dates, freq)\n",
      "d:\\Machine_Learning_PY\\virtl_env\\Lib\\site-packages\\statsmodels\\tsa\\base\\tsa_model.py:473: ValueWarning: No frequency information was provided, so inferred frequency ns will be used.\n",
      "  self._init_dates(dates, freq)\n"
     ]
    }
   ],
   "source": [
    "# axlag is less than the number of observations in training data \n",
    "# max_lag = max(10, 29, 30, len(train) - 1)  \n",
    "max_lag = min(10, 29, 30, len(train) - 1)  \n",
    "\n",
    "# Automatically selecting Optimal number of lagged values \n",
    "\n",
    "slct_ord = ar_select_order(train, maxlag=max_lag, ic='aic', seasonal=False) \n",
    "optimal_lags = slct_ord.ar_lags \n",
    "print(f\"optimal number of lags : {optimal_lags}\")  \n",
    "\n",
    "max_optimal_lag = max(optimal_lags) if optimal_lags else 0 \n",
    "print(f\"Max OPtimal lags : {max_optimal_lag}\") "
   ]
  },
  {
   "cell_type": "code",
   "execution_count": 29,
   "metadata": {},
   "outputs": [
    {
     "name": "stderr",
     "output_type": "stream",
     "text": [
      "d:\\Machine_Learning_PY\\virtl_env\\Lib\\site-packages\\statsmodels\\tsa\\base\\tsa_model.py:473: ValueWarning: No frequency information was provided, so inferred frequency ns will be used.\n",
      "  self._init_dates(dates, freq)\n"
     ]
    },
    {
     "data": {
      "text/html": [
       "<table class=\"simpletable\">\n",
       "<caption>AutoReg Model Results</caption>\n",
       "<tr>\n",
       "  <th>Dep. Variable:</th>       <td>Resid</td>      <th>  No. Observations:  </th>   <td>3642</td>   \n",
       "</tr>\n",
       "<tr>\n",
       "  <th>Model:</th>            <td>AutoReg(10)</td>   <th>  Log Likelihood     </th> <td>-8390.385</td>\n",
       "</tr>\n",
       "<tr>\n",
       "  <th>Method:</th>         <td>Conditional MLE</td> <th>  S.D. of innovations</th>   <td>2.438</td>  \n",
       "</tr>\n",
       "<tr>\n",
       "  <th>Date:</th>          <td>Thu, 30 Oct 2025</td> <th>  AIC                </th> <td>16804.771</td>\n",
       "</tr>\n",
       "<tr>\n",
       "  <th>Time:</th>              <td>20:41:35</td>     <th>  BIC                </th> <td>16879.141</td>\n",
       "</tr>\n",
       "<tr>\n",
       "  <th>Sample:</th>           <td>01-01-1970</td>    <th>  HQIC               </th> <td>16831.263</td>\n",
       "</tr>\n",
       "<tr>\n",
       "  <th></th>                 <td>- 01-01-1970</td>   <th>                     </th>     <td> </td>    \n",
       "</tr>\n",
       "</table>\n",
       "<table class=\"simpletable\">\n",
       "<tr>\n",
       "      <td></td>         <th>coef</th>     <th>std err</th>      <th>z</th>      <th>P>|z|</th>  <th>[0.025</th>    <th>0.975]</th>  \n",
       "</tr>\n",
       "<tr>\n",
       "  <th>const</th>     <td>   -0.0044</td> <td>    0.040</td> <td>   -0.108</td> <td> 0.914</td> <td>   -0.084</td> <td>    0.075</td>\n",
       "</tr>\n",
       "<tr>\n",
       "  <th>Resid.L1</th>  <td>   -0.3791</td> <td>    0.017</td> <td>  -22.883</td> <td> 0.000</td> <td>   -0.412</td> <td>   -0.347</td>\n",
       "</tr>\n",
       "<tr>\n",
       "  <th>Resid.L2</th>  <td>   -0.4592</td> <td>    0.018</td> <td>  -25.973</td> <td> 0.000</td> <td>   -0.494</td> <td>   -0.425</td>\n",
       "</tr>\n",
       "<tr>\n",
       "  <th>Resid.L3</th>  <td>   -0.3911</td> <td>    0.019</td> <td>  -20.452</td> <td> 0.000</td> <td>   -0.429</td> <td>   -0.354</td>\n",
       "</tr>\n",
       "<tr>\n",
       "  <th>Resid.L4</th>  <td>   -0.3365</td> <td>    0.020</td> <td>  -16.822</td> <td> 0.000</td> <td>   -0.376</td> <td>   -0.297</td>\n",
       "</tr>\n",
       "<tr>\n",
       "  <th>Resid.L5</th>  <td>   -0.2775</td> <td>    0.020</td> <td>  -13.597</td> <td> 0.000</td> <td>   -0.318</td> <td>   -0.238</td>\n",
       "</tr>\n",
       "<tr>\n",
       "  <th>Resid.L6</th>  <td>   -0.2316</td> <td>    0.020</td> <td>  -11.349</td> <td> 0.000</td> <td>   -0.272</td> <td>   -0.192</td>\n",
       "</tr>\n",
       "<tr>\n",
       "  <th>Resid.L7</th>  <td>   -0.1690</td> <td>    0.020</td> <td>   -8.448</td> <td> 0.000</td> <td>   -0.208</td> <td>   -0.130</td>\n",
       "</tr>\n",
       "<tr>\n",
       "  <th>Resid.L8</th>  <td>   -0.1330</td> <td>    0.019</td> <td>   -6.955</td> <td> 0.000</td> <td>   -0.170</td> <td>   -0.095</td>\n",
       "</tr>\n",
       "<tr>\n",
       "  <th>Resid.L9</th>  <td>   -0.0723</td> <td>    0.018</td> <td>   -4.089</td> <td> 0.000</td> <td>   -0.107</td> <td>   -0.038</td>\n",
       "</tr>\n",
       "<tr>\n",
       "  <th>Resid.L10</th> <td>   -0.0606</td> <td>    0.017</td> <td>   -3.661</td> <td> 0.000</td> <td>   -0.093</td> <td>   -0.028</td>\n",
       "</tr>\n",
       "</table>\n",
       "<table class=\"simpletable\">\n",
       "<caption>Roots</caption>\n",
       "<tr>\n",
       "    <td></td>    <th>            Real</th>  <th>         Imaginary</th> <th>         Modulus</th>  <th>        Frequency</th>\n",
       "</tr>\n",
       "<tr>\n",
       "  <th>AR.1</th>  <td>           1.0087</td> <td>          -0.7095j</td> <td>           1.2332</td> <td>          -0.0976</td>\n",
       "</tr>\n",
       "<tr>\n",
       "  <th>AR.2</th>  <td>           1.0087</td> <td>          +0.7095j</td> <td>           1.2332</td> <td>           0.0976</td>\n",
       "</tr>\n",
       "<tr>\n",
       "  <th>AR.3</th>  <td>           0.5796</td> <td>          -1.1803j</td> <td>           1.3150</td> <td>          -0.1773</td>\n",
       "</tr>\n",
       "<tr>\n",
       "  <th>AR.4</th>  <td>           0.5796</td> <td>          +1.1803j</td> <td>           1.3150</td> <td>           0.1773</td>\n",
       "</tr>\n",
       "<tr>\n",
       "  <th>AR.5</th>  <td>          -1.2731</td> <td>          -0.4332j</td> <td>           1.3448</td> <td>          -0.4478</td>\n",
       "</tr>\n",
       "<tr>\n",
       "  <th>AR.6</th>  <td>          -1.2731</td> <td>          +0.4332j</td> <td>           1.3448</td> <td>           0.4478</td>\n",
       "</tr>\n",
       "<tr>\n",
       "  <th>AR.7</th>  <td>          -0.8168</td> <td>          -1.1050j</td> <td>           1.3741</td> <td>          -0.3513</td>\n",
       "</tr>\n",
       "<tr>\n",
       "  <th>AR.8</th>  <td>          -0.8168</td> <td>          +1.1050j</td> <td>           1.3741</td> <td>           0.3513</td>\n",
       "</tr>\n",
       "<tr>\n",
       "  <th>AR.9</th>  <td>          -0.0946</td> <td>          -1.3523j</td> <td>           1.3556</td> <td>          -0.2611</td>\n",
       "</tr>\n",
       "<tr>\n",
       "  <th>AR.10</th> <td>          -0.0946</td> <td>          +1.3523j</td> <td>           1.3556</td> <td>           0.2611</td>\n",
       "</tr>\n",
       "</table>"
      ],
      "text/latex": [
       "\\begin{center}\n",
       "\\begin{tabular}{lclc}\n",
       "\\toprule\n",
       "\\textbf{Dep. Variable:} &           Resid           & \\textbf{  No. Observations:  } &            3642            \\\\\n",
       "\\textbf{Model:}         &        AutoReg(10)        & \\textbf{  Log Likelihood     } &         -8390.385          \\\\\n",
       "\\textbf{Method:}        &      Conditional MLE      & \\textbf{  S.D. of innovations} &           2.438            \\\\\n",
       "\\textbf{Date:}          &      Thu, 30 Oct 2025     & \\textbf{  AIC                } &         16804.771          \\\\\n",
       "\\textbf{Time:}          &          20:41:35         & \\textbf{  BIC                } &         16879.141          \\\\\n",
       "\\textbf{Sample:}        &         01-01-1970        & \\textbf{  HQIC               } &         16831.263          \\\\\n",
       "\\textbf{}               &        - 01-01-1970       & \\textbf{                     } &                            \\\\\n",
       "\\bottomrule\n",
       "\\end{tabular}\n",
       "\\begin{tabular}{lcccccc}\n",
       "                   & \\textbf{coef} & \\textbf{std err} & \\textbf{z} & \\textbf{P$> |$z$|$} & \\textbf{[0.025} & \\textbf{0.975]}  \\\\\n",
       "\\midrule\n",
       "\\textbf{const}     &      -0.0044  &        0.040     &    -0.108  &         0.914        &       -0.084    &        0.075     \\\\\n",
       "\\textbf{Resid.L1}  &      -0.3791  &        0.017     &   -22.883  &         0.000        &       -0.412    &       -0.347     \\\\\n",
       "\\textbf{Resid.L2}  &      -0.4592  &        0.018     &   -25.973  &         0.000        &       -0.494    &       -0.425     \\\\\n",
       "\\textbf{Resid.L3}  &      -0.3911  &        0.019     &   -20.452  &         0.000        &       -0.429    &       -0.354     \\\\\n",
       "\\textbf{Resid.L4}  &      -0.3365  &        0.020     &   -16.822  &         0.000        &       -0.376    &       -0.297     \\\\\n",
       "\\textbf{Resid.L5}  &      -0.2775  &        0.020     &   -13.597  &         0.000        &       -0.318    &       -0.238     \\\\\n",
       "\\textbf{Resid.L6}  &      -0.2316  &        0.020     &   -11.349  &         0.000        &       -0.272    &       -0.192     \\\\\n",
       "\\textbf{Resid.L7}  &      -0.1690  &        0.020     &    -8.448  &         0.000        &       -0.208    &       -0.130     \\\\\n",
       "\\textbf{Resid.L8}  &      -0.1330  &        0.019     &    -6.955  &         0.000        &       -0.170    &       -0.095     \\\\\n",
       "\\textbf{Resid.L9}  &      -0.0723  &        0.018     &    -4.089  &         0.000        &       -0.107    &       -0.038     \\\\\n",
       "\\textbf{Resid.L10} &      -0.0606  &        0.017     &    -3.661  &         0.000        &       -0.093    &       -0.028     \\\\\n",
       "\\bottomrule\n",
       "\\end{tabular}\n",
       "\\begin{tabular}{lcccc}\n",
       "               & \\textbf{            Real} & \\textbf{         Imaginary} & \\textbf{         Modulus} & \\textbf{        Frequency}  \\\\\n",
       "\\midrule\n",
       "\\textbf{AR.1}  &                1.0087     &                -0.7095j     &                1.2332     &               -0.0976       \\\\\n",
       "\\textbf{AR.2}  &                1.0087     &                +0.7095j     &                1.2332     &                0.0976       \\\\\n",
       "\\textbf{AR.3}  &                0.5796     &                -1.1803j     &                1.3150     &               -0.1773       \\\\\n",
       "\\textbf{AR.4}  &                0.5796     &                +1.1803j     &                1.3150     &                0.1773       \\\\\n",
       "\\textbf{AR.5}  &               -1.2731     &                -0.4332j     &                1.3448     &               -0.4478       \\\\\n",
       "\\textbf{AR.6}  &               -1.2731     &                +0.4332j     &                1.3448     &                0.4478       \\\\\n",
       "\\textbf{AR.7}  &               -0.8168     &                -1.1050j     &                1.3741     &               -0.3513       \\\\\n",
       "\\textbf{AR.8}  &               -0.8168     &                +1.1050j     &                1.3741     &                0.3513       \\\\\n",
       "\\textbf{AR.9}  &               -0.0946     &                -1.3523j     &                1.3556     &               -0.2611       \\\\\n",
       "\\textbf{AR.10} &               -0.0946     &                +1.3523j     &                1.3556     &                0.2611       \\\\\n",
       "\\bottomrule\n",
       "\\end{tabular}\n",
       "%\\caption{AutoReg Model Results}\n",
       "\\end{center}"
      ],
      "text/plain": [
       "<class 'statsmodels.iolib.summary.Summary'>\n",
       "\"\"\"\n",
       "                            AutoReg Model Results                             \n",
       "==============================================================================\n",
       "Dep. Variable:                  Resid   No. Observations:                 3642\n",
       "Model:                    AutoReg(10)   Log Likelihood               -8390.385\n",
       "Method:               Conditional MLE   S.D. of innovations              2.438\n",
       "Date:                Thu, 30 Oct 2025   AIC                          16804.771\n",
       "Time:                        20:41:35   BIC                          16879.141\n",
       "Sample:                    01-01-1970   HQIC                         16831.263\n",
       "                         - 01-01-1970                                         \n",
       "==============================================================================\n",
       "                 coef    std err          z      P>|z|      [0.025      0.975]\n",
       "------------------------------------------------------------------------------\n",
       "const         -0.0044      0.040     -0.108      0.914      -0.084       0.075\n",
       "Resid.L1      -0.3791      0.017    -22.883      0.000      -0.412      -0.347\n",
       "Resid.L2      -0.4592      0.018    -25.973      0.000      -0.494      -0.425\n",
       "Resid.L3      -0.3911      0.019    -20.452      0.000      -0.429      -0.354\n",
       "Resid.L4      -0.3365      0.020    -16.822      0.000      -0.376      -0.297\n",
       "Resid.L5      -0.2775      0.020    -13.597      0.000      -0.318      -0.238\n",
       "Resid.L6      -0.2316      0.020    -11.349      0.000      -0.272      -0.192\n",
       "Resid.L7      -0.1690      0.020     -8.448      0.000      -0.208      -0.130\n",
       "Resid.L8      -0.1330      0.019     -6.955      0.000      -0.170      -0.095\n",
       "Resid.L9      -0.0723      0.018     -4.089      0.000      -0.107      -0.038\n",
       "Resid.L10     -0.0606      0.017     -3.661      0.000      -0.093      -0.028\n",
       "                                    Roots                                     \n",
       "==============================================================================\n",
       "                   Real          Imaginary           Modulus         Frequency\n",
       "------------------------------------------------------------------------------\n",
       "AR.1             1.0087           -0.7095j            1.2332           -0.0976\n",
       "AR.2             1.0087           +0.7095j            1.2332            0.0976\n",
       "AR.3             0.5796           -1.1803j            1.3150           -0.1773\n",
       "AR.4             0.5796           +1.1803j            1.3150            0.1773\n",
       "AR.5            -1.2731           -0.4332j            1.3448           -0.4478\n",
       "AR.6            -1.2731           +0.4332j            1.3448            0.4478\n",
       "AR.7            -0.8168           -1.1050j            1.3741           -0.3513\n",
       "AR.8            -0.8168           +1.1050j            1.3741            0.3513\n",
       "AR.9            -0.0946           -1.3523j            1.3556           -0.2611\n",
       "AR.10           -0.0946           +1.3523j            1.3556            0.2611\n",
       "------------------------------------------------------------------------------\n",
       "\"\"\""
      ]
     },
     "execution_count": 29,
     "metadata": {},
     "output_type": "execute_result"
    }
   ],
   "source": [
    "# train = train[max_optimal_lag:]  \n",
    "model = AutoReg(train, lags=max_optimal_lag)     \n",
    "model_fit = model.fit() \n",
    "model_fit.summary()  "
   ]
  },
  {
   "cell_type": "code",
   "execution_count": 30,
   "metadata": {},
   "outputs": [
    {
     "data": {
      "text/plain": [
       "const       -0.004375\n",
       "Resid.L1    -0.379108\n",
       "Resid.L2    -0.459239\n",
       "Resid.L3    -0.391141\n",
       "Resid.L4    -0.336486\n",
       "Resid.L5    -0.277506\n",
       "Resid.L6    -0.231598\n",
       "Resid.L7    -0.168991\n",
       "Resid.L8    -0.132970\n",
       "Resid.L9    -0.072253\n",
       "Resid.L10   -0.060604\n",
       "dtype: float64"
      ]
     },
     "execution_count": 30,
     "metadata": {},
     "output_type": "execute_result"
    }
   ],
   "source": [
    "model_fit.params "
   ]
  },
  {
   "cell_type": "markdown",
   "metadata": {},
   "source": [
    "Predictions -  "
   ]
  },
  {
   "cell_type": "code",
   "execution_count": 31,
   "metadata": {},
   "outputs": [
    {
     "name": "stderr",
     "output_type": "stream",
     "text": [
      "d:\\Machine_Learning_PY\\virtl_env\\Lib\\site-packages\\statsmodels\\tsa\\deterministic.py:308: UserWarning: Only PeriodIndexes, DatetimeIndexes with a frequency set, RangesIndexes, and Index with a unit increment support extending. The index is set will contain the position relative to the data length.\n",
      "  fcast_index = self._extend_index(index, steps, forecast_index)\n"
     ]
    },
    {
     "data": {
      "text/plain": [
       "1970-01-01 00:00:00.000003643    1.605666\n",
       "1970-01-01 00:00:00.000003644    1.296514\n",
       "1970-01-01 00:00:00.000003645    0.519072\n",
       "1970-01-01 00:00:00.000003646   -0.053491\n",
       "1970-01-01 00:00:00.000003647    0.040144\n",
       "1970-01-01 00:00:00.000003648   -0.184500\n",
       "1970-01-01 00:00:00.000003649   -0.140112\n",
       "Freq: ns, dtype: float64"
      ]
     },
     "execution_count": 31,
     "metadata": {},
     "output_type": "execute_result"
    }
   ],
   "source": [
    "\n",
    "pred_resid = model_fit.predict(start=len(train), end=(len(train) + len(test) - 1)) \n",
    "pred_resid \n",
    "# Predicting forecast residuals for the next values in the time series "
   ]
  },
  {
   "cell_type": "code",
   "execution_count": 32,
   "metadata": {},
   "outputs": [
    {
     "data": {
      "text/plain": [
       "1970-01-01 00:00:00.000003643    11.605666\n",
       "1970-01-01 00:00:00.000003644    14.196514\n",
       "1970-01-01 00:00:00.000003645    15.119072\n",
       "1970-01-01 00:00:00.000003646    13.946509\n",
       "1970-01-01 00:00:00.000003647    13.640144\n",
       "1970-01-01 00:00:00.000003648    13.315500\n",
       "1970-01-01 00:00:00.000003649    15.559888\n",
       "dtype: float64"
      ]
     },
     "execution_count": 32,
     "metadata": {},
     "output_type": "execute_result"
    }
   ],
   "source": [
    "pred = min_tmp.t[(min_tmp.shape[0]-7):] + pred_resid \n",
    "pred \n",
    "# Forecast naive values "
   ]
  },
  {
   "cell_type": "code",
   "execution_count": 33,
   "metadata": {},
   "outputs": [
    {
     "name": "stdout",
     "output_type": "stream",
     "text": [
      "Mean Squared Error (Test) : 2.2098571105106966\n"
     ]
    }
   ],
   "source": [
    "mse_test = mean_squared_error(test_y, pred) \n",
    "print(f\"Mean Squared Error (Test) : {mse_test}\") "
   ]
  },
  {
   "cell_type": "code",
   "execution_count": 34,
   "metadata": {},
   "outputs": [
    {
     "data": {
      "text/plain": [
       "Index(['1970-01-01', '1970-01-01', '1970-01-01', '1970-01-01', '1970-01-01',\n",
       "       '1970-01-01', '1970-01-01'],\n",
       "      dtype='object')"
      ]
     },
     "execution_count": 34,
     "metadata": {},
     "output_type": "execute_result"
    }
   ],
   "source": [
    "test.index.strftime('%Y-%m-%d') "
   ]
  },
  {
   "cell_type": "code",
   "execution_count": 35,
   "metadata": {},
   "outputs": [
    {
     "data": {
      "image/png": "[encoded data removed]",
      "text/plain": [
       "<Figure size 640x480 with 1 Axes>"
      ]
     },
     "metadata": {},
     "output_type": "display_data"
    }
   ],
   "source": [
    "\n",
    "plt.plot(test_x, test_y, label=\"Actual\") \n",
    "plt.plot(test_x, pred, color='red', linestyle='dashed', label=\"Predicted\")  \n",
    "\n",
    "plt.legend() \n",
    "plt.show() "
   ]
  }
 ],
 "metadata": {
  "kernelspec": {
   "display_name": "virtl_env",
   "language": "python",
   "name": "python3"
  },
  "language_info": {
   "codemirror_mode": {
    "name": "ipython",
    "version": 3
   },
   "file_extension": ".py",
   "mimetype": "text/x-python",
   "name": "python",
   "nbconvert_exporter": "python",
   "pygments_lexer": "ipython3",
   "version": "3.12.2"
  }
 },
 "nbformat": 4,
 "nbformat_minor": 2
}
