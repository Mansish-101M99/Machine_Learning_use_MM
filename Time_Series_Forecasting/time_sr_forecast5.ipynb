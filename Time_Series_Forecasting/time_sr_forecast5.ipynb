{
 "cells": [
  {
   "cell_type": "markdown",
   "metadata": {},
   "source": [
    "Correlation -  \n",
    "Relation between two variables. It is measred using Pearson coefficient which ranges from [-1, +1].  \n",
    "\n",
    "For any given two variables X and Y :  \n",
    "If the coefficient is 1, the realtion between two variables is positive (if X increases/decreases, Y increases/decreases respectively).  \n",
    "If the coefficient is -1, the realtion between two variables is negative (if X decreases/increases, Y increases/decreases respectively).  \n",
    "If the coefficient is 0, there is no realtion between two variables (if X increases/decreases, Y may/maynot show any changes).  \n"
   ]
  },
  {
   "cell_type": "markdown",
   "metadata": {},
   "source": [
    "In Time-Series we take the main series values with its own lagged values for correlation. This is Auto-Correlation.  "
   ]
  },
  {
   "cell_type": "markdown",
   "metadata": {},
   "source": [
    "# Auto Regression Integrated Moving Average (ARIMA) -  \n",
    "\n",
    "Since Auto-Regression and Moving-Average models shouldn't be applied on series with trends and seasonality, this ARIMA model includes the method of differencing (to de-seasonalize and de-trendify data series). It is good for handling trends but not seasonality.  \n",
    "\n",
    "Steps-  \n",
    "-> We 1st remove the trend from series using differencing method. To remove non-linear trend from the series, wee have to do differencing several times.  \n",
    "-> Now we apply auto regression on this new series to get initial set of forecasting.    \n",
    "-> Using the initial forecast we find the residuals and forecast errors. Then we apply moving average method on these residuals to update our forecast.  \n",
    "-> Now we do de-differencing (adding back the lag values to our forecast to add the trend effect).  \n",
    "\n",
    "Parameters-  \n",
    "-> P (Order of Auto-Regression) - How many lag values to choose.  \n",
    "-> D (Order of Integration) - Number of differencing needed.  \n",
    "-> Q (Order of Moving-Average) - Window size of moving average.  \n",
    "\n"
   ]
  },
  {
   "cell_type": "code",
   "execution_count": null,
   "metadata": {},
   "outputs": [],
   "source": [
    "import numpy as np \n",
    "import pandas as pd \n",
    "import matplotlib.pyplot as plt \n",
    "import seaborn as sb \n",
    "\n",
    "from pandas.plotting import autocorrelation_plot "
   ]
  },
  {
   "cell_type": "code",
   "execution_count": null,
   "metadata": {},
   "outputs": [],
   "source": [
    "dateparse = lambda x: pd.to_datetime(x, format='%d-%m') \n",
    "\n",
    "shm_data = pd.read_csv('../Datasets/shampoo.csv', header=0, parse_dates=[0], date_format=dateparse)   \n",
    "shm_data "
   ]
  },
  {
   "cell_type": "code",
   "execution_count": null,
   "metadata": {},
   "outputs": [],
   "source": [
    "shm_data['Sales'].plot() "
   ]
  },
  {
   "cell_type": "markdown",
   "metadata": {},
   "source": [
    "Since this plot states that the trend is polynomial, we will have to use two differencing to make it stationary. (D = 2)   "
   ]
  },
  {
   "cell_type": "markdown",
   "metadata": {},
   "source": [
    "Autocorrelation plot - "
   ]
  },
  {
   "cell_type": "code",
   "execution_count": null,
   "metadata": {},
   "outputs": [],
   "source": [
    "autocorrelation_plot(shm_data['Sales']) "
   ]
  },
  {
   "cell_type": "markdown",
   "metadata": {},
   "source": [
    "For autocorrelation, if the autocorrelation plot is crossing at the confidence interval line, take the X-axis point from the intersection.  \n",
    "(P = 5)  "
   ]
  }
 ],
 "metadata": {
  "kernelspec": {
   "display_name": "virtl_env",
   "language": "python",
   "name": "python3"
  },
  "language_info": {
   "codemirror_mode": {
    "name": "ipython",
    "version": 3
   },
   "file_extension": ".py",
   "mimetype": "text/x-python",
   "name": "python",
   "nbconvert_exporter": "python",
   "pygments_lexer": "ipython3",
   "version": "3.12.2"
  }
 },
 "nbformat": 4,
 "nbformat_minor": 2
}
