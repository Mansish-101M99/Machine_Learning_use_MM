{
 "cells": [
  {
   "cell_type": "markdown",
   "metadata": {},
   "source": [
    "Correlation -  \n",
    "Relation between two variables. It is measred using Pearson coefficient which ranges from [-1, +1].  \n",
    "\n",
    "For any given two variables X and Y :  \n",
    "If the coefficient is 1, the realtion between two variables is positive (if X increases/decreases, Y increases/decreases respectively).  \n",
    "If the coefficient is -1, the realtion between two variables is negative (if X decreases/increases, Y increases/decreases respectively).  \n",
    "If the coefficient is 0, there is no realtion between two variables (if X increases/decreases, Y may/maynot show any changes).  \n"
   ]
  },
  {
   "cell_type": "markdown",
   "metadata": {},
   "source": [
    "In Time-Series we take the main series values with its own lagged values for correlation. This is Auto-Correlation.  "
   ]
  },
  {
   "cell_type": "markdown",
   "metadata": {},
   "source": [
    "# Auto Regression Integrated Moving Average (ARIMA) -  \n",
    "\n",
    "Since Auto-Regression and Moving-Average models shouldn't be applied on series with trends and seasonality, this ARIMA model includes the method of differencing (to de-seasonalize and de-trendify data series). It is good for handling trends but not seasonality.  \n",
    "\n",
    "Steps-  \n",
    "-> We 1st remove the trend from series using differencing method. To remove non-linear trend from the series, wee have to do differencing several times.  \n",
    "-> Now we apply auto regression on this new series to get initial set of forecasting.    \n",
    "-> Using the initial forecast we find the residuals and forecast errors. Then we apply moving average method on these residuals to update our forecast.  \n",
    "-> Now we do de-differencing (adding back the lag values to our forecast to add the trend effect).  \n",
    "\n",
    "Parameters-  \n",
    "-> P (Order of Auto-Regression) - How many lag values to choose.  \n",
    "-> D (Order of Integration) - Number of differencing needed.  \n",
    "-> Q (Order of Moving-Average) - Window size of moving average.  \n",
    "\n"
   ]
  },
  {
   "cell_type": "code",
   "execution_count": 148,
   "metadata": {},
   "outputs": [],
   "source": [
    "import numpy as np \n",
    "import pandas as pd \n",
    "import matplotlib.pyplot as plt \n",
    "import seaborn as sb \n",
    "\n",
    "from datetime import datetime \n",
    "from sklearn.metrics import mean_squared_error\n",
    "\n",
    "from pandas.plotting import autocorrelation_plot \n",
    "from statsmodels.graphics.tsaplots import plot_pacf \n",
    "from statsmodels.tsa.arima.model import ARIMA "
   ]
  },
  {
   "cell_type": "code",
   "execution_count": 149,
   "metadata": {},
   "outputs": [
    {
     "data": {
      "text/html": [
       "<div>\n",
       "<style scoped>\n",
       "    .dataframe tbody tr th:only-of-type {\n",
       "        vertical-align: middle;\n",
       "    }\n",
       "\n",
       "    .dataframe tbody tr th {\n",
       "        vertical-align: top;\n",
       "    }\n",
       "\n",
       "    .dataframe thead th {\n",
       "        text-align: right;\n",
       "    }\n",
       "</style>\n",
       "<table border=\"1\" class=\"dataframe\">\n",
       "  <thead>\n",
       "    <tr style=\"text-align: right;\">\n",
       "      <th></th>\n",
       "      <th>Month</th>\n",
       "      <th>Sales</th>\n",
       "    </tr>\n",
       "  </thead>\n",
       "  <tbody>\n",
       "    <tr>\n",
       "      <th>0</th>\n",
       "      <td>1901-01</td>\n",
       "      <td>266.0</td>\n",
       "    </tr>\n",
       "    <tr>\n",
       "      <th>1</th>\n",
       "      <td>1901-02</td>\n",
       "      <td>145.9</td>\n",
       "    </tr>\n",
       "    <tr>\n",
       "      <th>2</th>\n",
       "      <td>1901-03</td>\n",
       "      <td>183.1</td>\n",
       "    </tr>\n",
       "    <tr>\n",
       "      <th>3</th>\n",
       "      <td>1901-04</td>\n",
       "      <td>119.3</td>\n",
       "    </tr>\n",
       "    <tr>\n",
       "      <th>4</th>\n",
       "      <td>1901-05</td>\n",
       "      <td>180.3</td>\n",
       "    </tr>\n",
       "    <tr>\n",
       "      <th>5</th>\n",
       "      <td>1901-06</td>\n",
       "      <td>168.5</td>\n",
       "    </tr>\n",
       "    <tr>\n",
       "      <th>6</th>\n",
       "      <td>1901-07</td>\n",
       "      <td>231.8</td>\n",
       "    </tr>\n",
       "    <tr>\n",
       "      <th>7</th>\n",
       "      <td>1901-08</td>\n",
       "      <td>224.5</td>\n",
       "    </tr>\n",
       "    <tr>\n",
       "      <th>8</th>\n",
       "      <td>1901-09</td>\n",
       "      <td>192.8</td>\n",
       "    </tr>\n",
       "    <tr>\n",
       "      <th>9</th>\n",
       "      <td>1901-10</td>\n",
       "      <td>122.9</td>\n",
       "    </tr>\n",
       "    <tr>\n",
       "      <th>10</th>\n",
       "      <td>1901-11</td>\n",
       "      <td>336.5</td>\n",
       "    </tr>\n",
       "    <tr>\n",
       "      <th>11</th>\n",
       "      <td>1901-12</td>\n",
       "      <td>185.9</td>\n",
       "    </tr>\n",
       "    <tr>\n",
       "      <th>12</th>\n",
       "      <td>1902-01</td>\n",
       "      <td>194.3</td>\n",
       "    </tr>\n",
       "    <tr>\n",
       "      <th>13</th>\n",
       "      <td>1902-02</td>\n",
       "      <td>149.5</td>\n",
       "    </tr>\n",
       "    <tr>\n",
       "      <th>14</th>\n",
       "      <td>1902-03</td>\n",
       "      <td>210.1</td>\n",
       "    </tr>\n",
       "    <tr>\n",
       "      <th>15</th>\n",
       "      <td>1902-04</td>\n",
       "      <td>273.3</td>\n",
       "    </tr>\n",
       "    <tr>\n",
       "      <th>16</th>\n",
       "      <td>1902-05</td>\n",
       "      <td>191.4</td>\n",
       "    </tr>\n",
       "    <tr>\n",
       "      <th>17</th>\n",
       "      <td>1902-06</td>\n",
       "      <td>287.0</td>\n",
       "    </tr>\n",
       "    <tr>\n",
       "      <th>18</th>\n",
       "      <td>1902-07</td>\n",
       "      <td>226.0</td>\n",
       "    </tr>\n",
       "    <tr>\n",
       "      <th>19</th>\n",
       "      <td>1902-08</td>\n",
       "      <td>303.6</td>\n",
       "    </tr>\n",
       "    <tr>\n",
       "      <th>20</th>\n",
       "      <td>1902-09</td>\n",
       "      <td>289.9</td>\n",
       "    </tr>\n",
       "    <tr>\n",
       "      <th>21</th>\n",
       "      <td>1902-10</td>\n",
       "      <td>421.6</td>\n",
       "    </tr>\n",
       "    <tr>\n",
       "      <th>22</th>\n",
       "      <td>1902-11</td>\n",
       "      <td>264.5</td>\n",
       "    </tr>\n",
       "    <tr>\n",
       "      <th>23</th>\n",
       "      <td>1902-12</td>\n",
       "      <td>342.3</td>\n",
       "    </tr>\n",
       "    <tr>\n",
       "      <th>24</th>\n",
       "      <td>1903-01</td>\n",
       "      <td>339.7</td>\n",
       "    </tr>\n",
       "    <tr>\n",
       "      <th>25</th>\n",
       "      <td>1903-02</td>\n",
       "      <td>440.4</td>\n",
       "    </tr>\n",
       "    <tr>\n",
       "      <th>26</th>\n",
       "      <td>1903-03</td>\n",
       "      <td>315.9</td>\n",
       "    </tr>\n",
       "    <tr>\n",
       "      <th>27</th>\n",
       "      <td>1903-04</td>\n",
       "      <td>439.3</td>\n",
       "    </tr>\n",
       "    <tr>\n",
       "      <th>28</th>\n",
       "      <td>1903-05</td>\n",
       "      <td>401.3</td>\n",
       "    </tr>\n",
       "    <tr>\n",
       "      <th>29</th>\n",
       "      <td>1903-06</td>\n",
       "      <td>437.4</td>\n",
       "    </tr>\n",
       "    <tr>\n",
       "      <th>30</th>\n",
       "      <td>1903-07</td>\n",
       "      <td>575.5</td>\n",
       "    </tr>\n",
       "    <tr>\n",
       "      <th>31</th>\n",
       "      <td>1903-08</td>\n",
       "      <td>407.6</td>\n",
       "    </tr>\n",
       "    <tr>\n",
       "      <th>32</th>\n",
       "      <td>1903-09</td>\n",
       "      <td>682.0</td>\n",
       "    </tr>\n",
       "    <tr>\n",
       "      <th>33</th>\n",
       "      <td>1903-10</td>\n",
       "      <td>475.3</td>\n",
       "    </tr>\n",
       "    <tr>\n",
       "      <th>34</th>\n",
       "      <td>1903-11</td>\n",
       "      <td>581.3</td>\n",
       "    </tr>\n",
       "    <tr>\n",
       "      <th>35</th>\n",
       "      <td>1903-12</td>\n",
       "      <td>646.9</td>\n",
       "    </tr>\n",
       "  </tbody>\n",
       "</table>\n",
       "</div>"
      ],
      "text/plain": [
       "      Month  Sales\n",
       "0   1901-01  266.0\n",
       "1   1901-02  145.9\n",
       "2   1901-03  183.1\n",
       "3   1901-04  119.3\n",
       "4   1901-05  180.3\n",
       "5   1901-06  168.5\n",
       "6   1901-07  231.8\n",
       "7   1901-08  224.5\n",
       "8   1901-09  192.8\n",
       "9   1901-10  122.9\n",
       "10  1901-11  336.5\n",
       "11  1901-12  185.9\n",
       "12  1902-01  194.3\n",
       "13  1902-02  149.5\n",
       "14  1902-03  210.1\n",
       "15  1902-04  273.3\n",
       "16  1902-05  191.4\n",
       "17  1902-06  287.0\n",
       "18  1902-07  226.0\n",
       "19  1902-08  303.6\n",
       "20  1902-09  289.9\n",
       "21  1902-10  421.6\n",
       "22  1902-11  264.5\n",
       "23  1902-12  342.3\n",
       "24  1903-01  339.7\n",
       "25  1903-02  440.4\n",
       "26  1903-03  315.9\n",
       "27  1903-04  439.3\n",
       "28  1903-05  401.3\n",
       "29  1903-06  437.4\n",
       "30  1903-07  575.5\n",
       "31  1903-08  407.6\n",
       "32  1903-09  682.0\n",
       "33  1903-10  475.3\n",
       "34  1903-11  581.3\n",
       "35  1903-12  646.9"
      ]
     },
     "execution_count": 149,
     "metadata": {},
     "output_type": "execute_result"
    }
   ],
   "source": [
    "# dateparse = lambda x: pd.to_datetime(x, format='%d-%m') \n",
    "# shm_data = pd.read_csv('../Datasets/shampoo.csv', header=0, parse_dates=[0], date_format=dateparse)  \n",
    "\n",
    "# shm_data = pd.read_csv('../Datasets/shampoo.csv', header=0, parse_dates=[0])  \n",
    "shm_data = pd.read_csv('../Datasets/shampoo.csv', header=0)  \n",
    "shm_data['Month'] = '190' + shm_data['Month'] \n",
    "dateparse = lambda x: datetime.strptime('190' + x, '%Y-%m') \n",
    "\n",
    "shm_data"
   ]
  },
  {
   "cell_type": "code",
   "execution_count": 150,
   "metadata": {},
   "outputs": [
    {
     "data": {
      "text/plain": [
       "<Axes: >"
      ]
     },
     "execution_count": 150,
     "metadata": {},
     "output_type": "execute_result"
    },
    {
     "data": {
      "image/png": "[encoded data removed]",
      "text/plain": [
       "<Figure size 640x480 with 1 Axes>"
      ]
     },
     "metadata": {},
     "output_type": "display_data"
    }
   ],
   "source": [
    "shm_data['Sales'].plot() "
   ]
  },
  {
   "cell_type": "markdown",
   "metadata": {},
   "source": [
    "Since this plot states that the trend is polynomial, we will have to use two differencing to make it stationary. (D = 2)   "
   ]
  },
  {
   "cell_type": "markdown",
   "metadata": {},
   "source": [
    "Autocorrelation plot - "
   ]
  },
  {
   "cell_type": "code",
   "execution_count": 151,
   "metadata": {},
   "outputs": [
    {
     "data": {
      "text/plain": [
       "<Axes: xlabel='Lag', ylabel='Autocorrelation'>"
      ]
     },
     "execution_count": 151,
     "metadata": {},
     "output_type": "execute_result"
    },
    {
     "data": {
      "image/png": "[encoded data removed]",
      "text/plain": [
       "<Figure size 640x480 with 1 Axes>"
      ]
     },
     "metadata": {},
     "output_type": "display_data"
    }
   ],
   "source": [
    "autocorrelation_plot(shm_data['Sales']) "
   ]
  },
  {
   "cell_type": "markdown",
   "metadata": {},
   "source": [
    "For autocorrelation, if the autocorrelation plot is crossing at the confidence interval line, take the X-axis point from the intersection.  \n",
    "(Q = 5)  "
   ]
  },
  {
   "cell_type": "markdown",
   "metadata": {},
   "source": [
    "Partial Auto-Correlation Plot -   "
   ]
  },
  {
   "cell_type": "code",
   "execution_count": 152,
   "metadata": {},
   "outputs": [
    {
     "data": {
      "image/png": "[encoded data removed]",
      "text/plain": [
       "<Figure size 640x480 with 1 Axes>"
      ]
     },
     "execution_count": 152,
     "metadata": {},
     "output_type": "execute_result"
    },
    {
     "data": {
      "image/png": "[encoded data removed]",
      "text/plain": [
       "<Figure size 640x480 with 1 Axes>"
      ]
     },
     "metadata": {},
     "output_type": "display_data"
    }
   ],
   "source": [
    "plot_pacf(shm_data['Sales'], lags=15) "
   ]
  },
  {
   "cell_type": "markdown",
   "metadata": {},
   "source": [
    "Blue band (default) shown is the confidence interval over here.  \n",
    "  \n",
    "Here, the partial autocorrelation is crossing the confidence interval at value 3 (within 2 and 4).  \n",
    "So 'P' for our ARIMA model is : (P = 2)  \n",
    "  \n",
    "Since the lag_n lines where the confidence interval begins is within lag2 and lag3 lines on the graph.  \n",
    "(D = 2)  "
   ]
  },
  {
   "cell_type": "markdown",
   "metadata": {},
   "source": [
    "# ARIMA Model -  "
   ]
  },
  {
   "cell_type": "code",
   "execution_count": 153,
   "metadata": {},
   "outputs": [
    {
     "name": "stderr",
     "output_type": "stream",
     "text": [
      "d:\\Machine_Learning_PY\\virtl_env\\Lib\\site-packages\\statsmodels\\tsa\\statespace\\sarimax.py:978: UserWarning: Non-invertible starting MA parameters found. Using zeros as starting parameters.\n",
      "  warn('Non-invertible starting MA parameters found.'\n"
     ]
    },
    {
     "data": {
      "text/html": [
       "<table class=\"simpletable\">\n",
       "<caption>SARIMAX Results</caption>\n",
       "<tr>\n",
       "  <th>Dep. Variable:</th>         <td>Sales</td>      <th>  No. Observations:  </th>    <td>36</td>   \n",
       "</tr>\n",
       "<tr>\n",
       "  <th>Model:</th>            <td>ARIMA(2, 2, 5)</td>  <th>  Log Likelihood     </th> <td>-189.635</td>\n",
       "</tr>\n",
       "<tr>\n",
       "  <th>Date:</th>            <td>Mon, 30 Jun 2025</td> <th>  AIC                </th>  <td>395.269</td>\n",
       "</tr>\n",
       "<tr>\n",
       "  <th>Time:</th>                <td>00:59:32</td>     <th>  BIC                </th>  <td>407.480</td>\n",
       "</tr>\n",
       "<tr>\n",
       "  <th>Sample:</th>                  <td>0</td>        <th>  HQIC               </th>  <td>399.434</td>\n",
       "</tr>\n",
       "<tr>\n",
       "  <th></th>                       <td> - 36</td>      <th>                     </th>     <td> </td>   \n",
       "</tr>\n",
       "<tr>\n",
       "  <th>Covariance Type:</th>        <td>opg</td>       <th>                     </th>     <td> </td>   \n",
       "</tr>\n",
       "</table>\n",
       "<table class=\"simpletable\">\n",
       "<tr>\n",
       "     <td></td>       <th>coef</th>     <th>std err</th>      <th>z</th>      <th>P>|z|</th>  <th>[0.025</th>    <th>0.975]</th>  \n",
       "</tr>\n",
       "<tr>\n",
       "  <th>ar.L1</th>  <td>   -1.9079</td> <td>    0.246</td> <td>   -7.741</td> <td> 0.000</td> <td>   -2.391</td> <td>   -1.425</td>\n",
       "</tr>\n",
       "<tr>\n",
       "  <th>ar.L2</th>  <td>   -0.9544</td> <td>    0.219</td> <td>   -4.363</td> <td> 0.000</td> <td>   -1.383</td> <td>   -0.526</td>\n",
       "</tr>\n",
       "<tr>\n",
       "  <th>ma.L1</th>  <td>   -0.0681</td> <td>   19.784</td> <td>   -0.003</td> <td> 0.997</td> <td>  -38.845</td> <td>   38.709</td>\n",
       "</tr>\n",
       "<tr>\n",
       "  <th>ma.L2</th>  <td>   -1.8461</td> <td>    2.765</td> <td>   -0.668</td> <td> 0.504</td> <td>   -7.266</td> <td>    3.573</td>\n",
       "</tr>\n",
       "<tr>\n",
       "  <th>ma.L3</th>  <td>    0.3024</td> <td>   19.731</td> <td>    0.015</td> <td> 0.988</td> <td>  -38.369</td> <td>   38.974</td>\n",
       "</tr>\n",
       "<tr>\n",
       "  <th>ma.L4</th>  <td>    0.9883</td> <td>    2.797</td> <td>    0.353</td> <td> 0.724</td> <td>   -4.494</td> <td>    6.470</td>\n",
       "</tr>\n",
       "<tr>\n",
       "  <th>ma.L5</th>  <td>   -0.1280</td> <td>    0.339</td> <td>   -0.377</td> <td> 0.706</td> <td>   -0.793</td> <td>    0.537</td>\n",
       "</tr>\n",
       "<tr>\n",
       "  <th>sigma2</th> <td> 2696.5829</td> <td>    0.014</td> <td> 1.95e+05</td> <td> 0.000</td> <td> 2696.556</td> <td> 2696.610</td>\n",
       "</tr>\n",
       "</table>\n",
       "<table class=\"simpletable\">\n",
       "<tr>\n",
       "  <th>Ljung-Box (L1) (Q):</th>     <td>0.73</td> <th>  Jarque-Bera (JB):  </th> <td>0.18</td> \n",
       "</tr>\n",
       "<tr>\n",
       "  <th>Prob(Q):</th>                <td>0.39</td> <th>  Prob(JB):          </th> <td>0.92</td> \n",
       "</tr>\n",
       "<tr>\n",
       "  <th>Heteroskedasticity (H):</th> <td>0.94</td> <th>  Skew:              </th> <td>-0.01</td>\n",
       "</tr>\n",
       "<tr>\n",
       "  <th>Prob(H) (two-sided):</th>    <td>0.92</td> <th>  Kurtosis:          </th> <td>2.65</td> \n",
       "</tr>\n",
       "</table><br/><br/>Warnings:<br/>[1] Covariance matrix calculated using the outer product of gradients (complex-step).<br/>[2] Covariance matrix is singular or near-singular, with condition number 5.18e+22. Standard errors may be unstable."
      ],
      "text/latex": [
       "\\begin{center}\n",
       "\\begin{tabular}{lclc}\n",
       "\\toprule\n",
       "\\textbf{Dep. Variable:}          &      Sales       & \\textbf{  No. Observations:  } &     36      \\\\\n",
       "\\textbf{Model:}                  &  ARIMA(2, 2, 5)  & \\textbf{  Log Likelihood     } &  -189.635   \\\\\n",
       "\\textbf{Date:}                   & Mon, 30 Jun 2025 & \\textbf{  AIC                } &  395.269    \\\\\n",
       "\\textbf{Time:}                   &     00:59:32     & \\textbf{  BIC                } &  407.480    \\\\\n",
       "\\textbf{Sample:}                 &        0         & \\textbf{  HQIC               } &  399.434    \\\\\n",
       "\\textbf{}                        &       - 36       & \\textbf{                     } &             \\\\\n",
       "\\textbf{Covariance Type:}        &       opg        & \\textbf{                     } &             \\\\\n",
       "\\bottomrule\n",
       "\\end{tabular}\n",
       "\\begin{tabular}{lcccccc}\n",
       "                & \\textbf{coef} & \\textbf{std err} & \\textbf{z} & \\textbf{P$> |$z$|$} & \\textbf{[0.025} & \\textbf{0.975]}  \\\\\n",
       "\\midrule\n",
       "\\textbf{ar.L1}  &      -1.9079  &        0.246     &    -7.741  &         0.000        &       -2.391    &       -1.425     \\\\\n",
       "\\textbf{ar.L2}  &      -0.9544  &        0.219     &    -4.363  &         0.000        &       -1.383    &       -0.526     \\\\\n",
       "\\textbf{ma.L1}  &      -0.0681  &       19.784     &    -0.003  &         0.997        &      -38.845    &       38.709     \\\\\n",
       "\\textbf{ma.L2}  &      -1.8461  &        2.765     &    -0.668  &         0.504        &       -7.266    &        3.573     \\\\\n",
       "\\textbf{ma.L3}  &       0.3024  &       19.731     &     0.015  &         0.988        &      -38.369    &       38.974     \\\\\n",
       "\\textbf{ma.L4}  &       0.9883  &        2.797     &     0.353  &         0.724        &       -4.494    &        6.470     \\\\\n",
       "\\textbf{ma.L5}  &      -0.1280  &        0.339     &    -0.377  &         0.706        &       -0.793    &        0.537     \\\\\n",
       "\\textbf{sigma2} &    2696.5829  &        0.014     &  1.95e+05  &         0.000        &     2696.556    &     2696.610     \\\\\n",
       "\\bottomrule\n",
       "\\end{tabular}\n",
       "\\begin{tabular}{lclc}\n",
       "\\textbf{Ljung-Box (L1) (Q):}     & 0.73 & \\textbf{  Jarque-Bera (JB):  } &  0.18  \\\\\n",
       "\\textbf{Prob(Q):}                & 0.39 & \\textbf{  Prob(JB):          } &  0.92  \\\\\n",
       "\\textbf{Heteroskedasticity (H):} & 0.94 & \\textbf{  Skew:              } & -0.01  \\\\\n",
       "\\textbf{Prob(H) (two-sided):}    & 0.92 & \\textbf{  Kurtosis:          } &  2.65  \\\\\n",
       "\\bottomrule\n",
       "\\end{tabular}\n",
       "%\\caption{SARIMAX Results}\n",
       "\\end{center}\n",
       "\n",
       "Warnings: \\newline\n",
       " [1] Covariance matrix calculated using the outer product of gradients (complex-step). \\newline\n",
       " [2] Covariance matrix is singular or near-singular, with condition number 5.18e+22. Standard errors may be unstable."
      ],
      "text/plain": [
       "<class 'statsmodels.iolib.summary.Summary'>\n",
       "\"\"\"\n",
       "                               SARIMAX Results                                \n",
       "==============================================================================\n",
       "Dep. Variable:                  Sales   No. Observations:                   36\n",
       "Model:                 ARIMA(2, 2, 5)   Log Likelihood                -189.635\n",
       "Date:                Mon, 30 Jun 2025   AIC                            395.269\n",
       "Time:                        00:59:32   BIC                            407.480\n",
       "Sample:                             0   HQIC                           399.434\n",
       "                                 - 36                                         \n",
       "Covariance Type:                  opg                                         \n",
       "==============================================================================\n",
       "                 coef    std err          z      P>|z|      [0.025      0.975]\n",
       "------------------------------------------------------------------------------\n",
       "ar.L1         -1.9079      0.246     -7.741      0.000      -2.391      -1.425\n",
       "ar.L2         -0.9544      0.219     -4.363      0.000      -1.383      -0.526\n",
       "ma.L1         -0.0681     19.784     -0.003      0.997     -38.845      38.709\n",
       "ma.L2         -1.8461      2.765     -0.668      0.504      -7.266       3.573\n",
       "ma.L3          0.3024     19.731      0.015      0.988     -38.369      38.974\n",
       "ma.L4          0.9883      2.797      0.353      0.724      -4.494       6.470\n",
       "ma.L5         -0.1280      0.339     -0.377      0.706      -0.793       0.537\n",
       "sigma2      2696.5829      0.014   1.95e+05      0.000    2696.556    2696.610\n",
       "===================================================================================\n",
       "Ljung-Box (L1) (Q):                   0.73   Jarque-Bera (JB):                 0.18\n",
       "Prob(Q):                              0.39   Prob(JB):                         0.92\n",
       "Heteroskedasticity (H):               0.94   Skew:                            -0.01\n",
       "Prob(H) (two-sided):                  0.92   Kurtosis:                         2.65\n",
       "===================================================================================\n",
       "\n",
       "Warnings:\n",
       "[1] Covariance matrix calculated using the outer product of gradients (complex-step).\n",
       "[2] Covariance matrix is singular or near-singular, with condition number 5.18e+22. Standard errors may be unstable.\n",
       "\"\"\""
      ]
     },
     "execution_count": 153,
     "metadata": {},
     "output_type": "execute_result"
    }
   ],
   "source": [
    "arima_model = ARIMA(shm_data['Sales'], order=(2, 2, 5))    # order = (P, D, Q) \n",
    "arima = arima_model.fit()\n",
    "arima.summary() "
   ]
  },
  {
   "cell_type": "code",
   "execution_count": 154,
   "metadata": {},
   "outputs": [
    {
     "data": {
      "text/plain": [
       "0     266.000000\n",
       "1    -251.672182\n",
       "2     145.276049\n",
       "3      24.465374\n",
       "4      81.910693\n",
       "5      69.818329\n",
       "6     103.749814\n",
       "7      65.031648\n",
       "8      13.101735\n",
       "9     -96.890923\n",
       "10    150.078807\n",
       "11    -12.832551\n",
       "12    -28.044773\n",
       "13    -95.898234\n",
       "14     -0.759154\n",
       "15     32.161050\n",
       "16      8.256665\n",
       "17     20.000572\n",
       "18     41.113800\n",
       "19     18.767440\n",
       "20     82.872013\n",
       "21    114.882951\n",
       "22     11.847189\n",
       "23    -17.575907\n",
       "24     16.191984\n",
       "25     58.282834\n",
       "26    -65.509383\n",
       "27     22.929743\n",
       "28    -45.944380\n",
       "29     10.116640\n",
       "30     66.125692\n",
       "31    -33.299035\n",
       "32    107.996375\n",
       "33    -13.008085\n",
       "34    -42.602930\n",
       "35     79.014251\n",
       "dtype: float64"
      ]
     },
     "execution_count": 154,
     "metadata": {},
     "output_type": "execute_result"
    }
   ],
   "source": [
    "residuals = arima.resid\n",
    "residuals"
   ]
  },
  {
   "cell_type": "code",
   "execution_count": 155,
   "metadata": {},
   "outputs": [
    {
     "data": {
      "text/plain": [
       "count     36.000000\n",
       "mean      25.165392\n",
       "std       86.508507\n",
       "min     -251.672182\n",
       "25%      -14.150040\n",
       "50%       19.384006\n",
       "75%       72.117309\n",
       "max      266.000000\n",
       "dtype: float64"
      ]
     },
     "execution_count": 155,
     "metadata": {},
     "output_type": "execute_result"
    }
   ],
   "source": [
    "residuals.describe() "
   ]
  },
  {
   "cell_type": "code",
   "execution_count": 156,
   "metadata": {},
   "outputs": [
    {
     "data": {
      "text/plain": [
       "<Axes: >"
      ]
     },
     "execution_count": 156,
     "metadata": {},
     "output_type": "execute_result"
    },
    {
     "data": {
      "image/png": "[encoded data removed]",
      "text/plain": [
       "<Figure size 640x480 with 1 Axes>"
      ]
     },
     "metadata": {},
     "output_type": "display_data"
    }
   ],
   "source": [
    "residuals.plot()"
   ]
  },
  {
   "cell_type": "code",
   "execution_count": 157,
   "metadata": {},
   "outputs": [
    {
     "data": {
      "text/plain": [
       "36    656.794812\n",
       "dtype: float64"
      ]
     },
     "execution_count": 157,
     "metadata": {},
     "output_type": "execute_result"
    }
   ],
   "source": [
    "op = arima.forecast()\n",
    "op"
   ]
  },
  {
   "cell_type": "code",
   "execution_count": 158,
   "metadata": {},
   "outputs": [
    {
     "data": {
      "text/plain": [
       "36    656.794812\n",
       "37    637.267082\n",
       "38    712.227544\n",
       "39    710.393591\n",
       "40    755.777057\n",
       "41    784.368794\n",
       "42    799.931549\n",
       "Name: predicted_mean, dtype: float64"
      ]
     },
     "execution_count": 158,
     "metadata": {},
     "output_type": "execute_result"
    }
   ],
   "source": [
    "arima.forecast(7)"
   ]
  },
  {
   "cell_type": "markdown",
   "metadata": {},
   "source": [
    "Variations -  \n",
    "  \n",
    "ARIMA -  \n",
    "model = ARIMA(df[column], order = (p, d, q))  \n",
    "\n",
    "Autoregression -  \n",
    "model = ARIMA(df[column], order = (p, d, 0))  \n",
    "\n",
    "Correlation model -  \n",
    "model = ARIMA(df[column], order = (0, d, q))  \n",
    "\n"
   ]
  },
  {
   "cell_type": "markdown",
   "metadata": {},
   "source": [
    "# Walk-Forward Validation on ARIMA -  "
   ]
  },
  {
   "cell_type": "markdown",
   "metadata": {},
   "source": [
    "train and test split"
   ]
  },
  {
   "cell_type": "code",
   "execution_count": 159,
   "metadata": {},
   "outputs": [
    {
     "data": {
      "text/plain": [
       "(36, 2)"
      ]
     },
     "execution_count": 159,
     "metadata": {},
     "output_type": "execute_result"
    }
   ],
   "source": [
    "shm_data.shape"
   ]
  },
  {
   "cell_type": "code",
   "execution_count": 160,
   "metadata": {},
   "outputs": [
    {
     "data": {
      "text/plain": [
       "25"
      ]
     },
     "execution_count": 160,
     "metadata": {},
     "output_type": "execute_result"
    }
   ],
   "source": [
    "train_size_shm = int(shm_data.shape[0] * 0.7)     # 70% \n",
    "train_size_shm "
   ]
  },
  {
   "cell_type": "code",
   "execution_count": 161,
   "metadata": {},
   "outputs": [
    {
     "name": "stdout",
     "output_type": "stream",
     "text": [
      "(25,)\n",
      "(11,)\n"
     ]
    }
   ],
   "source": [
    "train, test = shm_data.Sales[0:train_size_shm], shm_data.Sales[train_size_shm:] \n",
    "print(train.shape) \n",
    "print(test.shape) "
   ]
  },
  {
   "cell_type": "markdown",
   "metadata": {},
   "source": [
    "Walk-forward validation"
   ]
  },
  {
   "cell_type": "code",
   "execution_count": 162,
   "metadata": {},
   "outputs": [
    {
     "name": "stdout",
     "output_type": "stream",
     "text": [
      "25    368.668956\n",
      "dtype: float64\n",
      "26    335.044741\n",
      "dtype: float64\n",
      "27    363.220222\n",
      "dtype: float64\n",
      "28    357.645324\n",
      "dtype: float64\n",
      "29    443.047835\n",
      "dtype: float64\n",
      "30    378.365674\n",
      "dtype: float64\n",
      "31    459.41502\n",
      "dtype: float64\n",
      "32    526.890876\n",
      "dtype: float64\n",
      "33    457.231275\n",
      "dtype: float64\n",
      "34    672.914943\n",
      "dtype: float64\n",
      "35    531.541449\n",
      "dtype: float64\n"
     ]
    }
   ],
   "source": [
    "data = train\n",
    "predict = [] \n",
    "\n",
    "for t in test:\n",
    "    model = ARIMA(data, order=(5,1,0)) \n",
    "    m_fit = model.fit() \n",
    "    y = m_fit.forecast() \n",
    "    print(y) \n",
    "    predict.append(y) \n",
    "    data = np.append(data, t) \n",
    "    data = pd.Series(data) \n"
   ]
  },
  {
   "cell_type": "code",
   "execution_count": 163,
   "metadata": {},
   "outputs": [
    {
     "name": "stdout",
     "output_type": "stream",
     "text": [
      "11\n"
     ]
    },
    {
     "data": {
      "text/plain": [
       "[25    368.668956\n",
       " dtype: float64,\n",
       " 26    335.044741\n",
       " dtype: float64,\n",
       " 27    363.220222\n",
       " dtype: float64,\n",
       " 28    357.645324\n",
       " dtype: float64,\n",
       " 29    443.047835\n",
       " dtype: float64,\n",
       " 30    378.365674\n",
       " dtype: float64,\n",
       " 31    459.41502\n",
       " dtype: float64,\n",
       " 32    526.890876\n",
       " dtype: float64,\n",
       " 33    457.231275\n",
       " dtype: float64,\n",
       " 34    672.914943\n",
       " dtype: float64,\n",
       " 35    531.541449\n",
       " dtype: float64]"
      ]
     },
     "execution_count": 163,
     "metadata": {},
     "output_type": "execute_result"
    }
   ],
   "source": [
    "print(len(predict)) \n",
    "predict "
   ]
  },
  {
   "cell_type": "code",
   "execution_count": 164,
   "metadata": {},
   "outputs": [
    {
     "data": {
      "text/plain": [
       "9170.052430073367"
      ]
     },
     "execution_count": 164,
     "metadata": {},
     "output_type": "execute_result"
    }
   ],
   "source": [
    "mse = mean_squared_error(test.values, predict) \n",
    "mse "
   ]
  }
 ],
 "metadata": {
  "kernelspec": {
   "display_name": "virtl_env",
   "language": "python",
   "name": "python3"
  },
  "language_info": {
   "codemirror_mode": {
    "name": "ipython",
    "version": 3
   },
   "file_extension": ".py",
   "mimetype": "text/x-python",
   "name": "python",
   "nbconvert_exporter": "python",
   "pygments_lexer": "ipython3",
   "version": "3.12.2"
  }
 },
 "nbformat": 4,
 "nbformat_minor": 2
}
