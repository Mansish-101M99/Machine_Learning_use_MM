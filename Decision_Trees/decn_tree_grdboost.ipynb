{
 "cells": [
  {
   "cell_type": "markdown",
   "metadata": {},
   "source": [
    "Gradient Boosting Method using decision Trees - "
   ]
  },
  {
   "cell_type": "code",
   "execution_count": null,
   "metadata": {},
   "outputs": [],
   "source": [
    "import numpy as np \n",
    "import pandas as pd \n",
    "# import seaborn as sb \n",
    "# import matplotlib.pyplot as plt \n",
    "\n",
    "# from sklearn import tree \n",
    "# from sklearn.tree import DecisionTreeClassifier \n",
    "from sklearn.ensemble import GradientBoostingClassifier \n",
    "from sklearn.model_selection import train_test_split, GridSearchCV \n",
    "from sklearn.metrics import accuracy_score, confusion_matrix \n",
    "\n",
    "import nbformat \n",
    "from IPython import get_ipython "
   ]
  },
  {
   "cell_type": "code",
   "execution_count": null,
   "metadata": {},
   "outputs": [],
   "source": [
    "# %run \"../Data_Preprocessing/data_preprocess_dtcls.ipynb\" \n",
    "\n",
    "with open(\"../Data_Preprocessing/data_preprocess_dtcls.ipynb\", \"r\", encoding=\"utf-8\") as f:\n",
    "    ntb = nbformat.read(f, as_version = 4) \n",
    "\n",
    "ipython = get_ipython() \n",
    "\n",
    "for cell in ntb.cells:\n",
    "    if cell.cell_type == \"code\":\n",
    "        print(cell.source) \n",
    "\n",
    "        if (\"mov_cls_cleaned\" in cell.source or \"mov_cls\" in cell.source):\n",
    "            ipython.run_cell(cell.source, silent=True) \n",
    "            # ipython.run_cell_async(cell.source, silent=True) \n",
    "\n",
    "try:\n",
    "    print(\"Movies Clean Data : \")\n",
    "    print(mov_cls_cleaned.head())   # type: ignore \n",
    "\n",
    "except NameError as e:\n",
    "    print(f\"Variable not found: {e}\")"
   ]
  },
  {
   "cell_type": "code",
   "execution_count": null,
   "metadata": {},
   "outputs": [],
   "source": [
    "mov_cls_cleaned     # type: ignore "
   ]
  },
  {
   "cell_type": "code",
   "execution_count": null,
   "metadata": {},
   "outputs": [],
   "source": [
    "mov_cls_cleaned.corr()      # type: ignore "
   ]
  },
  {
   "cell_type": "markdown",
   "metadata": {},
   "source": [
    "Variable split (X, y) : "
   ]
  },
  {
   "cell_type": "code",
   "execution_count": null,
   "metadata": {},
   "outputs": [],
   "source": [
    "X = mov_cls_cleaned.loc[:, mov_cls_cleaned.columns != 'Start_Tech_Oscar']      # type: ignore \n",
    "X "
   ]
  },
  {
   "cell_type": "code",
   "execution_count": null,
   "metadata": {},
   "outputs": [],
   "source": [
    "X.shape "
   ]
  },
  {
   "cell_type": "code",
   "execution_count": null,
   "metadata": {},
   "outputs": [],
   "source": [
    "y = mov_cls_cleaned['Start_Tech_Oscar']      # type: ignore \n",
    "y "
   ]
  },
  {
   "cell_type": "code",
   "execution_count": null,
   "metadata": {},
   "outputs": [],
   "source": [
    "y.shape "
   ]
  },
  {
   "cell_type": "markdown",
   "metadata": {},
   "source": [
    "Test - Train Split : "
   ]
  },
  {
   "cell_type": "code",
   "execution_count": null,
   "metadata": {},
   "outputs": [],
   "source": [
    "X_train, X_test, y_train, y_test = train_test_split(X, y, test_size = 0.2, random_state = 0) \n",
    "\n",
    "print(f\" X_train size : {X_train.shape} \\n X_test size : {X_test.shape} \\n y_train size : {y_train.shape} \\n y_test size : {y_test.shape}\") \n",
    "\n",
    "print(f\"X_train :\\n{X_train}\") \n",
    "print(f\"X_test :\\n{X_test}\") \n",
    "print(f\"y_train :\\n{y_train}\") \n",
    "print(f\"y_test :\\n{y_test}\") "
   ]
  },
  {
   "cell_type": "code",
   "execution_count": null,
   "metadata": {},
   "outputs": [],
   "source": [
    "X_train = pd.DataFrame(X_train, columns=list(X.columns))  \n",
    "X_train "
   ]
  },
  {
   "cell_type": "code",
   "execution_count": null,
   "metadata": {},
   "outputs": [],
   "source": [
    "y_train = pd.Series(y_train) \n",
    "y_train "
   ]
  },
  {
   "cell_type": "markdown",
   "metadata": {},
   "source": [
    "Training multiple classification trees using Gradient Descent - "
   ]
  },
  {
   "cell_type": "code",
   "execution_count": null,
   "metadata": {},
   "outputs": [],
   "source": [
    "# clstree = DecisionTreeClassifier() \n",
    "   \n",
    "# grdb_cls = GradientBoostingClassifier(n_estimators=1000, criterion='friedman_mse')      \n",
    "grdb_cls = GradientBoostingClassifier(n_estimators=100)      \n",
    "grdb_cls.fit(X_train, y_train) \n",
    "\n",
    "y_train_prd = grdb_cls.predict(X_train) \n",
    "y_test_prd = grdb_cls.predict(X_test) "
   ]
  },
  {
   "cell_type": "code",
   "execution_count": null,
   "metadata": {},
   "outputs": [],
   "source": [
    "y_train_prd "
   ]
  },
  {
   "cell_type": "code",
   "execution_count": null,
   "metadata": {},
   "outputs": [],
   "source": [
    "y_test_prd "
   ]
  },
  {
   "cell_type": "markdown",
   "metadata": {},
   "source": [
    "Model  Performance - "
   ]
  },
  {
   "cell_type": "code",
   "execution_count": null,
   "metadata": {},
   "outputs": [],
   "source": [
    "conf_mtx_trn = confusion_matrix(y_train, y_train_prd) \n",
    "print(f\"Train Confusion Matrix : \\n{conf_mtx_trn}\") \n",
    "\n",
    "conf_mtx_tst = confusion_matrix(y_test, y_test_prd) \n",
    "print(f\"Test Confusion Matrix : \\n{conf_mtx_tst}\") "
   ]
  },
  {
   "cell_type": "code",
   "execution_count": null,
   "metadata": {},
   "outputs": [],
   "source": [
    "acc_sc_trn = accuracy_score(y_train, y_train_prd) \n",
    "print(f\"Train Accuracy Score : {acc_sc_trn}\") \n",
    "\n",
    "acc_sc_tst = accuracy_score(y_test, y_test_prd) \n",
    "print(f\"Test Accuracy Score : {acc_sc_tst}\") "
   ]
  },
  {
   "cell_type": "markdown",
   "metadata": {},
   "source": [
    "More hyperparameters usage - "
   ]
  },
  {
   "cell_type": "code",
   "execution_count": null,
   "metadata": {},
   "outputs": [],
   "source": [
    "grdb_cls2 = GradientBoostingClassifier(learning_rate=0.02, n_estimators=1000, max_depth=1)  \n",
    "grdb_cls2.fit(X_train, y_train) "
   ]
  },
  {
   "cell_type": "code",
   "execution_count": null,
   "metadata": {},
   "outputs": [],
   "source": [
    "conf_mtx_trn = confusion_matrix(y_train, grdb_cls2.predict(X_train)) \n",
    "print(f\"Train Confusion Matrix : \\n{conf_mtx_trn}\") \n",
    "\n",
    "conf_mtx_tst = confusion_matrix(y_test, grdb_cls2.predict(X_test)) \n",
    "print(f\"Test Confusion Matrix : \\n{conf_mtx_tst}\") "
   ]
  },
  {
   "cell_type": "code",
   "execution_count": null,
   "metadata": {},
   "outputs": [],
   "source": [
    "acc_sc_trn = accuracy_score(y_train, grdb_cls2.predict(X_train)) \n",
    "print(f\"Train Accuracy Score : {acc_sc_trn}\") \n",
    "\n",
    "acc_sc_tst = accuracy_score(y_test, grdb_cls2.predict(X_test)) \n",
    "print(f\"Test Accuracy Score : {acc_sc_tst}\") "
   ]
  },
  {
   "cell_type": "code",
   "execution_count": null,
   "metadata": {},
   "outputs": [],
   "source": [
    "grdb_cls3 = GradientBoostingClassifier(random_state=50)   \n",
    "# grdb_cls3 = GradientBoostingClassifier()  \n",
    "\n",
    "params_grid = { \"learning_rate\": [0.02, 0.039, 0.05, 0.086], \n",
    "                \"n_estimators\": [100, 500, 1000], \n",
    "                \"max_depth\": [1,2] \n",
    "              } \n",
    "\n",
    "grid_search = GridSearchCV(grdb_cls3, param_grid=params_grid, scoring='accuracy', n_jobs=-1)  \n",
    "grid_search.fit(X_train, y_train)  "
   ]
  },
  {
   "cell_type": "code",
   "execution_count": null,
   "metadata": {},
   "outputs": [],
   "source": [
    "grid_search.best_params_ "
   ]
  },
  {
   "cell_type": "code",
   "execution_count": null,
   "metadata": {},
   "outputs": [],
   "source": [
    "cv_rf_cls = grid_search.best_estimator_ \n",
    "cv_rf_cls "
   ]
  },
  {
   "cell_type": "code",
   "execution_count": null,
   "metadata": {},
   "outputs": [],
   "source": [
    "conf_mtx_trn = confusion_matrix(y_train, cv_rf_cls.predict(X_train)) \n",
    "print(f\"Train Confusion Matrix : \\n{conf_mtx_trn}\") \n",
    "\n",
    "conf_mtx_tst = confusion_matrix(y_test, cv_rf_cls.predict(X_test)) \n",
    "print(f\"Test Confusion Matrix : \\n{conf_mtx_tst}\") "
   ]
  },
  {
   "cell_type": "code",
   "execution_count": null,
   "metadata": {},
   "outputs": [],
   "source": [
    "acc_sc_trn = accuracy_score(y_train, cv_rf_cls.predict(X_train)) \n",
    "print(f\"Train Accuracy Score : {acc_sc_trn}\") \n",
    "\n",
    "acc_sc_tst = accuracy_score(y_test, cv_rf_cls.predict(X_test)) \n",
    "print(f\"Test Accuracy Score : {acc_sc_tst}\") "
   ]
  }
 ],
 "metadata": {
  "kernelspec": {
   "display_name": "virtl_env",
   "language": "python",
   "name": "python3"
  },
  "language_info": {
   "codemirror_mode": {
    "name": "ipython",
    "version": 3
   },
   "file_extension": ".py",
   "mimetype": "text/x-python",
   "name": "python",
   "nbconvert_exporter": "python",
   "pygments_lexer": "ipython3",
   "version": "3.12.2"
  }
 },
 "nbformat": 4,
 "nbformat_minor": 2
}
