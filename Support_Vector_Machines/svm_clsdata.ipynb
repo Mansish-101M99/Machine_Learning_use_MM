{
 "cells": [
  {
   "cell_type": "markdown",
   "metadata": {},
   "source": [
    "Support Vector machines for Classification process  "
   ]
  },
  {
   "cell_type": "code",
   "execution_count": null,
   "metadata": {},
   "outputs": [],
   "source": [
    "import numpy as np \n",
    "import pandas as pd \n",
    "import seaborn as sb \n",
    "import matplotlib.pyplot as plt \n",
    "\n",
    "from sklearn.preprocessing import StandardScaler \n",
    "from sklearn.svm import SVC \n",
    "\n",
    "from sklearn.model_selection import train_test_split, GridSearchCV #, RandomizedSearchCV   \n",
    "from sklearn.metrics import accuracy_score, confusion_matrix \n",
    "\n",
    "import nbformat \n",
    "from IPython import get_ipython "
   ]
  },
  {
   "cell_type": "code",
   "execution_count": null,
   "metadata": {},
   "outputs": [],
   "source": [
    "# %run \"../Data_Preprocessing/data_preprocess_dtcls.ipynb\" \n",
    "\n",
    "with open(\"../Data_Preprocessing/data_preprocess_dtcls.ipynb\", \"r\", encoding=\"utf-8\") as f:\n",
    "    ntb = nbformat.read(f, as_version = 4) \n",
    "\n",
    "ipython = get_ipython() \n",
    "\n",
    "for cell in ntb.cells:\n",
    "    if cell.cell_type == \"code\":\n",
    "        print(cell.source) \n",
    "\n",
    "        if (\"mov_cls_cleaned\" in cell.source or \"mov_cls\" in cell.source):\n",
    "            ipython.run_cell(cell.source, silent=True) \n",
    "            # ipython.run_cell_async(cell.source, silent=True) \n",
    "\n",
    "try:\n",
    "    print(\"Movies Clean Data : \")\n",
    "    print(mov_cls_cleaned.head())   # type: ignore \n",
    "\n",
    "except NameError as e:\n",
    "    print(f\"Variable not found: {e}\")"
   ]
  },
  {
   "cell_type": "code",
   "execution_count": null,
   "metadata": {},
   "outputs": [],
   "source": [
    "mov_cls_cleaned     # type: ignore "
   ]
  },
  {
   "cell_type": "code",
   "execution_count": null,
   "metadata": {},
   "outputs": [],
   "source": [
    "mov_cls_cleaned.corr()      # type: ignore "
   ]
  },
  {
   "cell_type": "markdown",
   "metadata": {},
   "source": [
    "Variable split (X,y) : "
   ]
  },
  {
   "cell_type": "code",
   "execution_count": null,
   "metadata": {},
   "outputs": [],
   "source": [
    "X = mov_cls_cleaned.loc[:, mov_cls_cleaned.columns != 'Start_Tech_Oscar']      # type: ignore \n",
    "X "
   ]
  },
  {
   "cell_type": "code",
   "execution_count": null,
   "metadata": {},
   "outputs": [],
   "source": [
    "print(type(X)) "
   ]
  },
  {
   "cell_type": "code",
   "execution_count": null,
   "metadata": {},
   "outputs": [],
   "source": [
    "X.shape "
   ]
  },
  {
   "cell_type": "code",
   "execution_count": null,
   "metadata": {},
   "outputs": [],
   "source": [
    "y = mov_cls_cleaned['Start_Tech_Oscar']      # type: ignore \n",
    "y "
   ]
  },
  {
   "cell_type": "code",
   "execution_count": null,
   "metadata": {},
   "outputs": [],
   "source": [
    "print(type(y)) "
   ]
  },
  {
   "cell_type": "code",
   "execution_count": null,
   "metadata": {},
   "outputs": [],
   "source": [
    "y.shape "
   ]
  },
  {
   "cell_type": "markdown",
   "metadata": {},
   "source": [
    "Test - Train Split : "
   ]
  },
  {
   "cell_type": "code",
   "execution_count": null,
   "metadata": {},
   "outputs": [],
   "source": [
    "X_train, X_test, y_train, y_test = train_test_split(X, y, test_size = 0.2, random_state = 0) \n",
    "\n",
    "print(f\" X_train size : {X_train.shape} \\n X_test size : {X_test.shape} \\n y_train size : {y_train.shape} \\n y_test size : {y_test.shape}\") \n",
    "\n",
    "print(f\"X_train :\\n{X_train}\") \n",
    "print(f\"X_test :\\n{X_test}\") \n",
    "print(f\"y_train :\\n{y_train}\") \n",
    "print(f\"y_test :\\n{y_test}\") "
   ]
  },
  {
   "cell_type": "code",
   "execution_count": null,
   "metadata": {},
   "outputs": [],
   "source": [
    "X_train = pd.DataFrame(X_train, columns=list(X.columns))  \n",
    "X_train "
   ]
  },
  {
   "cell_type": "code",
   "execution_count": null,
   "metadata": {},
   "outputs": [],
   "source": [
    "y_train = pd.Series(y_train) \n",
    "y_train "
   ]
  },
  {
   "cell_type": "markdown",
   "metadata": {},
   "source": [
    "Standardizing data - "
   ]
  },
  {
   "cell_type": "code",
   "execution_count": null,
   "metadata": {},
   "outputs": [],
   "source": [
    "ssc = StandardScaler().fit(X_train)       # Scaler object \n",
    "ssc "
   ]
  },
  {
   "cell_type": "code",
   "execution_count": null,
   "metadata": {},
   "outputs": [],
   "source": [
    "X_train_std = ssc.transform(X_train) \n",
    "X_train_std "
   ]
  },
  {
   "cell_type": "code",
   "execution_count": null,
   "metadata": {},
   "outputs": [],
   "source": [
    "X_test_std = ssc.transform(X_test) \n",
    "X_test_std "
   ]
  },
  {
   "cell_type": "markdown",
   "metadata": {},
   "source": [
    "                Support Vector Classifier (Linear) "
   ]
  },
  {
   "cell_type": "code",
   "execution_count": null,
   "metadata": {},
   "outputs": [],
   "source": [
    "svc_l = SVC(kernel='linear', C=0.01) \n",
    "svc_l.fit(X_train_std, y_train) "
   ]
  },
  {
   "cell_type": "code",
   "execution_count": null,
   "metadata": {},
   "outputs": [],
   "source": [
    "svc_l.predict(X_test_std) "
   ]
  },
  {
   "cell_type": "code",
   "execution_count": null,
   "metadata": {},
   "outputs": [],
   "source": [
    "acc_sc_trn = accuracy_score(y_train, svc_l.predict(X_train_std)) \n",
    "print(f\"Train Accuracy Score : {acc_sc_trn}\") \n",
    "\n",
    "acc_sc_tst = accuracy_score(y_test, svc_l.predict(X_test_std)) \n",
    "print(f\"Test Accuracy Score : {acc_sc_tst}\") "
   ]
  },
  {
   "cell_type": "code",
   "execution_count": null,
   "metadata": {},
   "outputs": [],
   "source": [
    "conf_mtx_trn = confusion_matrix(y_train, svc_l.predict(X_train_std)) \n",
    "print(f\"Train Confusion Matrix : \\n{conf_mtx_trn}\") \n",
    "\n",
    "conf_mtx_tst = confusion_matrix(y_test, svc_l.predict(X_test_std)) \n",
    "print(f\"Test Confusion Matrix : \\n{conf_mtx_tst}\") "
   ]
  },
  {
   "cell_type": "code",
   "execution_count": null,
   "metadata": {},
   "outputs": [],
   "source": [
    "print(f\"Number of Support Vectors = {svc_l.n_support_}\")      # [num_sv_for_0_class, num_sv_for_1_class]  \n",
    "print(f\"Number of Features = {svc_l.n_features_in_}\") "
   ]
  },
  {
   "cell_type": "code",
   "execution_count": null,
   "metadata": {},
   "outputs": [],
   "source": [
    "# svc_l_coef0 = svc_l.coef0 \n",
    "\n",
    "svc_l_intc = svc_l.intercept_ \n",
    "svc_l_coef = svc_l.coef_ \n",
    "\n",
    "print(f\"Linear Support Vector Classifier intercept = {svc_l_intc} \\nLinear Support Vector Classifier coefficient = {svc_l_coef}\") "
   ]
  },
  {
   "cell_type": "markdown",
   "metadata": {},
   "source": [
    "Hyper-Parameter Tuning ( with GridSearchCV / RandomizedSearchCV ) "
   ]
  },
  {
   "cell_type": "code",
   "execution_count": null,
   "metadata": {},
   "outputs": [],
   "source": [
    "params = { \"C\": [0.005, 0.001, 0.01, 0.05, 0.1, 0.5, 1, 10, 5, 50, 100, 1000, 500], \n",
    "           \"gamma\": [0.1, 1, 0.001, 0.01] \n",
    "         } \n",
    "# Cost value, gamma value  \n",
    "\n",
    "# svc = SVC() \n",
    "svc_lin = SVC(kernel='linear') \n",
    "\n",
    "grid_search = GridSearchCV(svc_lin, param_grid=params, cv=10, verbose=1, n_jobs=-1, scoring='accuracy') \n",
    "grid_search.fit(X_train_std, y_train)  "
   ]
  },
  {
   "cell_type": "code",
   "execution_count": null,
   "metadata": {},
   "outputs": [],
   "source": [
    "# grid_search.best_params_  \n",
    "print(f\"Best parameters : {grid_search.best_params_}\") "
   ]
  },
  {
   "cell_type": "code",
   "execution_count": null,
   "metadata": {},
   "outputs": [],
   "source": [
    "grid_search.best_estimator_         # Best estimation combo "
   ]
  },
  {
   "cell_type": "code",
   "execution_count": null,
   "metadata": {},
   "outputs": [],
   "source": [
    "conf_mtx_trn = confusion_matrix(y_train, grid_search.predict(X_train_std)) \n",
    "print(f\"Train Confusion Matrix : \\n{conf_mtx_trn}\") \n",
    "\n",
    "conf_mtx_tst = confusion_matrix(y_test, grid_search.predict(X_test_std)) \n",
    "print(f\"Test Confusion Matrix : \\n{conf_mtx_tst}\") "
   ]
  },
  {
   "cell_type": "code",
   "execution_count": null,
   "metadata": {},
   "outputs": [],
   "source": [
    "acc_sc_trn = accuracy_score(y_train, grid_search.predict(X_train_std)) \n",
    "print(f\"Train Accuracy Score : {acc_sc_trn}\") \n",
    "\n",
    "acc_sc_tst = accuracy_score(y_test, grid_search.predict(X_test_std)) \n",
    "print(f\"Test Accuracy Score : {acc_sc_tst}\") "
   ]
  }
 ],
 "metadata": {
  "kernelspec": {
   "display_name": "virtl_env",
   "language": "python",
   "name": "python3"
  },
  "language_info": {
   "codemirror_mode": {
    "name": "ipython",
    "version": 3
   },
   "file_extension": ".py",
   "mimetype": "text/x-python",
   "name": "python",
   "nbconvert_exporter": "python",
   "pygments_lexer": "ipython3",
   "version": "3.12.2"
  }
 },
 "nbformat": 4,
 "nbformat_minor": 2
}
