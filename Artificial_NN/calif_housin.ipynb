{
 "cells": [
  {
   "cell_type": "markdown",
   "id": "9ad5e6e7",
   "metadata": {},
   "source": [
    "# Regression over housing details California -    "
   ]
  },
  {
   "cell_type": "code",
   "execution_count": 1,
   "id": "ba9e0fef",
   "metadata": {},
   "outputs": [],
   "source": [
    "import numpy as np \n",
    "import pandas as pd \n",
    "\n",
    "from sklearn.model_selection import train_test_split \n",
    "from sklearn.preprocessing import StandardScaler \n",
    "\n",
    "%matplotlib inline \n",
    "import matplotlib as mlp \n",
    "import matplotlib.pyplot as plt "
   ]
  },
  {
   "cell_type": "code",
   "execution_count": 2,
   "id": "10be9859",
   "metadata": {},
   "outputs": [],
   "source": [
    "import tensorflow as tf \n",
    "from tensorflow import keras "
   ]
  },
  {
   "cell_type": "code",
   "execution_count": 3,
   "id": "bea4d98c",
   "metadata": {},
   "outputs": [],
   "source": [
    "np.random.seed(42) \n",
    "tf.random.set_seed(42) "
   ]
  },
  {
   "cell_type": "markdown",
   "id": "c33d74d1",
   "metadata": {},
   "source": [
    "Loading housing dataset -  "
   ]
  },
  {
   "cell_type": "code",
   "execution_count": 4,
   "id": "844c6e9b",
   "metadata": {},
   "outputs": [],
   "source": [
    "from sklearn.datasets import fetch_california_housing \n",
    "housing = fetch_california_housing() "
   ]
  },
  {
   "cell_type": "code",
   "execution_count": 5,
   "id": "f23b4063",
   "metadata": {},
   "outputs": [
    {
     "data": {
      "text/plain": [
       "['MedInc',\n",
       " 'HouseAge',\n",
       " 'AveRooms',\n",
       " 'AveBedrms',\n",
       " 'Population',\n",
       " 'AveOccup',\n",
       " 'Latitude',\n",
       " 'Longitude']"
      ]
     },
     "execution_count": 5,
     "metadata": {},
     "output_type": "execute_result"
    }
   ],
   "source": [
    "housing.feature_names "
   ]
  },
  {
   "cell_type": "code",
   "execution_count": 6,
   "id": "7e806b73",
   "metadata": {},
   "outputs": [
    {
     "name": "stdout",
     "output_type": "stream",
     "text": [
      "Train_full size :\n",
      "(15480, 8)\n",
      "(15480,)\n",
      "Test size : \n",
      "(5160, 8)\n",
      "(5160,)\n",
      "\n",
      "Train size :\n",
      "(11610, 8)\n",
      "(11610,)\n",
      "Valid^n size : \n",
      "(3870, 8)\n",
      "(3870,)\n"
     ]
    }
   ],
   "source": [
    "x_train_full, X_test, y_train_full, y_test = train_test_split(housing.data, housing.target, random_state=42) \n",
    "X_train, X_valid, y_train, y_valid = train_test_split(x_train_full, y_train_full, random_state=42)   \n",
    "\n",
    "print(f\"Train_full size :\\n{x_train_full.shape}\\n{y_train_full.shape}\\nTest size : \\n{X_test.shape}\\n{y_test.shape}\") \n",
    "print(f\"\\nTrain size :\\n{X_train.shape}\\n{y_train.shape}\\nValid^n size : \\n{X_valid.shape}\\n{y_valid.shape}\") "
   ]
  },
  {
   "cell_type": "code",
   "execution_count": 7,
   "id": "0f90d73c",
   "metadata": {},
   "outputs": [],
   "source": [
    "scaler = StandardScaler() \n",
    "X_train = scaler.fit_transform(X_train) \n",
    "X_valid = scaler.transform(X_valid) \n",
    "X_test = scaler.transform(X_test) "
   ]
  },
  {
   "cell_type": "code",
   "execution_count": 8,
   "id": "76ed54a5",
   "metadata": {},
   "outputs": [
    {
     "data": {
      "text/plain": [
       "array([[-0.19397883, -1.07781319, -0.94338545, ..., -0.57291624,\n",
       "         0.92926047, -1.42215523],\n",
       "       [ 0.75198318, -1.868895  ,  0.40547793, ...,  0.20516532,\n",
       "        -0.91654738,  1.09666969],\n",
       "       [-0.41469108,  0.02970134,  0.81808819, ..., -0.29983271,\n",
       "         1.30872858, -1.697027  ],\n",
       "       ...,\n",
       "       [-1.22332336,  0.50435042, -0.51600328, ...,  0.1344908 ,\n",
       "        -0.71978613,  1.14664638],\n",
       "       [-0.93556989,  1.8491895 , -0.10878451, ..., -0.01354498,\n",
       "         0.52168361, -0.10277075],\n",
       "       [ 0.89585991,  0.1879177 ,  0.29947528, ..., -0.17823425,\n",
       "         1.12133692, -1.30720885]])"
      ]
     },
     "execution_count": 8,
     "metadata": {},
     "output_type": "execute_result"
    }
   ],
   "source": [
    "X_train "
   ]
  },
  {
   "cell_type": "code",
   "execution_count": 9,
   "id": "8d2f45ce",
   "metadata": {},
   "outputs": [
    {
     "data": {
      "text/plain": [
       "array([1.442, 1.687, 1.621, ..., 0.68 , 0.613, 1.97 ])"
      ]
     },
     "execution_count": 9,
     "metadata": {},
     "output_type": "execute_result"
    }
   ],
   "source": [
    "y_train "
   ]
  },
  {
   "cell_type": "code",
   "execution_count": 10,
   "id": "001a808e",
   "metadata": {},
   "outputs": [
    {
     "data": {
      "text/plain": [
       "array([[-0.72894678,  0.42524224, -0.72520018, ...,  0.76884409,\n",
       "        -0.89312342,  0.86177927],\n",
       "       [-0.53253697,  1.61186495, -0.07501671, ...,  0.22981129,\n",
       "         0.96673881, -1.43714823],\n",
       "       [-1.12428044, -0.36583956, -0.83039438, ..., -0.37482146,\n",
       "        -1.35223299,  1.26159275],\n",
       "       ...,\n",
       "       [-0.38169423, -0.2076232 , -0.46608538, ...,  0.05940227,\n",
       "        -0.64482947,  0.43697745],\n",
       "       [-0.75078755,  0.50435042, -0.67205695, ..., -0.3343433 ,\n",
       "        -1.15078695,  1.10166736],\n",
       "       [-0.07665671,  0.10880952, -0.42690329, ..., -0.15910745,\n",
       "        -0.87438425,  0.8567816 ]])"
      ]
     },
     "execution_count": 10,
     "metadata": {},
     "output_type": "execute_result"
    }
   ],
   "source": [
    "X_valid  "
   ]
  },
  {
   "cell_type": "code",
   "execution_count": 11,
   "id": "f5a29119",
   "metadata": {},
   "outputs": [
    {
     "data": {
      "text/plain": [
       "array([1.625, 2.25 , 1.568, ..., 1.794, 1.979, 1.86 ])"
      ]
     },
     "execution_count": 11,
     "metadata": {},
     "output_type": "execute_result"
    }
   ],
   "source": [
    "y_valid "
   ]
  },
  {
   "cell_type": "code",
   "execution_count": 12,
   "id": "0f0509dd",
   "metadata": {},
   "outputs": [
    {
     "data": {
      "text/plain": [
       "array([[-1.15780104, -0.28673138, -0.49550877, ...,  0.38899735,\n",
       "         0.19374821,  0.2870474 ],\n",
       "       [-0.7125531 ,  0.10880952, -0.16332973, ..., -0.11818174,\n",
       "        -0.23725261,  0.06215231],\n",
       "       [-0.2156101 ,  1.8491895 , -0.57982788, ..., -0.67694905,\n",
       "         1.00890193, -1.4271529 ],\n",
       "       ...,\n",
       "       [-0.90351581,  0.66256679, -0.8562583 , ...,  0.68837768,\n",
       "        -0.76194926,  0.66187253],\n",
       "       [ 1.56873373, -1.78978682,  0.75535703, ..., -0.18226735,\n",
       "         1.34152212, -0.73747465],\n",
       "       [ 1.43527981,  0.58345861,  0.10928062, ..., -0.17819366,\n",
       "        -0.82285155,  0.59190517]])"
      ]
     },
     "execution_count": 12,
     "metadata": {},
     "output_type": "execute_result"
    }
   ],
   "source": [
    "X_test "
   ]
  },
  {
   "cell_type": "code",
   "execution_count": 13,
   "id": "0c4fe3d6",
   "metadata": {},
   "outputs": [
    {
     "data": {
      "text/plain": [
       "array([0.477  , 0.458  , 5.00001, ..., 1.177  , 2.631  , 4.815  ])"
      ]
     },
     "execution_count": 13,
     "metadata": {},
     "output_type": "execute_result"
    }
   ],
   "source": [
    "y_test "
   ]
  },
  {
   "cell_type": "markdown",
   "id": "9385f5bb",
   "metadata": {},
   "source": [
    "# Keras neural network model -  "
   ]
  },
  {
   "cell_type": "code",
   "execution_count": 14,
   "id": "cf8aa3d0",
   "metadata": {},
   "outputs": [
    {
     "name": "stderr",
     "output_type": "stream",
     "text": [
      "d:\\Machine_Learning_PY\\virtl_env\\Lib\\site-packages\\keras\\src\\layers\\core\\dense.py:93: UserWarning: Do not pass an `input_shape`/`input_dim` argument to a layer. When using Sequential models, prefer using an `Input(shape)` object as the first layer in the model instead.\n",
      "  super().__init__(activity_regularizer=activity_regularizer, **kwargs)\n"
     ]
    },
    {
     "data": {
      "text/html": [
       "<pre style=\"white-space:pre;overflow-x:auto;line-height:normal;font-family:Menlo,'DejaVu Sans Mono',consolas,'Courier New',monospace\"><span style=\"font-weight: bold\">Model: \"sequential\"</span>\n",
       "</pre>\n"
      ],
      "text/plain": [
       "\u001b[1mModel: \"sequential\"\u001b[0m\n"
      ]
     },
     "metadata": {},
     "output_type": "display_data"
    },
    {
     "data": {
      "text/html": [
       "<pre style=\"white-space:pre;overflow-x:auto;line-height:normal;font-family:Menlo,'DejaVu Sans Mono',consolas,'Courier New',monospace\">┏━━━━━━━━━━━━━━━━━━━━━━━━━━━━━━━━━┳━━━━━━━━━━━━━━━━━━━━━━━━┳━━━━━━━━━━━━━━━┓\n",
       "┃<span style=\"font-weight: bold\"> Layer (type)                    </span>┃<span style=\"font-weight: bold\"> Output Shape           </span>┃<span style=\"font-weight: bold\">       Param # </span>┃\n",
       "┡━━━━━━━━━━━━━━━━━━━━━━━━━━━━━━━━━╇━━━━━━━━━━━━━━━━━━━━━━━━╇━━━━━━━━━━━━━━━┩\n",
       "│ dense (<span style=\"color: #0087ff; text-decoration-color: #0087ff\">Dense</span>)                   │ (<span style=\"color: #00d7ff; text-decoration-color: #00d7ff\">None</span>, <span style=\"color: #00af00; text-decoration-color: #00af00\">30</span>)             │           <span style=\"color: #00af00; text-decoration-color: #00af00\">270</span> │\n",
       "├─────────────────────────────────┼────────────────────────┼───────────────┤\n",
       "│ dense_1 (<span style=\"color: #0087ff; text-decoration-color: #0087ff\">Dense</span>)                 │ (<span style=\"color: #00d7ff; text-decoration-color: #00d7ff\">None</span>, <span style=\"color: #00af00; text-decoration-color: #00af00\">30</span>)             │           <span style=\"color: #00af00; text-decoration-color: #00af00\">930</span> │\n",
       "├─────────────────────────────────┼────────────────────────┼───────────────┤\n",
       "│ dense_2 (<span style=\"color: #0087ff; text-decoration-color: #0087ff\">Dense</span>)                 │ (<span style=\"color: #00d7ff; text-decoration-color: #00d7ff\">None</span>, <span style=\"color: #00af00; text-decoration-color: #00af00\">1</span>)              │            <span style=\"color: #00af00; text-decoration-color: #00af00\">31</span> │\n",
       "└─────────────────────────────────┴────────────────────────┴───────────────┘\n",
       "</pre>\n"
      ],
      "text/plain": [
       "┏━━━━━━━━━━━━━━━━━━━━━━━━━━━━━━━━━┳━━━━━━━━━━━━━━━━━━━━━━━━┳━━━━━━━━━━━━━━━┓\n",
       "┃\u001b[1m \u001b[0m\u001b[1mLayer (type)                   \u001b[0m\u001b[1m \u001b[0m┃\u001b[1m \u001b[0m\u001b[1mOutput Shape          \u001b[0m\u001b[1m \u001b[0m┃\u001b[1m \u001b[0m\u001b[1m      Param #\u001b[0m\u001b[1m \u001b[0m┃\n",
       "┡━━━━━━━━━━━━━━━━━━━━━━━━━━━━━━━━━╇━━━━━━━━━━━━━━━━━━━━━━━━╇━━━━━━━━━━━━━━━┩\n",
       "│ dense (\u001b[38;5;33mDense\u001b[0m)                   │ (\u001b[38;5;45mNone\u001b[0m, \u001b[38;5;34m30\u001b[0m)             │           \u001b[38;5;34m270\u001b[0m │\n",
       "├─────────────────────────────────┼────────────────────────┼───────────────┤\n",
       "│ dense_1 (\u001b[38;5;33mDense\u001b[0m)                 │ (\u001b[38;5;45mNone\u001b[0m, \u001b[38;5;34m30\u001b[0m)             │           \u001b[38;5;34m930\u001b[0m │\n",
       "├─────────────────────────────────┼────────────────────────┼───────────────┤\n",
       "│ dense_2 (\u001b[38;5;33mDense\u001b[0m)                 │ (\u001b[38;5;45mNone\u001b[0m, \u001b[38;5;34m1\u001b[0m)              │            \u001b[38;5;34m31\u001b[0m │\n",
       "└─────────────────────────────────┴────────────────────────┴───────────────┘\n"
      ]
     },
     "metadata": {},
     "output_type": "display_data"
    },
    {
     "data": {
      "text/html": [
       "<pre style=\"white-space:pre;overflow-x:auto;line-height:normal;font-family:Menlo,'DejaVu Sans Mono',consolas,'Courier New',monospace\"><span style=\"font-weight: bold\"> Total params: </span><span style=\"color: #00af00; text-decoration-color: #00af00\">1,231</span> (4.81 KB)\n",
       "</pre>\n"
      ],
      "text/plain": [
       "\u001b[1m Total params: \u001b[0m\u001b[38;5;34m1,231\u001b[0m (4.81 KB)\n"
      ]
     },
     "metadata": {},
     "output_type": "display_data"
    },
    {
     "data": {
      "text/html": [
       "<pre style=\"white-space:pre;overflow-x:auto;line-height:normal;font-family:Menlo,'DejaVu Sans Mono',consolas,'Courier New',monospace\"><span style=\"font-weight: bold\"> Trainable params: </span><span style=\"color: #00af00; text-decoration-color: #00af00\">1,231</span> (4.81 KB)\n",
       "</pre>\n"
      ],
      "text/plain": [
       "\u001b[1m Trainable params: \u001b[0m\u001b[38;5;34m1,231\u001b[0m (4.81 KB)\n"
      ]
     },
     "metadata": {},
     "output_type": "display_data"
    },
    {
     "data": {
      "text/html": [
       "<pre style=\"white-space:pre;overflow-x:auto;line-height:normal;font-family:Menlo,'DejaVu Sans Mono',consolas,'Courier New',monospace\"><span style=\"font-weight: bold\"> Non-trainable params: </span><span style=\"color: #00af00; text-decoration-color: #00af00\">0</span> (0.00 B)\n",
       "</pre>\n"
      ],
      "text/plain": [
       "\u001b[1m Non-trainable params: \u001b[0m\u001b[38;5;34m0\u001b[0m (0.00 B)\n"
      ]
     },
     "metadata": {},
     "output_type": "display_data"
    }
   ],
   "source": [
    "model = keras.models.Sequential([\n",
    "    keras.layers.Dense(30, activation='relu', input_shape=X_train.shape[1:]), \n",
    "    keras.layers.Dense(30, activation='relu'),\n",
    "    keras.layers.Dense(1)\n",
    "])\n",
    "\n",
    "model.summary() "
   ]
  },
  {
   "cell_type": "markdown",
   "id": "dd0c4d8b",
   "metadata": {},
   "source": [
    "Model comparision and showcase -  "
   ]
  },
  {
   "cell_type": "code",
   "execution_count": 15,
   "id": "636962fd",
   "metadata": {},
   "outputs": [],
   "source": [
    "model.compile(loss='mean_squared_error',\n",
    "              optimizer=keras.optimizers.SGD(learning_rate=1e-3),\n",
    "              metrics=['mae']) \n"
   ]
  },
  {
   "cell_type": "code",
   "execution_count": 16,
   "id": "1d5bf92c",
   "metadata": {},
   "outputs": [
    {
     "name": "stdout",
     "output_type": "stream",
     "text": [
      "Epoch 1/20\n",
      "\u001b[1m363/363\u001b[0m \u001b[32m━━━━━━━━━━━━━━━━━━━━\u001b[0m\u001b[37m\u001b[0m \u001b[1m1s\u001b[0m 1ms/step - loss: 2.9408 - mae: 1.3104 - val_loss: 0.9654 - val_mae: 0.7143\n",
      "Epoch 2/20\n",
      "\u001b[1m363/363\u001b[0m \u001b[32m━━━━━━━━━━━━━━━━━━━━\u001b[0m\u001b[37m\u001b[0m \u001b[1m0s\u001b[0m 1ms/step - loss: 0.8643 - mae: 0.7017 - val_loss: 0.6908 - val_mae: 0.6073\n",
      "Epoch 3/20\n",
      "\u001b[1m363/363\u001b[0m \u001b[32m━━━━━━━━━━━━━━━━━━━━\u001b[0m\u001b[37m\u001b[0m \u001b[1m0s\u001b[0m 1ms/step - loss: 0.7196 - mae: 0.6250 - val_loss: 0.6193 - val_mae: 0.5703\n",
      "Epoch 4/20\n",
      "\u001b[1m363/363\u001b[0m \u001b[32m━━━━━━━━━━━━━━━━━━━━\u001b[0m\u001b[37m\u001b[0m \u001b[1m0s\u001b[0m 1ms/step - loss: 0.6664 - mae: 0.5935 - val_loss: 0.5780 - val_mae: 0.5482\n",
      "Epoch 5/20\n",
      "\u001b[1m363/363\u001b[0m \u001b[32m━━━━━━━━━━━━━━━━━━━━\u001b[0m\u001b[37m\u001b[0m \u001b[1m0s\u001b[0m 1ms/step - loss: 0.6255 - mae: 0.5729 - val_loss: 0.5432 - val_mae: 0.5303\n",
      "Epoch 6/20\n",
      "\u001b[1m363/363\u001b[0m \u001b[32m━━━━━━━━━━━━━━━━━━━━\u001b[0m\u001b[37m\u001b[0m \u001b[1m0s\u001b[0m 1ms/step - loss: 0.5913 - mae: 0.5562 - val_loss: 0.5148 - val_mae: 0.5157\n",
      "Epoch 7/20\n",
      "\u001b[1m363/363\u001b[0m \u001b[32m━━━━━━━━━━━━━━━━━━━━\u001b[0m\u001b[37m\u001b[0m \u001b[1m0s\u001b[0m 1ms/step - loss: 0.5625 - mae: 0.5421 - val_loss: 0.4891 - val_mae: 0.5032\n",
      "Epoch 8/20\n",
      "\u001b[1m363/363\u001b[0m \u001b[32m━━━━━━━━━━━━━━━━━━━━\u001b[0m\u001b[37m\u001b[0m \u001b[1m0s\u001b[0m 1ms/step - loss: 0.5377 - mae: 0.5300 - val_loss: 0.4702 - val_mae: 0.4931\n",
      "Epoch 9/20\n",
      "\u001b[1m363/363\u001b[0m \u001b[32m━━━━━━━━━━━━━━━━━━━━\u001b[0m\u001b[37m\u001b[0m \u001b[1m0s\u001b[0m 1ms/step - loss: 0.5165 - mae: 0.5194 - val_loss: 0.4531 - val_mae: 0.4844\n",
      "Epoch 10/20\n",
      "\u001b[1m363/363\u001b[0m \u001b[32m━━━━━━━━━━━━━━━━━━━━\u001b[0m\u001b[37m\u001b[0m \u001b[1m0s\u001b[0m 1ms/step - loss: 0.4987 - mae: 0.5102 - val_loss: 0.4393 - val_mae: 0.4771\n",
      "Epoch 11/20\n",
      "\u001b[1m363/363\u001b[0m \u001b[32m━━━━━━━━━━━━━━━━━━━━\u001b[0m\u001b[37m\u001b[0m \u001b[1m0s\u001b[0m 1ms/step - loss: 0.4842 - mae: 0.5025 - val_loss: 0.4290 - val_mae: 0.4714\n",
      "Epoch 12/20\n",
      "\u001b[1m363/363\u001b[0m \u001b[32m━━━━━━━━━━━━━━━━━━━━\u001b[0m\u001b[37m\u001b[0m \u001b[1m0s\u001b[0m 1ms/step - loss: 0.4722 - mae: 0.4960 - val_loss: 0.4203 - val_mae: 0.4666\n",
      "Epoch 13/20\n",
      "\u001b[1m363/363\u001b[0m \u001b[32m━━━━━━━━━━━━━━━━━━━━\u001b[0m\u001b[37m\u001b[0m \u001b[1m0s\u001b[0m 1ms/step - loss: 0.4624 - mae: 0.4905 - val_loss: 0.4128 - val_mae: 0.4625\n",
      "Epoch 14/20\n",
      "\u001b[1m363/363\u001b[0m \u001b[32m━━━━━━━━━━━━━━━━━━━━\u001b[0m\u001b[37m\u001b[0m \u001b[1m0s\u001b[0m 1ms/step - loss: 0.4542 - mae: 0.4858 - val_loss: 0.4061 - val_mae: 0.4588\n",
      "Epoch 15/20\n",
      "\u001b[1m363/363\u001b[0m \u001b[32m━━━━━━━━━━━━━━━━━━━━\u001b[0m\u001b[37m\u001b[0m \u001b[1m0s\u001b[0m 1ms/step - loss: 0.4472 - mae: 0.4818 - val_loss: 0.4016 - val_mae: 0.4564\n",
      "Epoch 16/20\n",
      "\u001b[1m363/363\u001b[0m \u001b[32m━━━━━━━━━━━━━━━━━━━━\u001b[0m\u001b[37m\u001b[0m \u001b[1m0s\u001b[0m 1ms/step - loss: 0.4411 - mae: 0.4783 - val_loss: 0.3959 - val_mae: 0.4532\n",
      "Epoch 17/20\n",
      "\u001b[1m363/363\u001b[0m \u001b[32m━━━━━━━━━━━━━━━━━━━━\u001b[0m\u001b[37m\u001b[0m \u001b[1m0s\u001b[0m 1ms/step - loss: 0.4360 - mae: 0.4753 - val_loss: 0.3920 - val_mae: 0.4511\n",
      "Epoch 18/20\n",
      "\u001b[1m363/363\u001b[0m \u001b[32m━━━━━━━━━━━━━━━━━━━━\u001b[0m\u001b[37m\u001b[0m \u001b[1m0s\u001b[0m 1ms/step - loss: 0.4315 - mae: 0.4727 - val_loss: 0.3885 - val_mae: 0.4492\n",
      "Epoch 19/20\n",
      "\u001b[1m363/363\u001b[0m \u001b[32m━━━━━━━━━━━━━━━━━━━━\u001b[0m\u001b[37m\u001b[0m \u001b[1m0s\u001b[0m 1ms/step - loss: 0.4275 - mae: 0.4703 - val_loss: 0.3852 - val_mae: 0.4474\n",
      "Epoch 20/20\n",
      "\u001b[1m363/363\u001b[0m \u001b[32m━━━━━━━━━━━━━━━━━━━━\u001b[0m\u001b[37m\u001b[0m \u001b[1m0s\u001b[0m 1ms/step - loss: 0.4238 - mae: 0.4681 - val_loss: 0.3822 - val_mae: 0.4457\n",
      "Model parameters : {'verbose': 'auto', 'epochs': 20, 'steps': 363}\n",
      "Model history : \n",
      "{'loss': [1.9125148057937622, 0.781488299369812, 0.6730111241340637, 0.6243000626564026, 0.5867229700088501, 0.5554627180099487, 0.5291585922241211, 0.5066431760787964, 0.4877597391605377, 0.4722486436367035, 0.4596906900405884, 0.44951966404914856, 0.4412332773208618, 0.4343429505825043, 0.4284944236278534, 0.423410028219223, 0.4190502166748047, 0.4152306616306305, 0.41172492504119873, 0.4085051417350769], 'mae': [1.0083845853805542, 0.6643129587173462, 0.6036075353622437, 0.5759090781211853, 0.5566588044166565, 0.5408905744552612, 0.5274040699005127, 0.5158653259277344, 0.5061497688293457, 0.4978703260421753, 0.4910108745098114, 0.4853278696537018, 0.4805332124233246, 0.4764019548892975, 0.47293201088905334, 0.469901978969574, 0.46724405884742737, 0.4649425446987152, 0.46280989050865173, 0.4607834815979004], 'val_loss': [0.9653886556625366, 0.6907834410667419, 0.6192992329597473, 0.5780064463615417, 0.5432224869728088, 0.5148338079452515, 0.4891405403614044, 0.4701579511165619, 0.4530792236328125, 0.4392853081226349, 0.4289557635784149, 0.4202726483345032, 0.41282936930656433, 0.4060531556606293, 0.401555597782135, 0.3958735167980194, 0.3919929563999176, 0.3884546458721161, 0.38523754477500916, 0.38220664858818054], 'val_mae': [0.7142831683158875, 0.607324481010437, 0.5702537894248962, 0.5482181310653687, 0.5303489565849304, 0.5157241225242615, 0.5031713247299194, 0.49314117431640625, 0.4844202995300293, 0.477144330739975, 0.4713898301124573, 0.46655842661857605, 0.46247705817222595, 0.458829402923584, 0.45635923743247986, 0.45320507884025574, 0.45108258724212646, 0.4491855800151825, 0.44738537073135376, 0.4457089304924011]}\n"
     ]
    }
   ],
   "source": [
    "model_history = model.fit(X_train, y_train, epochs=20, validation_data=(X_valid, y_valid)) \n",
    "print(f\"Model parameters : {model_history.params}\") \n",
    "print(f\"Model history : \\n{model_history.history}\") "
   ]
  },
  {
   "cell_type": "markdown",
   "id": "8b2dcc67",
   "metadata": {},
   "source": [
    "# Model Performance -  "
   ]
  },
  {
   "cell_type": "code",
   "execution_count": 17,
   "id": "a318103b",
   "metadata": {},
   "outputs": [
    {
     "data": {
      "image/png": "[encoded data removed]",
      "text/plain": [
       "<Figure size 800x600 with 1 Axes>"
      ]
     },
     "metadata": {},
     "output_type": "display_data"
    }
   ],
   "source": [
    "pd.DataFrame(model_history.history).plot(figsize=(8,6))  \n",
    "plt.grid(True) \n",
    "plt.gca().set_ylim(0,1) \n",
    "plt.show() "
   ]
  },
  {
   "cell_type": "code",
   "execution_count": 18,
   "id": "01a337d7",
   "metadata": {},
   "outputs": [
    {
     "name": "stdout",
     "output_type": "stream",
     "text": [
      "\u001b[1m162/162\u001b[0m \u001b[32m━━━━━━━━━━━━━━━━━━━━\u001b[0m\u001b[37m\u001b[0m \u001b[1m0s\u001b[0m 668us/step - loss: 0.4122 - mae: 0.4606\n"
     ]
    }
   ],
   "source": [
    "mae_test = model.evaluate(X_test, y_test) "
   ]
  },
  {
   "cell_type": "code",
   "execution_count": 19,
   "id": "2975be25",
   "metadata": {},
   "outputs": [
    {
     "data": {
      "text/plain": [
       "array([[-1.15780104, -0.28673138, -0.49550877, -0.16618097, -0.02946012,\n",
       "         0.38899735,  0.19374821,  0.2870474 ],\n",
       "       [-0.7125531 ,  0.10880952, -0.16332973,  0.20164652,  0.12842117,\n",
       "        -0.11818174, -0.23725261,  0.06215231],\n",
       "       [-0.2156101 ,  1.8491895 , -0.57982788,  0.18528489, -0.10429403,\n",
       "        -0.67694905,  1.00890193, -1.4271529 ]])"
      ]
     },
     "execution_count": 19,
     "metadata": {},
     "output_type": "execute_result"
    }
   ],
   "source": [
    "X_new = X_test[:3] \n",
    "X_new "
   ]
  },
  {
   "cell_type": "code",
   "execution_count": 20,
   "id": "0f36654d",
   "metadata": {},
   "outputs": [
    {
     "name": "stdout",
     "output_type": "stream",
     "text": [
      "\u001b[1m1/1\u001b[0m \u001b[32m━━━━━━━━━━━━━━━━━━━━\u001b[0m\u001b[37m\u001b[0m \u001b[1m0s\u001b[0m 40ms/step\n",
      "Prediction value = [[0.6476703]\n",
      " [1.5923533]\n",
      " [3.4554338]]\n",
      "Test value = [0.477   0.458   5.00001]\n"
     ]
    }
   ],
   "source": [
    "y_pred = model.predict(X_new) \n",
    "print(f\"Prediction value = {y_pred}\") \n",
    "print(f\"Test value = {y_test[:3]}\") "
   ]
  },
  {
   "cell_type": "markdown",
   "id": "60dc38da",
   "metadata": {},
   "source": [
    "# Functional API -  \n",
    "\n",
    "Some NN models have complex topologies rather than sequential. Some may have multiple input or multiple output.  "
   ]
  },
  {
   "cell_type": "code",
   "execution_count": 21,
   "id": "4ac42643",
   "metadata": {},
   "outputs": [
    {
     "name": "stdout",
     "output_type": "stream",
     "text": [
      "WARNING:tensorflow:From d:\\Machine_Learning_PY\\virtl_env\\Lib\\site-packages\\keras\\src\\backend\\common\\global_state.py:82: The name tf.reset_default_graph is deprecated. Please use tf.compat.v1.reset_default_graph instead.\n",
      "\n"
     ]
    }
   ],
   "source": [
    "tf.keras.backend.clear_session() \n",
    "tf.compat.v1.reset_default_graph() "
   ]
  },
  {
   "cell_type": "code",
   "execution_count": 22,
   "id": "9eab5f04",
   "metadata": {},
   "outputs": [
    {
     "data": {
      "text/html": [
       "<pre style=\"white-space:pre;overflow-x:auto;line-height:normal;font-family:Menlo,'DejaVu Sans Mono',consolas,'Courier New',monospace\"><span style=\"font-weight: bold\">Model: \"functional\"</span>\n",
       "</pre>\n"
      ],
      "text/plain": [
       "\u001b[1mModel: \"functional\"\u001b[0m\n"
      ]
     },
     "metadata": {},
     "output_type": "display_data"
    },
    {
     "data": {
      "text/html": [
       "<pre style=\"white-space:pre;overflow-x:auto;line-height:normal;font-family:Menlo,'DejaVu Sans Mono',consolas,'Courier New',monospace\">┏━━━━━━━━━━━━━━━━━━━━━┳━━━━━━━━━━━━━━━━━━━┳━━━━━━━━━━━━┳━━━━━━━━━━━━━━━━━━━┓\n",
       "┃<span style=\"font-weight: bold\"> Layer (type)        </span>┃<span style=\"font-weight: bold\"> Output Shape      </span>┃<span style=\"font-weight: bold\">    Param # </span>┃<span style=\"font-weight: bold\"> Connected to      </span>┃\n",
       "┡━━━━━━━━━━━━━━━━━━━━━╇━━━━━━━━━━━━━━━━━━━╇━━━━━━━━━━━━╇━━━━━━━━━━━━━━━━━━━┩\n",
       "│ input_layer         │ (<span style=\"color: #00d7ff; text-decoration-color: #00d7ff\">None</span>, <span style=\"color: #00af00; text-decoration-color: #00af00\">8</span>)         │          <span style=\"color: #00af00; text-decoration-color: #00af00\">0</span> │ -                 │\n",
       "│ (<span style=\"color: #0087ff; text-decoration-color: #0087ff\">InputLayer</span>)        │                   │            │                   │\n",
       "├─────────────────────┼───────────────────┼────────────┼───────────────────┤\n",
       "│ dense (<span style=\"color: #0087ff; text-decoration-color: #0087ff\">Dense</span>)       │ (<span style=\"color: #00d7ff; text-decoration-color: #00d7ff\">None</span>, <span style=\"color: #00af00; text-decoration-color: #00af00\">30</span>)        │        <span style=\"color: #00af00; text-decoration-color: #00af00\">270</span> │ input_layer[<span style=\"color: #00af00; text-decoration-color: #00af00\">0</span>][<span style=\"color: #00af00; text-decoration-color: #00af00\">0</span>] │\n",
       "├─────────────────────┼───────────────────┼────────────┼───────────────────┤\n",
       "│ dense_1 (<span style=\"color: #0087ff; text-decoration-color: #0087ff\">Dense</span>)     │ (<span style=\"color: #00d7ff; text-decoration-color: #00d7ff\">None</span>, <span style=\"color: #00af00; text-decoration-color: #00af00\">30</span>)        │        <span style=\"color: #00af00; text-decoration-color: #00af00\">930</span> │ dense[<span style=\"color: #00af00; text-decoration-color: #00af00\">0</span>][<span style=\"color: #00af00; text-decoration-color: #00af00\">0</span>]       │\n",
       "├─────────────────────┼───────────────────┼────────────┼───────────────────┤\n",
       "│ concatenate         │ (<span style=\"color: #00d7ff; text-decoration-color: #00d7ff\">None</span>, <span style=\"color: #00af00; text-decoration-color: #00af00\">38</span>)        │          <span style=\"color: #00af00; text-decoration-color: #00af00\">0</span> │ input_layer[<span style=\"color: #00af00; text-decoration-color: #00af00\">0</span>][<span style=\"color: #00af00; text-decoration-color: #00af00\">0</span>… │\n",
       "│ (<span style=\"color: #0087ff; text-decoration-color: #0087ff\">Concatenate</span>)       │                   │            │ dense_1[<span style=\"color: #00af00; text-decoration-color: #00af00\">0</span>][<span style=\"color: #00af00; text-decoration-color: #00af00\">0</span>]     │\n",
       "├─────────────────────┼───────────────────┼────────────┼───────────────────┤\n",
       "│ dense_2 (<span style=\"color: #0087ff; text-decoration-color: #0087ff\">Dense</span>)     │ (<span style=\"color: #00d7ff; text-decoration-color: #00d7ff\">None</span>, <span style=\"color: #00af00; text-decoration-color: #00af00\">1</span>)         │         <span style=\"color: #00af00; text-decoration-color: #00af00\">39</span> │ concatenate[<span style=\"color: #00af00; text-decoration-color: #00af00\">0</span>][<span style=\"color: #00af00; text-decoration-color: #00af00\">0</span>] │\n",
       "└─────────────────────┴───────────────────┴────────────┴───────────────────┘\n",
       "</pre>\n"
      ],
      "text/plain": [
       "┏━━━━━━━━━━━━━━━━━━━━━┳━━━━━━━━━━━━━━━━━━━┳━━━━━━━━━━━━┳━━━━━━━━━━━━━━━━━━━┓\n",
       "┃\u001b[1m \u001b[0m\u001b[1mLayer (type)       \u001b[0m\u001b[1m \u001b[0m┃\u001b[1m \u001b[0m\u001b[1mOutput Shape     \u001b[0m\u001b[1m \u001b[0m┃\u001b[1m \u001b[0m\u001b[1m   Param #\u001b[0m\u001b[1m \u001b[0m┃\u001b[1m \u001b[0m\u001b[1mConnected to     \u001b[0m\u001b[1m \u001b[0m┃\n",
       "┡━━━━━━━━━━━━━━━━━━━━━╇━━━━━━━━━━━━━━━━━━━╇━━━━━━━━━━━━╇━━━━━━━━━━━━━━━━━━━┩\n",
       "│ input_layer         │ (\u001b[38;5;45mNone\u001b[0m, \u001b[38;5;34m8\u001b[0m)         │          \u001b[38;5;34m0\u001b[0m │ -                 │\n",
       "│ (\u001b[38;5;33mInputLayer\u001b[0m)        │                   │            │                   │\n",
       "├─────────────────────┼───────────────────┼────────────┼───────────────────┤\n",
       "│ dense (\u001b[38;5;33mDense\u001b[0m)       │ (\u001b[38;5;45mNone\u001b[0m, \u001b[38;5;34m30\u001b[0m)        │        \u001b[38;5;34m270\u001b[0m │ input_layer[\u001b[38;5;34m0\u001b[0m][\u001b[38;5;34m0\u001b[0m] │\n",
       "├─────────────────────┼───────────────────┼────────────┼───────────────────┤\n",
       "│ dense_1 (\u001b[38;5;33mDense\u001b[0m)     │ (\u001b[38;5;45mNone\u001b[0m, \u001b[38;5;34m30\u001b[0m)        │        \u001b[38;5;34m930\u001b[0m │ dense[\u001b[38;5;34m0\u001b[0m][\u001b[38;5;34m0\u001b[0m]       │\n",
       "├─────────────────────┼───────────────────┼────────────┼───────────────────┤\n",
       "│ concatenate         │ (\u001b[38;5;45mNone\u001b[0m, \u001b[38;5;34m38\u001b[0m)        │          \u001b[38;5;34m0\u001b[0m │ input_layer[\u001b[38;5;34m0\u001b[0m][\u001b[38;5;34m0\u001b[0m… │\n",
       "│ (\u001b[38;5;33mConcatenate\u001b[0m)       │                   │            │ dense_1[\u001b[38;5;34m0\u001b[0m][\u001b[38;5;34m0\u001b[0m]     │\n",
       "├─────────────────────┼───────────────────┼────────────┼───────────────────┤\n",
       "│ dense_2 (\u001b[38;5;33mDense\u001b[0m)     │ (\u001b[38;5;45mNone\u001b[0m, \u001b[38;5;34m1\u001b[0m)         │         \u001b[38;5;34m39\u001b[0m │ concatenate[\u001b[38;5;34m0\u001b[0m][\u001b[38;5;34m0\u001b[0m] │\n",
       "└─────────────────────┴───────────────────┴────────────┴───────────────────┘\n"
      ]
     },
     "metadata": {},
     "output_type": "display_data"
    },
    {
     "data": {
      "text/html": [
       "<pre style=\"white-space:pre;overflow-x:auto;line-height:normal;font-family:Menlo,'DejaVu Sans Mono',consolas,'Courier New',monospace\"><span style=\"font-weight: bold\"> Total params: </span><span style=\"color: #00af00; text-decoration-color: #00af00\">1,239</span> (4.84 KB)\n",
       "</pre>\n"
      ],
      "text/plain": [
       "\u001b[1m Total params: \u001b[0m\u001b[38;5;34m1,239\u001b[0m (4.84 KB)\n"
      ]
     },
     "metadata": {},
     "output_type": "display_data"
    },
    {
     "data": {
      "text/html": [
       "<pre style=\"white-space:pre;overflow-x:auto;line-height:normal;font-family:Menlo,'DejaVu Sans Mono',consolas,'Courier New',monospace\"><span style=\"font-weight: bold\"> Trainable params: </span><span style=\"color: #00af00; text-decoration-color: #00af00\">1,239</span> (4.84 KB)\n",
       "</pre>\n"
      ],
      "text/plain": [
       "\u001b[1m Trainable params: \u001b[0m\u001b[38;5;34m1,239\u001b[0m (4.84 KB)\n"
      ]
     },
     "metadata": {},
     "output_type": "display_data"
    },
    {
     "data": {
      "text/html": [
       "<pre style=\"white-space:pre;overflow-x:auto;line-height:normal;font-family:Menlo,'DejaVu Sans Mono',consolas,'Courier New',monospace\"><span style=\"font-weight: bold\"> Non-trainable params: </span><span style=\"color: #00af00; text-decoration-color: #00af00\">0</span> (0.00 B)\n",
       "</pre>\n"
      ],
      "text/plain": [
       "\u001b[1m Non-trainable params: \u001b[0m\u001b[38;5;34m0\u001b[0m (0.00 B)\n"
      ]
     },
     "metadata": {},
     "output_type": "display_data"
    }
   ],
   "source": [
    "input_ = keras.layers.Input(shape=X_train.shape[1:]) \n",
    "hidden1 = keras.layers.Dense(30, activation='relu')(input_)  \n",
    "hidden2 = keras.layers.Dense(30, activation='relu')(hidden1) \n",
    "concat = keras.layers.concatenate([input_, hidden2]) \n",
    "output = keras.layers.Dense(1)(concat) \n",
    "\n",
    "model2 = keras.models.Model(inputs=[input_], outputs=[output]) \n",
    "model2.summary() "
   ]
  },
  {
   "cell_type": "markdown",
   "id": "295dcf56",
   "metadata": {},
   "source": [
    "New Model performance -  "
   ]
  },
  {
   "cell_type": "code",
   "execution_count": 23,
   "id": "cb0fd78d",
   "metadata": {},
   "outputs": [],
   "source": [
    "model2.compile(loss='mean_squared_error', optimizer=keras.optimizers.SGD(learning_rate=1e-3), metrics=['mae']) "
   ]
  },
  {
   "cell_type": "code",
   "execution_count": 24,
   "id": "6619c232",
   "metadata": {},
   "outputs": [
    {
     "name": "stdout",
     "output_type": "stream",
     "text": [
      "Epoch 1/40\n",
      "\u001b[1m363/363\u001b[0m \u001b[32m━━━━━━━━━━━━━━━━━━━━\u001b[0m\u001b[37m\u001b[0m \u001b[1m1s\u001b[0m 1ms/step - loss: 4.0433 - mae: 1.5586 - val_loss: 1.0681 - val_mae: 0.6224\n",
      "Epoch 2/40\n",
      "\u001b[1m363/363\u001b[0m \u001b[32m━━━━━━━━━━━━━━━━━━━━\u001b[0m\u001b[37m\u001b[0m \u001b[1m0s\u001b[0m 1ms/step - loss: 0.7289 - mae: 0.6254 - val_loss: 0.6430 - val_mae: 0.5828\n",
      "Epoch 3/40\n",
      "\u001b[1m363/363\u001b[0m \u001b[32m━━━━━━━━━━━━━━━━━━━━\u001b[0m\u001b[37m\u001b[0m \u001b[1m0s\u001b[0m 1ms/step - loss: 0.6689 - mae: 0.6006 - val_loss: 0.5888 - val_mae: 0.5596\n",
      "Epoch 4/40\n",
      "\u001b[1m363/363\u001b[0m \u001b[32m━━━━━━━━━━━━━━━━━━━━\u001b[0m\u001b[37m\u001b[0m \u001b[1m0s\u001b[0m 1ms/step - loss: 0.6302 - mae: 0.5804 - val_loss: 0.5509 - val_mae: 0.5404\n",
      "Epoch 5/40\n",
      "\u001b[1m363/363\u001b[0m \u001b[32m━━━━━━━━━━━━━━━━━━━━\u001b[0m\u001b[37m\u001b[0m \u001b[1m0s\u001b[0m 1ms/step - loss: 0.5979 - mae: 0.5635 - val_loss: 0.5203 - val_mae: 0.5237\n",
      "Epoch 6/40\n",
      "\u001b[1m363/363\u001b[0m \u001b[32m━━━━━━━━━━━━━━━━━━━━\u001b[0m\u001b[37m\u001b[0m \u001b[1m0s\u001b[0m 1ms/step - loss: 0.5705 - mae: 0.5488 - val_loss: 0.4952 - val_mae: 0.5095\n",
      "Epoch 7/40\n",
      "\u001b[1m363/363\u001b[0m \u001b[32m━━━━━━━━━━━━━━━━━━━━\u001b[0m\u001b[37m\u001b[0m \u001b[1m0s\u001b[0m 1ms/step - loss: 0.5471 - mae: 0.5361 - val_loss: 0.4750 - val_mae: 0.4978\n",
      "Epoch 8/40\n",
      "\u001b[1m363/363\u001b[0m \u001b[32m━━━━━━━━━━━━━━━━━━━━\u001b[0m\u001b[37m\u001b[0m \u001b[1m0s\u001b[0m 1ms/step - loss: 0.5270 - mae: 0.5251 - val_loss: 0.4587 - val_mae: 0.4878\n",
      "Epoch 9/40\n",
      "\u001b[1m363/363\u001b[0m \u001b[32m━━━━━━━━━━━━━━━━━━━━\u001b[0m\u001b[37m\u001b[0m \u001b[1m0s\u001b[0m 1ms/step - loss: 0.5098 - mae: 0.5155 - val_loss: 0.4459 - val_mae: 0.4794\n",
      "Epoch 10/40\n",
      "\u001b[1m363/363\u001b[0m \u001b[32m━━━━━━━━━━━━━━━━━━━━\u001b[0m\u001b[37m\u001b[0m \u001b[1m0s\u001b[0m 1ms/step - loss: 0.4952 - mae: 0.5073 - val_loss: 0.4377 - val_mae: 0.4727\n",
      "Epoch 11/40\n",
      "\u001b[1m363/363\u001b[0m \u001b[32m━━━━━━━━━━━━━━━━━━━━\u001b[0m\u001b[37m\u001b[0m \u001b[1m1s\u001b[0m 1ms/step - loss: 0.4825 - mae: 0.5002 - val_loss: 0.4333 - val_mae: 0.4671\n",
      "Epoch 12/40\n",
      "\u001b[1m363/363\u001b[0m \u001b[32m━━━━━━━━━━━━━━━━━━━━\u001b[0m\u001b[37m\u001b[0m \u001b[1m0s\u001b[0m 1ms/step - loss: 0.4716 - mae: 0.4937 - val_loss: 0.4335 - val_mae: 0.4625\n",
      "Epoch 13/40\n",
      "\u001b[1m363/363\u001b[0m \u001b[32m━━━━━━━━━━━━━━━━━━━━\u001b[0m\u001b[37m\u001b[0m \u001b[1m0s\u001b[0m 1ms/step - loss: 0.4622 - mae: 0.4881 - val_loss: 0.4305 - val_mae: 0.4585\n",
      "Epoch 14/40\n",
      "\u001b[1m363/363\u001b[0m \u001b[32m━━━━━━━━━━━━━━━━━━━━\u001b[0m\u001b[37m\u001b[0m \u001b[1m0s\u001b[0m 1ms/step - loss: 0.4543 - mae: 0.4833 - val_loss: 0.4284 - val_mae: 0.4550\n",
      "Epoch 15/40\n",
      "\u001b[1m363/363\u001b[0m \u001b[32m━━━━━━━━━━━━━━━━━━━━\u001b[0m\u001b[37m\u001b[0m \u001b[1m0s\u001b[0m 1ms/step - loss: 0.4474 - mae: 0.4792 - val_loss: 0.4268 - val_mae: 0.4520\n",
      "Epoch 16/40\n",
      "\u001b[1m363/363\u001b[0m \u001b[32m━━━━━━━━━━━━━━━━━━━━\u001b[0m\u001b[37m\u001b[0m \u001b[1m1s\u001b[0m 2ms/step - loss: 0.4414 - mae: 0.4757 - val_loss: 0.4257 - val_mae: 0.4495\n",
      "Epoch 17/40\n",
      "\u001b[1m363/363\u001b[0m \u001b[32m━━━━━━━━━━━━━━━━━━━━\u001b[0m\u001b[37m\u001b[0m \u001b[1m1s\u001b[0m 2ms/step - loss: 0.4364 - mae: 0.4726 - val_loss: 0.4238 - val_mae: 0.4472\n",
      "Epoch 18/40\n",
      "\u001b[1m363/363\u001b[0m \u001b[32m━━━━━━━━━━━━━━━━━━━━\u001b[0m\u001b[37m\u001b[0m \u001b[1m1s\u001b[0m 2ms/step - loss: 0.4319 - mae: 0.4698 - val_loss: 0.4200 - val_mae: 0.4451\n",
      "Epoch 19/40\n",
      "\u001b[1m363/363\u001b[0m \u001b[32m━━━━━━━━━━━━━━━━━━━━\u001b[0m\u001b[37m\u001b[0m \u001b[1m0s\u001b[0m 1ms/step - loss: 0.4281 - mae: 0.4674 - val_loss: 0.4175 - val_mae: 0.4433\n",
      "Epoch 20/40\n",
      "\u001b[1m363/363\u001b[0m \u001b[32m━━━━━━━━━━━━━━━━━━━━\u001b[0m\u001b[37m\u001b[0m \u001b[1m0s\u001b[0m 1ms/step - loss: 0.4246 - mae: 0.4652 - val_loss: 0.4158 - val_mae: 0.4417\n",
      "Epoch 21/40\n",
      "\u001b[1m363/363\u001b[0m \u001b[32m━━━━━━━━━━━━━━━━━━━━\u001b[0m\u001b[37m\u001b[0m \u001b[1m1s\u001b[0m 1ms/step - loss: 0.4215 - mae: 0.4633 - val_loss: 0.4152 - val_mae: 0.4404\n",
      "Epoch 22/40\n",
      "\u001b[1m363/363\u001b[0m \u001b[32m━━━━━━━━━━━━━━━━━━━━\u001b[0m\u001b[37m\u001b[0m \u001b[1m1s\u001b[0m 1ms/step - loss: 0.4187 - mae: 0.4615 - val_loss: 0.4148 - val_mae: 0.4392\n",
      "Epoch 23/40\n",
      "\u001b[1m363/363\u001b[0m \u001b[32m━━━━━━━━━━━━━━━━━━━━\u001b[0m\u001b[37m\u001b[0m \u001b[1m1s\u001b[0m 1ms/step - loss: 0.4161 - mae: 0.4598 - val_loss: 0.4143 - val_mae: 0.4381\n",
      "Epoch 24/40\n",
      "\u001b[1m363/363\u001b[0m \u001b[32m━━━━━━━━━━━━━━━━━━━━\u001b[0m\u001b[37m\u001b[0m \u001b[1m1s\u001b[0m 2ms/step - loss: 0.4137 - mae: 0.4583 - val_loss: 0.4140 - val_mae: 0.4371\n",
      "Epoch 25/40\n",
      "\u001b[1m363/363\u001b[0m \u001b[32m━━━━━━━━━━━━━━━━━━━━\u001b[0m\u001b[37m\u001b[0m \u001b[1m1s\u001b[0m 1ms/step - loss: 0.4114 - mae: 0.4569 - val_loss: 0.4130 - val_mae: 0.4361\n",
      "Epoch 26/40\n",
      "\u001b[1m363/363\u001b[0m \u001b[32m━━━━━━━━━━━━━━━━━━━━\u001b[0m\u001b[37m\u001b[0m \u001b[1m1s\u001b[0m 2ms/step - loss: 0.4093 - mae: 0.4556 - val_loss: 0.4117 - val_mae: 0.4352\n",
      "Epoch 27/40\n",
      "\u001b[1m363/363\u001b[0m \u001b[32m━━━━━━━━━━━━━━━━━━━━\u001b[0m\u001b[37m\u001b[0m \u001b[1m1s\u001b[0m 1ms/step - loss: 0.4073 - mae: 0.4544 - val_loss: 0.4128 - val_mae: 0.4344\n",
      "Epoch 28/40\n",
      "\u001b[1m363/363\u001b[0m \u001b[32m━━━━━━━━━━━━━━━━━━━━\u001b[0m\u001b[37m\u001b[0m \u001b[1m1s\u001b[0m 1ms/step - loss: 0.4054 - mae: 0.4533 - val_loss: 0.4155 - val_mae: 0.4338\n",
      "Epoch 29/40\n",
      "\u001b[1m363/363\u001b[0m \u001b[32m━━━━━━━━━━━━━━━━━━━━\u001b[0m\u001b[37m\u001b[0m \u001b[1m0s\u001b[0m 1ms/step - loss: 0.4036 - mae: 0.4522 - val_loss: 0.4178 - val_mae: 0.4332\n",
      "Epoch 30/40\n",
      "\u001b[1m363/363\u001b[0m \u001b[32m━━━━━━━━━━━━━━━━━━━━\u001b[0m\u001b[37m\u001b[0m \u001b[1m1s\u001b[0m 1ms/step - loss: 0.4019 - mae: 0.4512 - val_loss: 0.4188 - val_mae: 0.4326\n",
      "Epoch 31/40\n",
      "\u001b[1m363/363\u001b[0m \u001b[32m━━━━━━━━━━━━━━━━━━━━\u001b[0m\u001b[37m\u001b[0m \u001b[1m1s\u001b[0m 1ms/step - loss: 0.4002 - mae: 0.4502 - val_loss: 0.4202 - val_mae: 0.4321\n",
      "Epoch 32/40\n",
      "\u001b[1m363/363\u001b[0m \u001b[32m━━━━━━━━━━━━━━━━━━━━\u001b[0m\u001b[37m\u001b[0m \u001b[1m1s\u001b[0m 1ms/step - loss: 0.3986 - mae: 0.4493 - val_loss: 0.4094 - val_mae: 0.4310\n",
      "Epoch 33/40\n",
      "\u001b[1m363/363\u001b[0m \u001b[32m━━━━━━━━━━━━━━━━━━━━\u001b[0m\u001b[37m\u001b[0m \u001b[1m1s\u001b[0m 2ms/step - loss: 0.3971 - mae: 0.4483 - val_loss: 0.4131 - val_mae: 0.4306\n",
      "Epoch 34/40\n",
      "\u001b[1m363/363\u001b[0m \u001b[32m━━━━━━━━━━━━━━━━━━━━\u001b[0m\u001b[37m\u001b[0m \u001b[1m1s\u001b[0m 1ms/step - loss: 0.3957 - mae: 0.4474 - val_loss: 0.4051 - val_mae: 0.4295\n",
      "Epoch 35/40\n",
      "\u001b[1m363/363\u001b[0m \u001b[32m━━━━━━━━━━━━━━━━━━━━\u001b[0m\u001b[37m\u001b[0m \u001b[1m1s\u001b[0m 1ms/step - loss: 0.3942 - mae: 0.4466 - val_loss: 0.4104 - val_mae: 0.4292\n",
      "Epoch 36/40\n",
      "\u001b[1m363/363\u001b[0m \u001b[32m━━━━━━━━━━━━━━━━━━━━\u001b[0m\u001b[37m\u001b[0m \u001b[1m1s\u001b[0m 1ms/step - loss: 0.3928 - mae: 0.4457 - val_loss: 0.4044 - val_mae: 0.4283\n",
      "Epoch 37/40\n",
      "\u001b[1m363/363\u001b[0m \u001b[32m━━━━━━━━━━━━━━━━━━━━\u001b[0m\u001b[37m\u001b[0m \u001b[1m1s\u001b[0m 1ms/step - loss: 0.3915 - mae: 0.4449 - val_loss: 0.4110 - val_mae: 0.4281\n",
      "Epoch 38/40\n",
      "\u001b[1m363/363\u001b[0m \u001b[32m━━━━━━━━━━━━━━━━━━━━\u001b[0m\u001b[37m\u001b[0m \u001b[1m1s\u001b[0m 1ms/step - loss: 0.3902 - mae: 0.4441 - val_loss: 0.4046 - val_mae: 0.4272\n",
      "Epoch 39/40\n",
      "\u001b[1m363/363\u001b[0m \u001b[32m━━━━━━━━━━━━━━━━━━━━\u001b[0m\u001b[37m\u001b[0m \u001b[1m1s\u001b[0m 1ms/step - loss: 0.3890 - mae: 0.4434 - val_loss: 0.4122 - val_mae: 0.4270\n",
      "Epoch 40/40\n",
      "\u001b[1m363/363\u001b[0m \u001b[32m━━━━━━━━━━━━━━━━━━━━\u001b[0m\u001b[37m\u001b[0m \u001b[1m1s\u001b[0m 1ms/step - loss: 0.3878 - mae: 0.4427 - val_loss: 0.4042 - val_mae: 0.4261\n",
      "Model_2 parameters : {'verbose': 'auto', 'epochs': 40, 'steps': 363}\n",
      "Model_2 history : \n",
      "{'loss': [2.473057985305786, 0.6832131147384644, 0.6299310922622681, 0.5934032201766968, 0.5631049275398254, 0.5375767350196838, 0.515896201133728, 0.49746397137641907, 0.481777548789978, 0.46847909688949585, 0.45710885524749756, 0.44734644889831543, 0.4389722943305969, 0.43192607164382935, 0.42590510845184326, 0.42074212431907654, 0.41633841395378113, 0.4124987721443176, 0.40913885831832886, 0.4061278700828552, 0.4034070670604706, 0.40091264247894287, 0.3986150622367859, 0.3964654505252838, 0.39443010091781616, 0.3925389349460602, 0.3907371759414673, 0.3890376389026642, 0.38741055130958557, 0.38583171367645264, 0.384307324886322, 0.3828628957271576, 0.3814629316329956, 0.3801184594631195, 0.3787970244884491, 0.3775346577167511, 0.3763173222541809, 0.37515881657600403, 0.37403368949890137, 0.3729942739009857], 'mae': [1.0769649744033813, 0.6077229380607605, 0.5842862725257874, 0.5648288726806641, 0.5484176278114319, 0.5342667698860168, 0.5220310091972351, 0.5114738345146179, 0.5024223923683167, 0.49463793635368347, 0.4878787696361542, 0.48187845945358276, 0.47664207220077515, 0.47220131754875183, 0.4683925211429596, 0.4650805592536926, 0.462202787399292, 0.45966339111328125, 0.45742642879486084, 0.45543017983436584, 0.4536312520503998, 0.45197683572769165, 0.4504605233669281, 0.44904443621635437, 0.4476863145828247, 0.44645199179649353, 0.4452873468399048, 0.44419947266578674, 0.4431292414665222, 0.4420928359031677, 0.4410913586616516, 0.4401344954967499, 0.4392472207546234, 0.4383294880390167, 0.4375016391277313, 0.4366616904735565, 0.4358898103237152, 0.43509572744369507, 0.43438467383384705, 0.433656245470047], 'val_loss': [1.0680958032608032, 0.6430134177207947, 0.5887722969055176, 0.5508557558059692, 0.520277202129364, 0.4952189326286316, 0.4749627709388733, 0.4586845636367798, 0.4459336996078491, 0.43769845366477966, 0.433287113904953, 0.4334728419780731, 0.43054890632629395, 0.4284076690673828, 0.42677316069602966, 0.425691694021225, 0.42382240295410156, 0.4200455844402313, 0.4175388216972351, 0.41581788659095764, 0.41518864035606384, 0.4148455262184143, 0.41428956389427185, 0.4139772355556488, 0.4130409061908722, 0.4117267429828644, 0.4127901792526245, 0.41547515988349915, 0.4177982807159424, 0.4188271462917328, 0.420221745967865, 0.409388929605484, 0.4131060540676117, 0.4050569236278534, 0.4103718400001526, 0.4044312834739685, 0.41102665662765503, 0.4045751988887787, 0.41220423579216003, 0.4041963517665863], 'val_mae': [0.6224415302276611, 0.5827953219413757, 0.5595899224281311, 0.5403532981872559, 0.5236852169036865, 0.5094766020774841, 0.4977845251560211, 0.48776692152023315, 0.4793543219566345, 0.47268179059028625, 0.4670591652393341, 0.46247756481170654, 0.4584842324256897, 0.4549914002418518, 0.4520038962364197, 0.4494597911834717, 0.4471631348133087, 0.44505128264427185, 0.443281352519989, 0.4417005181312561, 0.44037365913391113, 0.4391770362854004, 0.4381037950515747, 0.4371197819709778, 0.4361020028591156, 0.4351671636104584, 0.4343716502189636, 0.4337995648384094, 0.43323421478271484, 0.4326135218143463, 0.4321129024028778, 0.4309512972831726, 0.4305649697780609, 0.42953747510910034, 0.42922940850257874, 0.4283360242843628, 0.42809101939201355, 0.4271796643733978, 0.427001953125, 0.42607465386390686]}\n"
     ]
    }
   ],
   "source": [
    "model2_history = model2.fit(X_train, y_train, epochs=40, validation_data=(X_valid, y_valid)) \n",
    "print(f\"Model_2 parameters : {model2_history.params}\") \n",
    "print(f\"Model_2 history : \\n{model2_history.history}\") "
   ]
  },
  {
   "cell_type": "code",
   "execution_count": 25,
   "id": "64455208",
   "metadata": {},
   "outputs": [
    {
     "name": "stdout",
     "output_type": "stream",
     "text": [
      "\u001b[1m162/162\u001b[0m \u001b[32m━━━━━━━━━━━━━━━━━━━━\u001b[0m\u001b[37m\u001b[0m \u001b[1m0s\u001b[0m 999us/step - loss: 0.3696 - mae: 0.4296\n"
     ]
    },
    {
     "data": {
      "text/plain": [
       "[0.3704414665699005, 0.43026942014694214]"
      ]
     },
     "execution_count": 25,
     "metadata": {},
     "output_type": "execute_result"
    }
   ],
   "source": [
    "mae_test = model2.evaluate(X_test, y_test) \n",
    "mae_test "
   ]
  },
  {
   "cell_type": "code",
   "execution_count": 26,
   "id": "3937666a",
   "metadata": {},
   "outputs": [
    {
     "data": {
      "image/png": "[encoded data removed]",
      "text/plain": [
       "<Figure size 800x600 with 1 Axes>"
      ]
     },
     "metadata": {},
     "output_type": "display_data"
    }
   ],
   "source": [
    "pd.DataFrame(model2_history.history).plot(figsize=(8,6))  \n",
    "plt.grid(True) \n",
    "plt.gca().set_ylim(0,1) \n",
    "plt.show() "
   ]
  },
  {
   "cell_type": "markdown",
   "id": "696e7e0c",
   "metadata": {},
   "source": [
    "# Saving models  "
   ]
  },
  {
   "cell_type": "code",
   "execution_count": 27,
   "id": "34eb9fc9",
   "metadata": {},
   "outputs": [],
   "source": [
    "# model.save(\"sequencial_model.h5\") \n",
    "# model2.save(\"func_api_model.h5\") \n",
    "\n",
    "model.save(\"sequencial_model.keras\") \n",
    "model2.save(\"func_api_model.keras\") "
   ]
  }
 ],
 "metadata": {
  "kernelspec": {
   "display_name": "virtl_env",
   "language": "python",
   "name": "python3"
  },
  "language_info": {
   "codemirror_mode": {
    "name": "ipython",
    "version": 3
   },
   "file_extension": ".py",
   "mimetype": "text/x-python",
   "name": "python",
   "nbconvert_exporter": "python",
   "pygments_lexer": "ipython3",
   "version": "3.12.2"
  }
 },
 "nbformat": 4,
 "nbformat_minor": 5
}
