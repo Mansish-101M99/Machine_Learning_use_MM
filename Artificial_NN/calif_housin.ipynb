{
 "cells": [
  {
   "cell_type": "markdown",
   "id": "9ad5e6e7",
   "metadata": {},
   "source": [
    "# Regression over housing details California -    "
   ]
  },
  {
   "cell_type": "code",
   "execution_count": 15,
   "id": "ba9e0fef",
   "metadata": {},
   "outputs": [],
   "source": [
    "import numpy as np \n",
    "import pandas as pd \n",
    "\n",
    "from sklearn.model_selection import train_test_split \n",
    "from sklearn.preprocessing import StandardScaler \n",
    "\n",
    "%matplotlib inline \n",
    "import matplotlib as mlp \n",
    "import matplotlib.pyplot as plt "
   ]
  },
  {
   "cell_type": "code",
   "execution_count": 16,
   "id": "10be9859",
   "metadata": {},
   "outputs": [],
   "source": [
    "import tensorflow as tf \n",
    "from tensorflow import keras "
   ]
  },
  {
   "cell_type": "code",
   "execution_count": 17,
   "id": "bea4d98c",
   "metadata": {},
   "outputs": [],
   "source": [
    "np.random.seed(42) \n",
    "tf.random.set_seed(42) "
   ]
  },
  {
   "cell_type": "markdown",
   "id": "c33d74d1",
   "metadata": {},
   "source": [
    "Loading housing dataset -  "
   ]
  },
  {
   "cell_type": "code",
   "execution_count": 18,
   "id": "844c6e9b",
   "metadata": {},
   "outputs": [],
   "source": [
    "from sklearn.datasets import fetch_california_housing \n",
    "housing = fetch_california_housing() "
   ]
  },
  {
   "cell_type": "code",
   "execution_count": 19,
   "id": "f23b4063",
   "metadata": {},
   "outputs": [
    {
     "data": {
      "text/plain": [
       "['MedInc',\n",
       " 'HouseAge',\n",
       " 'AveRooms',\n",
       " 'AveBedrms',\n",
       " 'Population',\n",
       " 'AveOccup',\n",
       " 'Latitude',\n",
       " 'Longitude']"
      ]
     },
     "execution_count": 19,
     "metadata": {},
     "output_type": "execute_result"
    }
   ],
   "source": [
    "housing.feature_names "
   ]
  },
  {
   "cell_type": "code",
   "execution_count": 22,
   "id": "7e806b73",
   "metadata": {},
   "outputs": [
    {
     "name": "stdout",
     "output_type": "stream",
     "text": [
      "Train_full size :\n",
      "(15480, 8)\n",
      "(15480,)\n",
      "Test size : \n",
      "(5160, 8)\n",
      "(5160,)\n",
      "\n",
      "Train size :\n",
      "(11610, 8)\n",
      "(11610,)\n",
      "Valid^n size : \n",
      "(3870, 8)\n",
      "(3870,)\n"
     ]
    }
   ],
   "source": [
    "x_train_full, X_test, y_train_full, y_test = train_test_split(housing.data, housing.target, random_state=42) \n",
    "X_train, X_valid, y_train, y_valid = train_test_split(x_train_full, y_train_full, random_state=42)   \n",
    "\n",
    "print(f\"Train_full size :\\n{x_train_full.shape}\\n{y_train_full.shape}\\nTest size : \\n{X_test.shape}\\n{y_test.shape}\") \n",
    "print(f\"\\nTrain size :\\n{X_train.shape}\\n{y_train.shape}\\nValid^n size : \\n{X_valid.shape}\\n{y_valid.shape}\") "
   ]
  },
  {
   "cell_type": "code",
   "execution_count": 23,
   "id": "0f90d73c",
   "metadata": {},
   "outputs": [],
   "source": [
    "scaler = StandardScaler() \n",
    "X_train = scaler.fit_transform(X_train) \n",
    "X_valid = scaler.transform(X_valid) \n",
    "X_test = scaler.transform(X_test) "
   ]
  }
 ],
 "metadata": {
  "kernelspec": {
   "display_name": "virtl_env",
   "language": "python",
   "name": "python3"
  },
  "language_info": {
   "codemirror_mode": {
    "name": "ipython",
    "version": 3
   },
   "file_extension": ".py",
   "mimetype": "text/x-python",
   "name": "python",
   "nbconvert_exporter": "python",
   "pygments_lexer": "ipython3",
   "version": "3.12.2"
  }
 },
 "nbformat": 4,
 "nbformat_minor": 5
}
