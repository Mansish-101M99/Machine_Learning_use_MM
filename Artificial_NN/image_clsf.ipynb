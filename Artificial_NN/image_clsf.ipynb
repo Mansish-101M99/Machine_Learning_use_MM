{
 "cells": [
  {
   "cell_type": "markdown",
   "id": "e3129f10",
   "metadata": {},
   "source": [
    "# Image Classification using Keras and TF -   "
   ]
  },
  {
   "cell_type": "code",
   "execution_count": 1,
   "id": "d27500ce",
   "metadata": {},
   "outputs": [],
   "source": [
    "import numpy as np \n",
    "import pandas as pd \n",
    "\n",
    "%matplotlib inline \n",
    "import matplotlib as mtp \n",
    "import matplotlib.pyplot as plt "
   ]
  },
  {
   "cell_type": "code",
   "execution_count": 2,
   "id": "4c06d1cf",
   "metadata": {},
   "outputs": [],
   "source": [
    "import tensorflow as tf     # pip install tensorflow==<version_name> \n",
    "from tensorflow import keras "
   ]
  },
  {
   "cell_type": "code",
   "execution_count": 3,
   "id": "5f6861e3",
   "metadata": {},
   "outputs": [
    {
     "data": {
      "text/plain": [
       "'2.19.0'"
      ]
     },
     "execution_count": 3,
     "metadata": {},
     "output_type": "execute_result"
    }
   ],
   "source": [
    "tf.__version__"
   ]
  },
  {
   "cell_type": "code",
   "execution_count": 4,
   "id": "80e0e1e6",
   "metadata": {},
   "outputs": [
    {
     "data": {
      "text/plain": [
       "'3.10.0'"
      ]
     },
     "execution_count": 4,
     "metadata": {},
     "output_type": "execute_result"
    }
   ],
   "source": [
    "keras.__version__ "
   ]
  },
  {
   "cell_type": "code",
   "execution_count": 5,
   "id": "08562bdb",
   "metadata": {},
   "outputs": [],
   "source": [
    "np.random.seed(42) \n",
    "tf.random.set_seed(42) "
   ]
  },
  {
   "cell_type": "markdown",
   "id": "64fecf4c",
   "metadata": {},
   "source": [
    "# Image dataset loading (available in keras)  "
   ]
  },
  {
   "cell_type": "code",
   "execution_count": 6,
   "id": "81602d0f",
   "metadata": {},
   "outputs": [],
   "source": [
    "fashion_mnist = keras.datasets.fashion_mnist \n",
    "(x_train_full, y_train_full), (x_test, y_test) = fashion_mnist.load_data() "
   ]
  },
  {
   "cell_type": "code",
   "execution_count": 7,
   "id": "a5f21c7e",
   "metadata": {},
   "outputs": [
    {
     "name": "stdout",
     "output_type": "stream",
     "text": [
      "Train size :\n",
      "(60000, 28, 28)\n",
      "(60000,)\n",
      "Test size : \n",
      "(10000, 28, 28)\n",
      "(10000,)\n"
     ]
    }
   ],
   "source": [
    "print(f\"Train size :\\n{x_train_full.shape}\\n{y_train_full.shape}\\nTest size : \\n{x_test.shape}\\n{y_test.shape}\") "
   ]
  },
  {
   "cell_type": "code",
   "execution_count": 8,
   "id": "6b31dfe7",
   "metadata": {},
   "outputs": [
    {
     "data": {
      "text/plain": [
       "<matplotlib.image.AxesImage at 0x1578dcc47d0>"
      ]
     },
     "execution_count": 8,
     "metadata": {},
     "output_type": "execute_result"
    },
    {
     "data": {
      "image/png": "[encoded data removed]",
      "text/plain": [
       "<Figure size 640x480 with 1 Axes>"
      ]
     },
     "metadata": {},
     "output_type": "display_data"
    }
   ],
   "source": [
    "plt.imshow(x_train_full[1])    # sample image out of 60k images "
   ]
  },
  {
   "cell_type": "code",
   "execution_count": 9,
   "id": "82769486",
   "metadata": {},
   "outputs": [],
   "source": [
    "class_names = [\"T-shirt/top\", \"Trouser\", \"Pullover\", \"Dress\", \"Coat\", \"Sandal\", \"Shirt\", \"Sneaker\", \"Bag\", \"Ankle boot\"] "
   ]
  },
  {
   "cell_type": "code",
   "execution_count": 10,
   "id": "f8847de8",
   "metadata": {},
   "outputs": [
    {
     "data": {
      "text/plain": [
       "'T-shirt/top'"
      ]
     },
     "execution_count": 10,
     "metadata": {},
     "output_type": "execute_result"
    }
   ],
   "source": [
    "class_names[y_train_full[1]] "
   ]
  },
  {
   "cell_type": "markdown",
   "id": "e19359a1",
   "metadata": {},
   "source": [
    "Data Normalization (we normalize the data so that it is approximately the same scale)  "
   ]
  },
  {
   "cell_type": "code",
   "execution_count": 11,
   "id": "e8f7e00d",
   "metadata": {},
   "outputs": [],
   "source": [
    "x_train_n = x_train_full / 255.0      # 255 is the final limit in pixel colors \n",
    "x_test_n = x_test / 255.0 "
   ]
  },
  {
   "cell_type": "markdown",
   "id": "30d44ce9",
   "metadata": {},
   "source": [
    "Data splitting as train, validation, and test sets  "
   ]
  },
  {
   "cell_type": "code",
   "execution_count": 12,
   "id": "6f3c3aae",
   "metadata": {},
   "outputs": [],
   "source": [
    "X_valid, X_train = x_train_n[:5000], x_train_n[5000:] \n",
    "y_valid, y_train = y_train_full[:5000], y_train_full[5000:] \n",
    "X_test = x_test_n "
   ]
  },
  {
   "cell_type": "code",
   "execution_count": 13,
   "id": "0067bb95",
   "metadata": {},
   "outputs": [
    {
     "data": {
      "text/plain": [
       "array([[[0., 0., 0., ..., 0., 0., 0.],\n",
       "        [0., 0., 0., ..., 0., 0., 0.],\n",
       "        [0., 0., 0., ..., 0., 0., 0.],\n",
       "        ...,\n",
       "        [0., 0., 0., ..., 0., 0., 0.],\n",
       "        [0., 0., 0., ..., 0., 0., 0.],\n",
       "        [0., 0., 0., ..., 0., 0., 0.]],\n",
       "\n",
       "       [[0., 0., 0., ..., 0., 0., 0.],\n",
       "        [0., 0., 0., ..., 0., 0., 0.],\n",
       "        [0., 0., 0., ..., 0., 0., 0.],\n",
       "        ...,\n",
       "        [0., 0., 0., ..., 0., 0., 0.],\n",
       "        [0., 0., 0., ..., 0., 0., 0.],\n",
       "        [0., 0., 0., ..., 0., 0., 0.]],\n",
       "\n",
       "       [[0., 0., 0., ..., 0., 0., 0.],\n",
       "        [0., 0., 0., ..., 0., 0., 0.],\n",
       "        [0., 0., 0., ..., 0., 0., 0.],\n",
       "        ...,\n",
       "        [0., 0., 0., ..., 0., 0., 0.],\n",
       "        [0., 0., 0., ..., 0., 0., 0.],\n",
       "        [0., 0., 0., ..., 0., 0., 0.]],\n",
       "\n",
       "       ...,\n",
       "\n",
       "       [[0., 0., 0., ..., 0., 0., 0.],\n",
       "        [0., 0., 0., ..., 0., 0., 0.],\n",
       "        [0., 0., 0., ..., 0., 0., 0.],\n",
       "        ...,\n",
       "        [0., 0., 0., ..., 0., 0., 0.],\n",
       "        [0., 0., 0., ..., 0., 0., 0.],\n",
       "        [0., 0., 0., ..., 0., 0., 0.]],\n",
       "\n",
       "       [[0., 0., 0., ..., 0., 0., 0.],\n",
       "        [0., 0., 0., ..., 0., 0., 0.],\n",
       "        [0., 0., 0., ..., 0., 0., 0.],\n",
       "        ...,\n",
       "        [0., 0., 0., ..., 0., 0., 0.],\n",
       "        [0., 0., 0., ..., 0., 0., 0.],\n",
       "        [0., 0., 0., ..., 0., 0., 0.]],\n",
       "\n",
       "       [[0., 0., 0., ..., 0., 0., 0.],\n",
       "        [0., 0., 0., ..., 0., 0., 0.],\n",
       "        [0., 0., 0., ..., 0., 0., 0.],\n",
       "        ...,\n",
       "        [0., 0., 0., ..., 0., 0., 0.],\n",
       "        [0., 0., 0., ..., 0., 0., 0.],\n",
       "        [0., 0., 0., ..., 0., 0., 0.]]])"
      ]
     },
     "execution_count": 13,
     "metadata": {},
     "output_type": "execute_result"
    }
   ],
   "source": [
    "X_valid "
   ]
  },
  {
   "cell_type": "code",
   "execution_count": 14,
   "id": "c3bb79cb",
   "metadata": {},
   "outputs": [
    {
     "data": {
      "text/plain": [
       "array([9, 0, 0, ..., 5, 8, 3], dtype=uint8)"
      ]
     },
     "execution_count": 14,
     "metadata": {},
     "output_type": "execute_result"
    }
   ],
   "source": [
    "y_valid "
   ]
  },
  {
   "cell_type": "markdown",
   "id": "dd3057b8",
   "metadata": {},
   "source": [
    "# Neural Network Model (in Keras)  "
   ]
  },
  {
   "cell_type": "code",
   "execution_count": 15,
   "id": "83e59699",
   "metadata": {},
   "outputs": [
    {
     "data": {
      "text/html": [
       "<pre style=\"white-space:pre;overflow-x:auto;line-height:normal;font-family:Menlo,'DejaVu Sans Mono',consolas,'Courier New',monospace\"><span style=\"font-weight: bold\">Model: \"sequential\"</span>\n",
       "</pre>\n"
      ],
      "text/plain": [
       "\u001b[1mModel: \"sequential\"\u001b[0m\n"
      ]
     },
     "metadata": {},
     "output_type": "display_data"
    },
    {
     "data": {
      "text/html": [
       "<pre style=\"white-space:pre;overflow-x:auto;line-height:normal;font-family:Menlo,'DejaVu Sans Mono',consolas,'Courier New',monospace\">┏━━━━━━━━━━━━━━━━━━━━━━━━━━━━━━━━━┳━━━━━━━━━━━━━━━━━━━━━━━━┳━━━━━━━━━━━━━━━┓\n",
       "┃<span style=\"font-weight: bold\"> Layer (type)                    </span>┃<span style=\"font-weight: bold\"> Output Shape           </span>┃<span style=\"font-weight: bold\">       Param # </span>┃\n",
       "┡━━━━━━━━━━━━━━━━━━━━━━━━━━━━━━━━━╇━━━━━━━━━━━━━━━━━━━━━━━━╇━━━━━━━━━━━━━━━┩\n",
       "│ flatten (<span style=\"color: #0087ff; text-decoration-color: #0087ff\">Flatten</span>)               │ (<span style=\"color: #00d7ff; text-decoration-color: #00d7ff\">None</span>, <span style=\"color: #00af00; text-decoration-color: #00af00\">784</span>)            │             <span style=\"color: #00af00; text-decoration-color: #00af00\">0</span> │\n",
       "├─────────────────────────────────┼────────────────────────┼───────────────┤\n",
       "│ dense (<span style=\"color: #0087ff; text-decoration-color: #0087ff\">Dense</span>)                   │ (<span style=\"color: #00d7ff; text-decoration-color: #00d7ff\">None</span>, <span style=\"color: #00af00; text-decoration-color: #00af00\">300</span>)            │       <span style=\"color: #00af00; text-decoration-color: #00af00\">235,500</span> │\n",
       "├─────────────────────────────────┼────────────────────────┼───────────────┤\n",
       "│ dense_1 (<span style=\"color: #0087ff; text-decoration-color: #0087ff\">Dense</span>)                 │ (<span style=\"color: #00d7ff; text-decoration-color: #00d7ff\">None</span>, <span style=\"color: #00af00; text-decoration-color: #00af00\">100</span>)            │        <span style=\"color: #00af00; text-decoration-color: #00af00\">30,100</span> │\n",
       "├─────────────────────────────────┼────────────────────────┼───────────────┤\n",
       "│ dense_2 (<span style=\"color: #0087ff; text-decoration-color: #0087ff\">Dense</span>)                 │ (<span style=\"color: #00d7ff; text-decoration-color: #00d7ff\">None</span>, <span style=\"color: #00af00; text-decoration-color: #00af00\">10</span>)             │         <span style=\"color: #00af00; text-decoration-color: #00af00\">1,010</span> │\n",
       "└─────────────────────────────────┴────────────────────────┴───────────────┘\n",
       "</pre>\n"
      ],
      "text/plain": [
       "┏━━━━━━━━━━━━━━━━━━━━━━━━━━━━━━━━━┳━━━━━━━━━━━━━━━━━━━━━━━━┳━━━━━━━━━━━━━━━┓\n",
       "┃\u001b[1m \u001b[0m\u001b[1mLayer (type)                   \u001b[0m\u001b[1m \u001b[0m┃\u001b[1m \u001b[0m\u001b[1mOutput Shape          \u001b[0m\u001b[1m \u001b[0m┃\u001b[1m \u001b[0m\u001b[1m      Param #\u001b[0m\u001b[1m \u001b[0m┃\n",
       "┡━━━━━━━━━━━━━━━━━━━━━━━━━━━━━━━━━╇━━━━━━━━━━━━━━━━━━━━━━━━╇━━━━━━━━━━━━━━━┩\n",
       "│ flatten (\u001b[38;5;33mFlatten\u001b[0m)               │ (\u001b[38;5;45mNone\u001b[0m, \u001b[38;5;34m784\u001b[0m)            │             \u001b[38;5;34m0\u001b[0m │\n",
       "├─────────────────────────────────┼────────────────────────┼───────────────┤\n",
       "│ dense (\u001b[38;5;33mDense\u001b[0m)                   │ (\u001b[38;5;45mNone\u001b[0m, \u001b[38;5;34m300\u001b[0m)            │       \u001b[38;5;34m235,500\u001b[0m │\n",
       "├─────────────────────────────────┼────────────────────────┼───────────────┤\n",
       "│ dense_1 (\u001b[38;5;33mDense\u001b[0m)                 │ (\u001b[38;5;45mNone\u001b[0m, \u001b[38;5;34m100\u001b[0m)            │        \u001b[38;5;34m30,100\u001b[0m │\n",
       "├─────────────────────────────────┼────────────────────────┼───────────────┤\n",
       "│ dense_2 (\u001b[38;5;33mDense\u001b[0m)                 │ (\u001b[38;5;45mNone\u001b[0m, \u001b[38;5;34m10\u001b[0m)             │         \u001b[38;5;34m1,010\u001b[0m │\n",
       "└─────────────────────────────────┴────────────────────────┴───────────────┘\n"
      ]
     },
     "metadata": {},
     "output_type": "display_data"
    },
    {
     "data": {
      "text/html": [
       "<pre style=\"white-space:pre;overflow-x:auto;line-height:normal;font-family:Menlo,'DejaVu Sans Mono',consolas,'Courier New',monospace\"><span style=\"font-weight: bold\"> Total params: </span><span style=\"color: #00af00; text-decoration-color: #00af00\">266,610</span> (1.02 MB)\n",
       "</pre>\n"
      ],
      "text/plain": [
       "\u001b[1m Total params: \u001b[0m\u001b[38;5;34m266,610\u001b[0m (1.02 MB)\n"
      ]
     },
     "metadata": {},
     "output_type": "display_data"
    },
    {
     "data": {
      "text/html": [
       "<pre style=\"white-space:pre;overflow-x:auto;line-height:normal;font-family:Menlo,'DejaVu Sans Mono',consolas,'Courier New',monospace\"><span style=\"font-weight: bold\"> Trainable params: </span><span style=\"color: #00af00; text-decoration-color: #00af00\">266,610</span> (1.02 MB)\n",
       "</pre>\n"
      ],
      "text/plain": [
       "\u001b[1m Trainable params: \u001b[0m\u001b[38;5;34m266,610\u001b[0m (1.02 MB)\n"
      ]
     },
     "metadata": {},
     "output_type": "display_data"
    },
    {
     "data": {
      "text/html": [
       "<pre style=\"white-space:pre;overflow-x:auto;line-height:normal;font-family:Menlo,'DejaVu Sans Mono',consolas,'Courier New',monospace\"><span style=\"font-weight: bold\"> Non-trainable params: </span><span style=\"color: #00af00; text-decoration-color: #00af00\">0</span> (0.00 B)\n",
       "</pre>\n"
      ],
      "text/plain": [
       "\u001b[1m Non-trainable params: \u001b[0m\u001b[38;5;34m0\u001b[0m (0.00 B)\n"
      ]
     },
     "metadata": {},
     "output_type": "display_data"
    }
   ],
   "source": [
    "# Sequential model object \n",
    "model = keras.models.Sequential([\n",
    "    keras.layers.Input(shape=(28,28)),   # Input layer; making the 2D array to a 1D format for input layer \n",
    "    keras.layers.Flatten(), \n",
    "    keras.layers.Dense(300, activation='relu'),  # Hidden layer 1; with 300 neurons and ReLU activation function  _| 0 for -ve values & |\n",
    "    keras.layers.Dense(100, activation='relu'),  # Hidden layer 2; with 100 neurons and ReLU activation function   | 1 for +ve values.  |\n",
    "    keras.layers.Dense(10, activation='softmax')  \n",
    "    # Output layer; with 10 neurons and softmax activation function for exclusive class classification\n",
    "])       \n",
    "\n",
    "##  OR --\n",
    "# model = keras.models.Sequential() \n",
    "# model.add(keras.layers.Flatten(input_shape=[28, 28]))     # Input layer; making the 2D array to a 1D format for input layer \n",
    "# model.add(keras.layers.Dense(300, activation='relu'))     # Hidden layer 1; with 300 neurons and ReLU activation function  _| 0 for -ve values & |\n",
    "# model.add(keras.layers.Dense(100, activation='relu'))     # Hidden layer 2; with 100 neurons and ReLU activation function   | 1 for +ve values.  |\n",
    "# model.add(keras.layers.Dense(10, activation='softmax'))   # Output layer; with 10 neurons and softmax activation function for exclusive class classification \n",
    "\n",
    "\n",
    "model.summary() "
   ]
  },
  {
   "cell_type": "code",
   "execution_count": 16,
   "id": "d75d3d56",
   "metadata": {},
   "outputs": [
    {
     "data": {
      "image/png": "[encoded data removed]",
      "text/plain": [
       "<IPython.core.display.Image object>"
      ]
     },
     "execution_count": 16,
     "metadata": {},
     "output_type": "execute_result"
    }
   ],
   "source": [
    "import pydot \n",
    "from IPython.display import Image  \n",
    "\n",
    "# keras.utils.plot_model(model, show_shapes=True, show_layer_names=True, to_file='model.png')  \n",
    "\n",
    "keras.utils.plot_model(model, show_shapes=True, to_file='model.png', dpi=130)   \n",
    "Image('model.png')  "
   ]
  },
  {
   "cell_type": "code",
   "execution_count": 17,
   "id": "fcb630ed",
   "metadata": {},
   "outputs": [],
   "source": [
    "weight_l1, bais_l1 = model.layers[1].get_weights()   # Weight and bias distribution at different dense layers \n",
    "weight_l2, bais_l2 = model.layers[2].get_weights()   # Weight and bias distribution at different dense layers \n",
    "weight_l3, bais_l3 = model.layers[3].get_weights()   # Weight and bias distribution at different dense layers "
   ]
  },
  {
   "cell_type": "code",
   "execution_count": 18,
   "id": "f476a6a5",
   "metadata": {},
   "outputs": [
    {
     "data": {
      "text/plain": [
       "array([[ 0.02757338,  0.00046888, -0.02405347, ...,  0.00362547,\n",
       "         0.01282328, -0.04312159],\n",
       "       [ 0.00819987, -0.04895752,  0.03156532, ...,  0.03188663,\n",
       "         0.06109127,  0.01009213],\n",
       "       [ 0.03904986,  0.00119776,  0.02184042, ...,  0.03354762,\n",
       "         0.03486793,  0.01796915],\n",
       "       ...,\n",
       "       [ 0.07237339, -0.05194858, -0.01489213, ...,  0.03413959,\n",
       "         0.00319682,  0.04805353],\n",
       "       [ 0.07097012,  0.00752965, -0.03209954, ...,  0.03445014,\n",
       "        -0.00712223,  0.06686206],\n",
       "       [-0.01557822, -0.06543892, -0.00183523, ..., -0.00028418,\n",
       "         0.02790258,  0.07373835]], dtype=float32)"
      ]
     },
     "execution_count": 18,
     "metadata": {},
     "output_type": "execute_result"
    }
   ],
   "source": [
    "weight_l1 "
   ]
  },
  {
   "cell_type": "code",
   "execution_count": 19,
   "id": "971c03e2",
   "metadata": {},
   "outputs": [
    {
     "data": {
      "text/plain": [
       "array([0., 0., 0., 0., 0., 0., 0., 0., 0., 0., 0., 0., 0., 0., 0., 0., 0.,\n",
       "       0., 0., 0., 0., 0., 0., 0., 0., 0., 0., 0., 0., 0., 0., 0., 0., 0.,\n",
       "       0., 0., 0., 0., 0., 0., 0., 0., 0., 0., 0., 0., 0., 0., 0., 0., 0.,\n",
       "       0., 0., 0., 0., 0., 0., 0., 0., 0., 0., 0., 0., 0., 0., 0., 0., 0.,\n",
       "       0., 0., 0., 0., 0., 0., 0., 0., 0., 0., 0., 0., 0., 0., 0., 0., 0.,\n",
       "       0., 0., 0., 0., 0., 0., 0., 0., 0., 0., 0., 0., 0., 0., 0., 0., 0.,\n",
       "       0., 0., 0., 0., 0., 0., 0., 0., 0., 0., 0., 0., 0., 0., 0., 0., 0.,\n",
       "       0., 0., 0., 0., 0., 0., 0., 0., 0., 0., 0., 0., 0., 0., 0., 0., 0.,\n",
       "       0., 0., 0., 0., 0., 0., 0., 0., 0., 0., 0., 0., 0., 0., 0., 0., 0.,\n",
       "       0., 0., 0., 0., 0., 0., 0., 0., 0., 0., 0., 0., 0., 0., 0., 0., 0.,\n",
       "       0., 0., 0., 0., 0., 0., 0., 0., 0., 0., 0., 0., 0., 0., 0., 0., 0.,\n",
       "       0., 0., 0., 0., 0., 0., 0., 0., 0., 0., 0., 0., 0., 0., 0., 0., 0.,\n",
       "       0., 0., 0., 0., 0., 0., 0., 0., 0., 0., 0., 0., 0., 0., 0., 0., 0.,\n",
       "       0., 0., 0., 0., 0., 0., 0., 0., 0., 0., 0., 0., 0., 0., 0., 0., 0.,\n",
       "       0., 0., 0., 0., 0., 0., 0., 0., 0., 0., 0., 0., 0., 0., 0., 0., 0.,\n",
       "       0., 0., 0., 0., 0., 0., 0., 0., 0., 0., 0., 0., 0., 0., 0., 0., 0.,\n",
       "       0., 0., 0., 0., 0., 0., 0., 0., 0., 0., 0., 0., 0., 0., 0., 0., 0.,\n",
       "       0., 0., 0., 0., 0., 0., 0., 0., 0., 0., 0.], dtype=float32)"
      ]
     },
     "execution_count": 19,
     "metadata": {},
     "output_type": "execute_result"
    }
   ],
   "source": [
    "bais_l1 "
   ]
  },
  {
   "cell_type": "code",
   "execution_count": 20,
   "id": "2c788421",
   "metadata": {},
   "outputs": [
    {
     "name": "stdout",
     "output_type": "stream",
     "text": [
      "Weight shape : (784, 300)\n",
      "Bias shape : (300,)\n"
     ]
    }
   ],
   "source": [
    "print(f\"Weight shape : {weight_l1.shape}\\nBias shape : {bais_l1.shape}\") "
   ]
  },
  {
   "cell_type": "code",
   "execution_count": 21,
   "id": "b6e43b57",
   "metadata": {},
   "outputs": [
    {
     "data": {
      "text/plain": [
       "array([[ 0.04290571,  0.07476146, -0.0904697 , ...,  0.10093365,\n",
       "        -0.06112389, -0.00964926],\n",
       "       [-0.10169788, -0.02830783,  0.10017108, ...,  0.06514671,\n",
       "        -0.03276647, -0.06970022],\n",
       "       [ 0.12033451, -0.00052362,  0.03395676, ...,  0.10365395,\n",
       "        -0.00908342, -0.03218124],\n",
       "       ...,\n",
       "       [ 0.11484533,  0.0154422 , -0.01628679, ...,  0.02251662,\n",
       "        -0.08447251, -0.10526801],\n",
       "       [ 0.08352741, -0.07184748,  0.12081852, ..., -0.09604484,\n",
       "         0.0009667 ,  0.12077693],\n",
       "       [ 0.10722766, -0.06886976, -0.02916133, ...,  0.04111829,\n",
       "         0.10205146, -0.06331843]], dtype=float32)"
      ]
     },
     "execution_count": 21,
     "metadata": {},
     "output_type": "execute_result"
    }
   ],
   "source": [
    "weight_l2 "
   ]
  },
  {
   "cell_type": "code",
   "execution_count": 22,
   "id": "3ff2ce6c",
   "metadata": {},
   "outputs": [
    {
     "data": {
      "text/plain": [
       "array([0., 0., 0., 0., 0., 0., 0., 0., 0., 0., 0., 0., 0., 0., 0., 0., 0.,\n",
       "       0., 0., 0., 0., 0., 0., 0., 0., 0., 0., 0., 0., 0., 0., 0., 0., 0.,\n",
       "       0., 0., 0., 0., 0., 0., 0., 0., 0., 0., 0., 0., 0., 0., 0., 0., 0.,\n",
       "       0., 0., 0., 0., 0., 0., 0., 0., 0., 0., 0., 0., 0., 0., 0., 0., 0.,\n",
       "       0., 0., 0., 0., 0., 0., 0., 0., 0., 0., 0., 0., 0., 0., 0., 0., 0.,\n",
       "       0., 0., 0., 0., 0., 0., 0., 0., 0., 0., 0., 0., 0., 0., 0.],\n",
       "      dtype=float32)"
      ]
     },
     "execution_count": 22,
     "metadata": {},
     "output_type": "execute_result"
    }
   ],
   "source": [
    "bais_l2 "
   ]
  },
  {
   "cell_type": "code",
   "execution_count": 23,
   "id": "ea0bb42a",
   "metadata": {},
   "outputs": [
    {
     "name": "stdout",
     "output_type": "stream",
     "text": [
      "Weight shape : (300, 100)\n",
      "Bias shape : (100,)\n"
     ]
    }
   ],
   "source": [
    "print(f\"Weight shape : {weight_l2.shape}\\nBias shape : {bais_l2.shape}\") "
   ]
  },
  {
   "cell_type": "code",
   "execution_count": 24,
   "id": "4a269597",
   "metadata": {},
   "outputs": [
    {
     "data": {
      "text/plain": [
       "array([[ 1.05403394e-01, -6.02542311e-02,  6.38259947e-02,\n",
       "        -6.59659952e-02, -2.95737386e-02,  1.24512225e-01,\n",
       "         2.41617858e-03, -3.22442800e-02,  1.06876552e-01,\n",
       "        -1.25056505e-01],\n",
       "       [-2.20956400e-01,  7.36696720e-02, -1.88459218e-01,\n",
       "        -1.75364614e-01, -1.22811332e-01, -9.50775146e-02,\n",
       "        -5.74477762e-02,  2.50695944e-02,  7.73957968e-02,\n",
       "         3.00769508e-03],\n",
       "       [ 1.22013569e-01,  1.98184162e-01, -4.88935411e-02,\n",
       "        -2.17404634e-01, -1.97475493e-01, -1.60772830e-01,\n",
       "        -1.01468369e-01, -3.09292227e-02,  1.85285479e-01,\n",
       "        -1.59624547e-01],\n",
       "       [-7.59047717e-02, -1.65105939e-01,  2.02100784e-01,\n",
       "         3.68215442e-02,  1.62298918e-01, -7.52393901e-03,\n",
       "        -1.00923851e-01,  9.79255140e-02,  9.35350955e-02,\n",
       "         2.27760643e-01],\n",
       "       [-7.75499642e-02, -1.78648993e-01,  8.82965922e-02,\n",
       "         1.74445570e-01, -4.66412306e-02, -7.36221224e-02,\n",
       "         2.13244915e-01,  1.73280239e-01,  2.03175843e-02,\n",
       "        -1.84511155e-01],\n",
       "       [ 1.96327090e-01, -1.78738311e-01, -2.18804434e-01,\n",
       "         6.88453913e-02,  3.82336676e-02,  2.01693743e-01,\n",
       "         1.13649547e-01, -2.25107819e-01, -2.27108821e-01,\n",
       "         1.28300846e-01],\n",
       "       [-1.67013943e-01,  1.12590194e-02, -1.78633630e-01,\n",
       "        -7.61752278e-02, -4.47685122e-02,  8.01539719e-02,\n",
       "         2.05483735e-02,  1.05235845e-01, -9.95787829e-02,\n",
       "         7.22075105e-02],\n",
       "       [ 7.08148181e-02,  1.92156732e-02,  1.72283351e-01,\n",
       "         1.67543888e-01,  2.17491060e-01, -1.55561551e-01,\n",
       "        -2.18089864e-01,  6.21490180e-03, -6.58517778e-02,\n",
       "         1.16151929e-01],\n",
       "       [-1.57205015e-01, -1.59492344e-01,  1.58240557e-01,\n",
       "        -4.56041545e-02,  2.01593667e-01, -4.44151610e-02,\n",
       "         2.01787740e-01,  2.78175771e-02, -6.52981251e-02,\n",
       "         1.90747708e-01],\n",
       "       [ 2.48764753e-02,  2.16028214e-01, -1.30121678e-01,\n",
       "        -1.36145860e-01, -3.70476842e-02, -5.26088476e-02,\n",
       "        -2.00698853e-01,  1.21940613e-01, -4.84694093e-02,\n",
       "         7.91656673e-02],\n",
       "       [ 1.57471687e-01, -6.31320179e-02,  1.67523503e-01,\n",
       "        -1.12663411e-01,  9.34059322e-02, -5.63045591e-02,\n",
       "         6.28843904e-02,  1.71754479e-01,  8.23122263e-03,\n",
       "        -1.68405518e-01],\n",
       "       [-1.55615121e-01, -4.47125733e-03,  5.89706898e-02,\n",
       "        -1.19451500e-01,  2.26868540e-01, -1.25881612e-01,\n",
       "         7.59972632e-03, -2.25013539e-01, -1.33991733e-01,\n",
       "        -4.89921570e-02],\n",
       "       [-1.73435539e-01, -1.14802510e-01,  7.83033669e-02,\n",
       "        -1.51785314e-01, -2.79869586e-02,  8.56148601e-02,\n",
       "        -1.97504178e-01, -1.66694164e-01,  1.41751647e-01,\n",
       "        -3.15478593e-02],\n",
       "       [ 2.28896618e-01, -1.80354387e-01,  1.55449182e-01,\n",
       "        -2.02302635e-02,  4.30864692e-02, -4.41251695e-02,\n",
       "         2.30512530e-01, -7.62302428e-02, -1.17668822e-01,\n",
       "        -2.31343091e-01],\n",
       "       [-4.18192297e-02,  1.53950483e-01, -3.98249626e-02,\n",
       "        -1.45023733e-01,  1.93744928e-01, -1.53754026e-01,\n",
       "         8.55150223e-02,  2.25005805e-01, -9.26197916e-02,\n",
       "        -2.32498199e-02],\n",
       "       [-1.43829450e-01,  2.23984241e-01,  7.48812854e-02,\n",
       "        -1.63857132e-01,  1.99495673e-01,  2.45559514e-02,\n",
       "        -1.59526318e-01,  2.00723678e-01,  3.88991833e-02,\n",
       "         1.41819119e-02],\n",
       "       [ 6.68972731e-02,  1.44042104e-01,  5.49405515e-02,\n",
       "        -1.28945857e-02,  7.63594210e-02,  2.18145549e-02,\n",
       "         1.27890378e-01,  3.39848697e-02, -1.36184186e-01,\n",
       "         8.27380717e-02],\n",
       "       [ 1.31663650e-01, -9.47835594e-02,  1.43296272e-02,\n",
       "        -3.98063660e-02,  2.05043048e-01, -9.47061628e-02,\n",
       "         6.08382821e-02, -1.99729651e-01, -6.99311495e-03,\n",
       "        -2.04882622e-01],\n",
       "       [-2.24026293e-01,  3.85872424e-02, -1.49166465e-01,\n",
       "         1.40865028e-01,  1.49481118e-01,  5.19438386e-02,\n",
       "         5.30486405e-02,  2.29886711e-01, -1.61873952e-01,\n",
       "        -1.88072607e-01],\n",
       "       [-9.58134681e-02, -1.90262496e-03,  5.49431145e-03,\n",
       "        -1.27068490e-01,  1.87371910e-01,  1.64343625e-01,\n",
       "         1.03282332e-01, -1.23497456e-01, -2.30670840e-01,\n",
       "        -2.04416111e-01],\n",
       "       [-1.75261885e-01, -1.22182667e-02,  8.23201835e-02,\n",
       "         1.22442007e-01, -4.65371609e-02, -1.27413064e-01,\n",
       "         1.34639472e-01,  1.59131706e-01,  1.52700067e-01,\n",
       "        -1.39295772e-01],\n",
       "       [ 1.14361495e-01,  2.31537223e-02, -1.39015466e-02,\n",
       "        -3.26117277e-02, -4.13530022e-02,  4.64436114e-02,\n",
       "         1.31593704e-01,  7.91397691e-02, -4.21388000e-02,\n",
       "        -9.80600864e-02],\n",
       "       [ 1.38491452e-01, -1.82079315e-01,  1.19669437e-01,\n",
       "        -7.75583237e-02, -2.11092174e-01, -1.16736196e-01,\n",
       "         2.12480962e-01, -1.36925533e-01,  1.29604340e-01,\n",
       "         1.05810553e-01],\n",
       "       [ 2.03514010e-01, -1.11711569e-01,  1.98533624e-01,\n",
       "        -2.32675239e-01,  1.65196806e-01, -1.40202910e-01,\n",
       "        -2.05764964e-01, -2.31210515e-01,  9.02368128e-02,\n",
       "        -1.71914697e-01],\n",
       "       [ 3.76859307e-02, -2.14841902e-01, -1.27090707e-01,\n",
       "         4.39033806e-02, -1.40284359e-01, -3.62229645e-02,\n",
       "        -1.54596955e-01, -1.42386556e-03,  2.02952147e-01,\n",
       "         1.83465093e-01],\n",
       "       [ 1.99885786e-01,  1.67142123e-01,  1.17398202e-01,\n",
       "        -1.48038208e-01, -1.40892193e-01,  1.71817958e-01,\n",
       "         1.66397154e-01,  1.89936191e-01, -4.93451208e-02,\n",
       "        -1.00336120e-01],\n",
       "       [-1.77994341e-01,  2.23666906e-01, -9.90208387e-02,\n",
       "         1.71537220e-01,  4.86222506e-02, -1.12369180e-01,\n",
       "        -5.73419034e-03, -1.48462966e-01, -2.31308237e-01,\n",
       "         1.06628984e-01],\n",
       "       [ 1.04706585e-02, -1.52982384e-01,  5.79168499e-02,\n",
       "        -4.75066006e-02, -1.06145710e-01, -5.36487848e-02,\n",
       "        -1.90482378e-01,  6.10858500e-02, -2.29700655e-02,\n",
       "        -1.99602515e-01],\n",
       "       [-3.75047326e-02, -3.21428776e-02, -1.66335553e-02,\n",
       "        -3.60466242e-02,  2.32574046e-02,  2.29298532e-01,\n",
       "         5.18422127e-02, -2.16817006e-01,  2.55386531e-02,\n",
       "        -1.70759439e-01],\n",
       "       [-1.58830345e-01,  2.14188695e-02,  6.90019727e-02,\n",
       "         5.76031804e-02, -1.08821645e-01,  7.76337087e-02,\n",
       "         1.92075521e-01,  1.25875890e-01, -9.79567468e-02,\n",
       "        -1.00714207e-01],\n",
       "       [-5.43790013e-02,  6.76470995e-02,  1.69835508e-01,\n",
       "         4.47090566e-02,  1.26383096e-01, -2.11561084e-01,\n",
       "         1.38701648e-01,  2.07052082e-01,  2.20287532e-01,\n",
       "         1.55861616e-01],\n",
       "       [-2.01453745e-01, -1.16274983e-01,  2.72899270e-02,\n",
       "        -2.28466585e-01,  5.22050858e-02,  3.52360010e-02,\n",
       "        -1.97954699e-01, -8.84391963e-02, -6.74121082e-03,\n",
       "        -9.01947021e-02],\n",
       "       [-1.07164085e-01, -3.46738845e-02, -3.27810049e-02,\n",
       "         2.17731208e-01,  5.46475053e-02,  5.15736639e-02,\n",
       "         1.45104706e-01, -2.19856054e-02, -1.39813676e-01,\n",
       "         1.35459870e-01],\n",
       "       [ 1.82775617e-01,  8.25717151e-02, -1.05549514e-01,\n",
       "         1.04976743e-02,  4.79895771e-02, -1.69001877e-01,\n",
       "         1.41648650e-01,  1.95557803e-01, -8.50763023e-02,\n",
       "        -1.51301220e-01],\n",
       "       [ 9.92569327e-02, -1.97462022e-01, -1.14978299e-01,\n",
       "        -1.43475473e-01, -5.10355383e-02,  5.88321090e-02,\n",
       "        -1.35177821e-01, -1.74436167e-01, -8.13538730e-02,\n",
       "         6.72974288e-02],\n",
       "       [ 1.65249199e-01, -3.48432660e-02, -1.84036061e-01,\n",
       "        -7.15846419e-02, -7.50343353e-02, -1.40692592e-02,\n",
       "         1.12141043e-01,  2.01596946e-01, -1.17296644e-01,\n",
       "         7.57911801e-02],\n",
       "       [ 1.63749456e-01,  6.68975115e-02, -1.91638410e-01,\n",
       "         1.74638182e-01, -1.91849470e-03, -1.22038350e-01,\n",
       "         6.12717867e-02,  1.66342646e-01, -1.86405078e-01,\n",
       "         5.81960380e-03],\n",
       "       [ 4.18352187e-02, -1.26165658e-01, -4.94288206e-02,\n",
       "         1.94108546e-01, -7.00325370e-02, -9.46815461e-02,\n",
       "        -1.78016052e-01, -1.44692808e-01,  2.20518887e-01,\n",
       "         1.19007498e-01],\n",
       "       [-8.98466855e-02, -6.73089921e-02,  1.75706953e-01,\n",
       "        -4.27415073e-02,  4.79158759e-02,  1.14318460e-01,\n",
       "         1.66386366e-04,  2.21049666e-01, -8.56781751e-02,\n",
       "         4.20604646e-02],\n",
       "       [ 1.64056987e-01, -2.31063217e-02, -2.13517994e-01,\n",
       "        -9.03577507e-02,  2.31981337e-01, -2.10235775e-01,\n",
       "        -1.21908389e-01, -2.23935023e-01, -1.19151875e-01,\n",
       "         1.29809976e-01],\n",
       "       [ 4.57939804e-02,  1.23368889e-01, -2.16539487e-01,\n",
       "         5.25244474e-02,  1.94636852e-01,  1.86636835e-01,\n",
       "        -1.27661899e-01,  1.82022959e-01,  1.35941952e-01,\n",
       "         1.50045604e-02],\n",
       "       [ 8.67609382e-02, -3.40083092e-02,  2.07849562e-01,\n",
       "         1.22637600e-02,  1.23292208e-01, -2.28803009e-02,\n",
       "        -2.78148353e-02, -7.09111094e-02, -1.59863308e-01,\n",
       "        -1.48529232e-01],\n",
       "       [ 3.01917195e-02, -2.23987654e-01,  1.71631366e-01,\n",
       "         1.74991697e-01,  6.39912188e-02, -2.25230545e-01,\n",
       "        -9.87772346e-02, -6.28083348e-02,  1.43886626e-01,\n",
       "        -2.11290345e-01],\n",
       "       [-4.34111506e-02, -2.23149911e-01,  6.86567426e-02,\n",
       "         9.01439786e-03, -9.16093737e-02,  7.06053972e-02,\n",
       "        -1.99496508e-01, -1.19849749e-01, -1.68864459e-01,\n",
       "        -6.24321997e-02],\n",
       "       [ 1.43055767e-02, -9.14133191e-02, -1.78393751e-01,\n",
       "        -1.84517771e-01, -7.56075382e-02,  9.05551910e-02,\n",
       "         9.03457105e-02, -1.31046399e-01, -1.33501828e-01,\n",
       "         1.92414969e-01],\n",
       "       [-1.90650433e-01, -1.24653876e-02,  1.02118909e-01,\n",
       "        -1.03145421e-01, -1.12099402e-01,  1.75961375e-01,\n",
       "         7.27547407e-02,  1.05209798e-01,  1.17853016e-01,\n",
       "        -2.03349560e-01],\n",
       "       [ 2.10556328e-01, -2.29892731e-01,  8.48046839e-02,\n",
       "        -9.99246836e-02,  4.68929708e-02,  2.33015686e-01,\n",
       "        -1.53116077e-01,  5.56997955e-03,  2.13021189e-01,\n",
       "        -4.38213646e-02],\n",
       "       [-1.82466209e-01,  1.19522780e-01,  7.67383277e-02,\n",
       "         2.26037592e-01,  6.54268265e-02,  6.35594130e-03,\n",
       "        -1.56857550e-01, -2.32685268e-01, -1.02451831e-01,\n",
       "        -4.13143635e-02],\n",
       "       [-3.61524671e-02,  1.03773475e-02, -2.23061532e-01,\n",
       "        -2.69660205e-02,  1.19561315e-01, -2.22930074e-01,\n",
       "        -1.92409053e-01, -1.78781122e-01,  1.51336133e-01,\n",
       "        -1.17931984e-01],\n",
       "       [-5.04682958e-02,  1.51772171e-01, -1.36138350e-01,\n",
       "         1.56221658e-01, -8.02269578e-03, -1.91628441e-01,\n",
       "        -3.31116468e-02, -1.87158138e-02, -2.37923861e-02,\n",
       "         2.48696804e-02],\n",
       "       [ 3.54380608e-02, -5.92599064e-02,  9.77296829e-02,\n",
       "         3.14566493e-02,  1.92411274e-01,  1.13243341e-01,\n",
       "         1.80618495e-01, -1.01929471e-01,  1.70439482e-01,\n",
       "        -2.36552358e-02],\n",
       "       [ 4.46031988e-02, -2.76937932e-02, -1.59041137e-02,\n",
       "         3.43342721e-02,  1.40311718e-02, -4.89591956e-02,\n",
       "         1.01779997e-02, -1.21971697e-01,  1.81773722e-01,\n",
       "        -4.95143980e-02],\n",
       "       [-1.38842404e-01, -9.10516083e-02,  7.93962479e-02,\n",
       "        -8.41167271e-02,  4.83125448e-02,  7.13497102e-02,\n",
       "         1.85690165e-01, -8.94708335e-02,  1.06634438e-01,\n",
       "        -5.17057925e-02],\n",
       "       [-2.07402200e-01, -1.51073933e-01, -1.08518600e-02,\n",
       "        -1.41437054e-01,  9.42036808e-02, -4.87656444e-02,\n",
       "         1.44228458e-01, -1.46054134e-01, -1.12501256e-01,\n",
       "        -1.31606728e-01],\n",
       "       [-1.91406608e-01, -8.52877945e-02, -2.03073263e-01,\n",
       "        -1.56006068e-01, -1.03889227e-01,  1.01625681e-01,\n",
       "        -1.05700135e-01, -1.81599855e-02, -1.00780472e-01,\n",
       "        -2.04547629e-01],\n",
       "       [-2.26083368e-01,  1.11613840e-01, -1.87633872e-01,\n",
       "        -6.89289719e-02,  1.35498106e-01, -1.48815438e-01,\n",
       "         1.66513532e-01,  1.55563891e-01, -6.82861209e-02,\n",
       "         8.07498395e-02],\n",
       "       [-9.09690261e-02, -1.10067278e-02, -1.96734697e-01,\n",
       "        -8.91089439e-04,  9.38623548e-02, -1.50225654e-01,\n",
       "        -1.38639003e-01,  9.12198722e-02, -2.73780674e-02,\n",
       "         7.20733702e-02],\n",
       "       [ 1.89722151e-01,  5.70188463e-02, -1.32259443e-01,\n",
       "         1.08131021e-01, -8.20620954e-02,  9.70584154e-02,\n",
       "         2.09094882e-01,  2.13953257e-01, -1.14252307e-01,\n",
       "         2.19891578e-01],\n",
       "       [-4.53139842e-02,  1.66525275e-01, -1.67239010e-01,\n",
       "        -2.21904844e-01,  5.66452742e-02,  1.87488109e-01,\n",
       "         6.37768805e-02,  7.30220377e-02, -1.01308674e-01,\n",
       "        -4.37988043e-02],\n",
       "       [-1.02256224e-01, -2.01645732e-01, -7.34335780e-02,\n",
       "        -9.25413966e-02,  1.84676468e-01, -1.02126762e-01,\n",
       "        -1.94108605e-01, -1.25922322e-01,  1.40932173e-01,\n",
       "         1.02989674e-01],\n",
       "       [ 1.74274296e-01,  4.37465906e-02, -1.08573079e-01,\n",
       "        -6.89730197e-02,  2.27274418e-01, -1.36125326e-01,\n",
       "         1.74867481e-01,  1.71046704e-01,  4.14871871e-02,\n",
       "        -1.73611447e-01],\n",
       "       [-1.89589068e-01,  2.23045379e-01,  1.54140413e-01,\n",
       "        -1.51557639e-01,  1.76606119e-01, -2.28169411e-02,\n",
       "        -1.76544368e-01, -8.72427970e-02,  1.50826275e-02,\n",
       "         2.16942459e-01],\n",
       "       [ 1.31141901e-01, -1.64994568e-01,  1.68794245e-01,\n",
       "        -1.04947031e-01, -2.22109303e-01,  1.65365756e-01,\n",
       "         1.23171031e-01, -1.53848693e-01, -1.42308593e-01,\n",
       "        -2.13222310e-01],\n",
       "       [ 1.58852935e-01, -1.07975543e-01, -1.42491952e-01,\n",
       "        -8.31521899e-02,  2.12613642e-01,  4.05825377e-02,\n",
       "         6.01351857e-02, -1.67291522e-01, -4.09538150e-02,\n",
       "        -1.37325168e-01],\n",
       "       [ 1.78675175e-01, -1.48057193e-02,  7.37597048e-02,\n",
       "         8.61914158e-02,  3.46204937e-02,  1.89165473e-02,\n",
       "         1.44250572e-01,  1.22970968e-01,  2.31761664e-01,\n",
       "         1.80602729e-01],\n",
       "       [-4.42409515e-03,  1.56143308e-01,  8.28398764e-02,\n",
       "         1.85275048e-01, -2.03197777e-01,  5.34504950e-02,\n",
       "        -1.14116333e-01,  1.48952365e-01,  2.17961282e-01,\n",
       "        -1.82138175e-01],\n",
       "       [ 1.95959598e-01, -4.09051478e-02,  1.46801740e-01,\n",
       "         1.33181661e-01,  3.40883732e-02, -1.10328414e-01,\n",
       "         5.20811975e-02,  2.01541066e-01,  1.58764690e-01,\n",
       "         1.12505168e-01],\n",
       "       [-1.34227321e-01,  1.13072515e-01, -1.24442667e-01,\n",
       "         1.48319095e-01,  9.27151144e-02, -1.28476709e-01,\n",
       "        -2.04903439e-01, -1.83794290e-01,  1.80134654e-01,\n",
       "        -1.87027112e-01],\n",
       "       [-5.28598130e-02,  3.30815315e-02,  1.15310490e-01,\n",
       "        -1.43096447e-01, -5.34779429e-02, -6.10013902e-02,\n",
       "        -4.68516052e-02, -2.29084224e-01,  1.69724464e-01,\n",
       "         5.09306192e-02],\n",
       "       [-1.88512444e-01,  1.75698608e-01,  9.30589736e-02,\n",
       "         1.21193588e-01, -2.03736275e-01, -1.27802789e-03,\n",
       "        -6.61111027e-02,  3.85212004e-02, -2.12932259e-01,\n",
       "         3.22839916e-02],\n",
       "       [-5.30866086e-02,  1.83615327e-01,  2.88759768e-02,\n",
       "         7.83821344e-02, -1.76593468e-01,  1.83709085e-01,\n",
       "         1.85996979e-01,  4.16646004e-02,  1.39776826e-01,\n",
       "         2.22586840e-01],\n",
       "       [-1.36453450e-01,  5.38659394e-02,  2.08332866e-01,\n",
       "        -9.70908850e-02, -4.47217524e-02,  1.22921407e-01,\n",
       "        -2.05325633e-02,  1.53093189e-01,  6.48041070e-02,\n",
       "         1.49665534e-01],\n",
       "       [-1.34092450e-01,  2.12698609e-01,  1.77175790e-01,\n",
       "        -7.94372261e-02,  9.18634534e-02,  5.33606708e-02,\n",
       "         1.83042973e-01, -1.21138684e-01, -2.33424515e-01,\n",
       "         9.04296339e-03],\n",
       "       [ 2.01717287e-01, -1.53438270e-01, -8.55103582e-02,\n",
       "        -2.09529445e-01, -6.88677132e-02, -7.62752295e-02,\n",
       "        -2.27675006e-01, -1.12698987e-01, -1.56427085e-01,\n",
       "         4.24652100e-02],\n",
       "       [ 2.20976770e-02, -2.14746177e-01, -1.80460691e-01,\n",
       "         8.89706314e-02,  1.75244063e-01, -7.34004527e-02,\n",
       "        -2.19209194e-01,  8.95400345e-02,  4.43188846e-03,\n",
       "         1.87409192e-01],\n",
       "       [ 1.12814307e-01, -1.30504668e-01,  1.42365724e-01,\n",
       "        -2.20657781e-01, -1.03137225e-01,  1.53909773e-01,\n",
       "         2.24390954e-01, -5.51659018e-02,  1.15069121e-01,\n",
       "         1.78044051e-01],\n",
       "       [-1.38953105e-01,  2.24895000e-01, -3.97385508e-02,\n",
       "        -7.66175091e-02,  1.21587664e-01, -4.05561328e-02,\n",
       "        -1.14537477e-02, -5.37408888e-03,  1.63524836e-01,\n",
       "         5.39229512e-02],\n",
       "       [ 4.72776890e-02, -3.22509557e-02, -1.03879139e-01,\n",
       "        -9.54220146e-02, -3.93264443e-02,  1.33475274e-01,\n",
       "         1.51435196e-01, -1.45619482e-01,  3.27604115e-02,\n",
       "         1.43635273e-01],\n",
       "       [-1.94160715e-01, -1.77312613e-01, -1.65211290e-01,\n",
       "         1.86450362e-01, -3.88526917e-02, -5.28075248e-02,\n",
       "         1.67673171e-01,  1.42107755e-01,  2.18131453e-01,\n",
       "        -1.07006386e-01],\n",
       "       [ 8.13168883e-02,  2.89025903e-02,  6.47474229e-02,\n",
       "        -1.61856413e-01, -2.26174250e-01,  4.94793653e-02,\n",
       "        -1.49515092e-01,  1.50665253e-01, -1.75563395e-01,\n",
       "         2.24624485e-01],\n",
       "       [-3.17318738e-03, -1.93553716e-02,  1.92237258e-01,\n",
       "         2.12060332e-01, -1.55749083e-01, -5.64230531e-02,\n",
       "         2.75576413e-02,  1.83987945e-01,  1.60437286e-01,\n",
       "        -3.59496176e-02],\n",
       "       [-1.07053667e-02,  1.83459640e-01, -9.05690044e-02,\n",
       "         7.66498744e-02, -8.06583911e-02, -1.58540606e-02,\n",
       "         7.65313208e-03, -4.33024019e-02, -1.04860723e-01,\n",
       "         1.87730819e-01],\n",
       "       [-5.94522953e-02,  1.76256001e-02, -8.10945630e-02,\n",
       "         1.87920690e-01,  1.70156628e-01,  1.91960305e-01,\n",
       "        -2.46099234e-02,  3.32412720e-02, -2.06894934e-01,\n",
       "        -4.18668389e-02],\n",
       "       [-1.59966886e-01, -7.85888880e-02, -1.03538483e-01,\n",
       "         1.61861092e-01, -1.80173367e-01,  2.08543092e-01,\n",
       "        -1.79127753e-01, -6.79120868e-02, -1.39656037e-01,\n",
       "         9.41504538e-02],\n",
       "       [ 3.45469117e-02,  6.96401894e-02,  3.87428701e-02,\n",
       "         4.01821733e-03, -1.11404255e-01, -1.10166602e-01,\n",
       "         1.25542134e-01,  2.04660326e-01, -1.34486467e-01,\n",
       "        -1.37111962e-01],\n",
       "       [ 1.36906207e-01, -4.27543670e-02,  4.22140956e-03,\n",
       "        -2.17188746e-01,  1.76640689e-01, -2.12537751e-01,\n",
       "         1.07638597e-01, -1.17944621e-01,  1.96697116e-01,\n",
       "        -3.63980234e-03],\n",
       "       [ 1.22798473e-01,  5.49965799e-02, -1.70600742e-01,\n",
       "         2.33336240e-01,  1.99033320e-01, -2.04072207e-01,\n",
       "         6.11838698e-02, -4.08094376e-02, -2.71421373e-02,\n",
       "        -9.66853499e-02],\n",
       "       [-2.14494765e-01, -6.26573861e-02, -2.42325664e-03,\n",
       "         2.16121644e-01, -1.99297935e-01,  2.24454403e-02,\n",
       "        -7.77619481e-02, -6.21712208e-03, -1.28852114e-01,\n",
       "         2.22579390e-01],\n",
       "       [ 9.37511623e-02, -1.56778157e-01, -9.29205418e-02,\n",
       "         9.68509018e-02, -1.46492139e-01, -4.86900806e-02,\n",
       "        -1.91363841e-02,  2.04973757e-01,  2.13709593e-01,\n",
       "        -2.05122784e-01],\n",
       "       [ 3.14411819e-02, -1.74776211e-01, -2.64441669e-02,\n",
       "        -1.76319852e-01,  5.46287894e-02, -7.13773072e-03,\n",
       "        -2.20651761e-01,  1.51909560e-01,  1.04564548e-01,\n",
       "        -7.01767206e-03],\n",
       "       [-3.08161378e-02, -8.55984390e-02, -6.08317256e-02,\n",
       "        -5.94722331e-02,  1.36180401e-01,  5.78017533e-02,\n",
       "        -1.72824711e-01,  7.29405582e-02, -6.76822364e-02,\n",
       "        -1.16153590e-01],\n",
       "       [-1.96476609e-01,  1.93882644e-01, -2.32216194e-01,\n",
       "        -1.34099752e-01,  1.14610404e-01, -5.62575608e-02,\n",
       "        -2.01330692e-01, -3.93498242e-02,  1.82749569e-01,\n",
       "         2.33158082e-01],\n",
       "       [ 8.00842941e-02, -1.09746456e-02, -1.49251103e-01,\n",
       "         1.87629491e-01,  1.91623151e-01, -1.86255008e-01,\n",
       "        -4.58616763e-02, -3.26333344e-02, -1.22510701e-01,\n",
       "        -1.94699779e-01],\n",
       "       [-5.70534170e-03, -2.09946230e-01, -1.54791504e-01,\n",
       "         7.31845200e-02, -1.73556939e-01,  7.92053044e-02,\n",
       "        -1.59718871e-01, -1.68201938e-01, -2.31520340e-01,\n",
       "         2.24569917e-01],\n",
       "       [ 1.86767459e-01, -7.73490071e-02,  2.99785137e-02,\n",
       "         3.50272954e-02, -1.45881921e-01,  1.89472675e-01,\n",
       "        -1.44886255e-01,  4.31541800e-02, -2.25283355e-02,\n",
       "         2.08526045e-01],\n",
       "       [ 6.16601110e-03,  2.33547360e-01, -2.26573721e-01,\n",
       "        -7.69433677e-02,  5.39921820e-02,  1.74660385e-01,\n",
       "         1.29630506e-01,  1.81563020e-01,  2.22159922e-01,\n",
       "         1.39445007e-01],\n",
       "       [-1.35891899e-01,  1.70656443e-02,  7.73755014e-02,\n",
       "        -1.80608690e-01,  1.34309113e-01,  1.27136588e-01,\n",
       "        -1.59006909e-01, -1.81037486e-02, -1.24184802e-01,\n",
       "        -3.10863554e-02],\n",
       "       [ 4.11881804e-02, -9.31518376e-02, -1.34796903e-01,\n",
       "         2.11232096e-01, -8.83412510e-02, -8.53210837e-02,\n",
       "        -4.76526022e-02,  1.72577798e-01,  1.81137115e-01,\n",
       "        -8.94512832e-02],\n",
       "       [-1.69061720e-02,  4.96627390e-03,  5.52541018e-02,\n",
       "        -1.54143602e-01,  6.84535503e-02, -1.31517798e-02,\n",
       "        -7.59769380e-02,  2.08698332e-01, -1.49816006e-01,\n",
       "        -6.29910827e-02],\n",
       "       [-9.06424522e-02, -4.26802486e-02, -7.47848898e-02,\n",
       "         1.42932564e-01, -1.86084241e-01, -1.31813437e-01,\n",
       "        -1.28797501e-01,  1.25074267e-01,  1.81439310e-01,\n",
       "        -1.74257919e-01]], dtype=float32)"
      ]
     },
     "execution_count": 24,
     "metadata": {},
     "output_type": "execute_result"
    }
   ],
   "source": [
    "weight_l3 "
   ]
  },
  {
   "cell_type": "code",
   "execution_count": 25,
   "id": "2972ac93",
   "metadata": {},
   "outputs": [
    {
     "data": {
      "text/plain": [
       "array([0., 0., 0., 0., 0., 0., 0., 0., 0., 0.], dtype=float32)"
      ]
     },
     "execution_count": 25,
     "metadata": {},
     "output_type": "execute_result"
    }
   ],
   "source": [
    "bais_l3 "
   ]
  },
  {
   "cell_type": "code",
   "execution_count": 26,
   "id": "b1fa900a",
   "metadata": {},
   "outputs": [
    {
     "name": "stdout",
     "output_type": "stream",
     "text": [
      "Weight shape : (100, 10)\n",
      "Bias shape : (10,)\n"
     ]
    }
   ],
   "source": [
    "print(f\"Weight shape : {weight_l3.shape}\\nBias shape : {bais_l3.shape}\") "
   ]
  },
  {
   "cell_type": "markdown",
   "id": "0633ac10",
   "metadata": {},
   "source": [
    "# Model compilation and showcase -  "
   ]
  },
  {
   "cell_type": "code",
   "execution_count": 27,
   "id": "26d63603",
   "metadata": {},
   "outputs": [],
   "source": [
    "model.compile(loss='sparse_categorical_crossentropy', optimizer='sgd', metrics=['accuracy'])    # sgd: Stoichastic Gradient Descent "
   ]
  },
  {
   "cell_type": "code",
   "execution_count": 28,
   "id": "77cb5017",
   "metadata": {},
   "outputs": [
    {
     "name": "stdout",
     "output_type": "stream",
     "text": [
      "Epoch 1/10\n",
      "\u001b[1m1719/1719\u001b[0m \u001b[32m━━━━━━━━━━━━━━━━━━━━\u001b[0m\u001b[37m\u001b[0m \u001b[1m7s\u001b[0m 4ms/step - accuracy: 0.6768 - loss: 0.9856 - val_accuracy: 0.8150 - val_loss: 0.5328\n",
      "Epoch 2/10\n",
      "\u001b[1m1719/1719\u001b[0m \u001b[32m━━━━━━━━━━━━━━━━━━━━\u001b[0m\u001b[37m\u001b[0m \u001b[1m7s\u001b[0m 4ms/step - accuracy: 0.8220 - loss: 0.5096 - val_accuracy: 0.8428 - val_loss: 0.4654\n",
      "Epoch 3/10\n",
      "\u001b[1m1719/1719\u001b[0m \u001b[32m━━━━━━━━━━━━━━━━━━━━\u001b[0m\u001b[37m\u001b[0m \u001b[1m6s\u001b[0m 4ms/step - accuracy: 0.8404 - loss: 0.4523 - val_accuracy: 0.8538 - val_loss: 0.4298\n",
      "Epoch 4/10\n",
      "\u001b[1m1719/1719\u001b[0m \u001b[32m━━━━━━━━━━━━━━━━━━━━\u001b[0m\u001b[37m\u001b[0m \u001b[1m7s\u001b[0m 4ms/step - accuracy: 0.8507 - loss: 0.4213 - val_accuracy: 0.8616 - val_loss: 0.4067\n",
      "Epoch 5/10\n",
      "\u001b[1m1719/1719\u001b[0m \u001b[32m━━━━━━━━━━━━━━━━━━━━\u001b[0m\u001b[37m\u001b[0m \u001b[1m6s\u001b[0m 3ms/step - accuracy: 0.8578 - loss: 0.3999 - val_accuracy: 0.8678 - val_loss: 0.3909\n",
      "Epoch 6/10\n",
      "\u001b[1m1719/1719\u001b[0m \u001b[32m━━━━━━━━━━━━━━━━━━━━\u001b[0m\u001b[37m\u001b[0m \u001b[1m8s\u001b[0m 4ms/step - accuracy: 0.8635 - loss: 0.3832 - val_accuracy: 0.8704 - val_loss: 0.3786\n",
      "Epoch 7/10\n",
      "\u001b[1m1719/1719\u001b[0m \u001b[32m━━━━━━━━━━━━━━━━━━━━\u001b[0m\u001b[37m\u001b[0m \u001b[1m7s\u001b[0m 4ms/step - accuracy: 0.8683 - loss: 0.3695 - val_accuracy: 0.8730 - val_loss: 0.3689\n",
      "Epoch 8/10\n",
      "\u001b[1m1719/1719\u001b[0m \u001b[32m━━━━━━━━━━━━━━━━━━━━\u001b[0m\u001b[37m\u001b[0m \u001b[1m6s\u001b[0m 4ms/step - accuracy: 0.8724 - loss: 0.3577 - val_accuracy: 0.8742 - val_loss: 0.3617\n",
      "Epoch 9/10\n",
      "\u001b[1m1719/1719\u001b[0m \u001b[32m━━━━━━━━━━━━━━━━━━━━\u001b[0m\u001b[37m\u001b[0m \u001b[1m4s\u001b[0m 3ms/step - accuracy: 0.8752 - loss: 0.3473 - val_accuracy: 0.8748 - val_loss: 0.3542\n",
      "Epoch 10/10\n",
      "\u001b[1m1719/1719\u001b[0m \u001b[32m━━━━━━━━━━━━━━━━━━━━\u001b[0m\u001b[37m\u001b[0m \u001b[1m7s\u001b[0m 4ms/step - accuracy: 0.8791 - loss: 0.3378 - val_accuracy: 0.8762 - val_loss: 0.3494\n",
      "Model parameters : {'verbose': 'auto', 'epochs': 10, 'steps': 1719}\n",
      "Model history : {'accuracy': [0.7559454441070557, 0.826836347579956, 0.8430727124214172, 0.8525999784469604, 0.8592363595962524, 0.8647817969322205, 0.869527280330658, 0.8732545375823975, 0.8763818144798279, 0.8794545531272888], 'loss': [0.7223413586616516, 0.49410876631736755, 0.44651833176612854, 0.4186766445636749, 0.3986334204673767, 0.382577121257782, 0.36923521757125854, 0.3575996160507202, 0.347169429063797, 0.33771827816963196], 'val_accuracy': [0.8149999976158142, 0.8428000211715698, 0.8537999987602234, 0.8615999817848206, 0.8677999973297119, 0.8704000115394592, 0.8730000257492065, 0.8741999864578247, 0.8748000264167786, 0.8762000203132629], 'val_loss': [0.5327865481376648, 0.46540316939353943, 0.42980024218559265, 0.4067196249961853, 0.39087656140327454, 0.3786357045173645, 0.36887508630752563, 0.36165469884872437, 0.35419580340385437, 0.34942108392715454]}\n"
     ]
    }
   ],
   "source": [
    "model_history = model.fit(X_train, y_train, epochs=10, validation_data=(X_valid, y_valid)) \n",
    "print(f\"Model parameters : {model_history.params}\") \n",
    "print(f\"Model history : {model_history.history}\") "
   ]
  },
  {
   "cell_type": "code",
   "execution_count": 29,
   "id": "36f48d6c",
   "metadata": {},
   "outputs": [
    {
     "data": {
      "image/png": "[encoded data removed]",
      "text/plain": [
       "<Figure size 800x500 with 1 Axes>"
      ]
     },
     "metadata": {},
     "output_type": "display_data"
    }
   ],
   "source": [
    "pd.DataFrame(model_history.history).plot(figsize=(8,5)) \n",
    "plt.grid(True) \n",
    "plt.gca().set_ylim(0, 1) \n",
    "plt.show() "
   ]
  }
 ],
 "metadata": {
  "kernelspec": {
   "display_name": "virtl_env",
   "language": "python",
   "name": "python3"
  },
  "language_info": {
   "codemirror_mode": {
    "name": "ipython",
    "version": 3
   },
   "file_extension": ".py",
   "mimetype": "text/x-python",
   "name": "python",
   "nbconvert_exporter": "python",
   "pygments_lexer": "ipython3",
   "version": "3.12.2"
  }
 },
 "nbformat": 4,
 "nbformat_minor": 5
}
