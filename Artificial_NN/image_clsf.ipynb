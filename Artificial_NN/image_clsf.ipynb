{
 "cells": [
  {
   "cell_type": "markdown",
   "id": "e3129f10",
   "metadata": {},
   "source": [
    "# Image Classification using Keras and TF -   "
   ]
  },
  {
   "cell_type": "code",
   "execution_count": 74,
   "id": "d27500ce",
   "metadata": {},
   "outputs": [],
   "source": [
    "import numpy as np \n",
    "import pandas as pd \n",
    "\n",
    "%matplotlib inline \n",
    "import matplotlib as mtp \n",
    "import matplotlib.pyplot as plt "
   ]
  },
  {
   "cell_type": "code",
   "execution_count": 75,
   "id": "4c06d1cf",
   "metadata": {},
   "outputs": [],
   "source": [
    "import tensorflow as tf     # pip install tensorflow==<version_name> \n",
    "from tensorflow import keras "
   ]
  },
  {
   "cell_type": "code",
   "execution_count": 76,
   "id": "5f6861e3",
   "metadata": {},
   "outputs": [
    {
     "data": {
      "text/plain": [
       "'2.19.0'"
      ]
     },
     "execution_count": 76,
     "metadata": {},
     "output_type": "execute_result"
    }
   ],
   "source": [
    "tf.__version__"
   ]
  },
  {
   "cell_type": "code",
   "execution_count": 77,
   "id": "80e0e1e6",
   "metadata": {},
   "outputs": [
    {
     "data": {
      "text/plain": [
       "'3.10.0'"
      ]
     },
     "execution_count": 77,
     "metadata": {},
     "output_type": "execute_result"
    }
   ],
   "source": [
    "keras.__version__ "
   ]
  },
  {
   "cell_type": "code",
   "execution_count": 78,
   "id": "08562bdb",
   "metadata": {},
   "outputs": [],
   "source": [
    "np.random.seed(42) \n",
    "tf.random.set_seed(42) "
   ]
  },
  {
   "cell_type": "markdown",
   "id": "64fecf4c",
   "metadata": {},
   "source": [
    "# Image dataset loading (available in keras)  "
   ]
  },
  {
   "cell_type": "code",
   "execution_count": 79,
   "id": "81602d0f",
   "metadata": {},
   "outputs": [],
   "source": [
    "fashion_mnist = keras.datasets.fashion_mnist \n",
    "(x_train_full, y_train_full), (x_test, y_test) = fashion_mnist.load_data() "
   ]
  },
  {
   "cell_type": "code",
   "execution_count": 80,
   "id": "a5f21c7e",
   "metadata": {},
   "outputs": [
    {
     "name": "stdout",
     "output_type": "stream",
     "text": [
      "Train size :\n",
      "(60000, 28, 28)\n",
      "(60000,)\n",
      "Test size : \n",
      "(10000, 28, 28)\n",
      "(10000,)\n"
     ]
    }
   ],
   "source": [
    "print(f\"Train size :\\n{x_train_full.shape}\\n{y_train_full.shape}\\nTest size : \\n{x_test.shape}\\n{y_test.shape}\") "
   ]
  },
  {
   "cell_type": "code",
   "execution_count": 81,
   "id": "6b31dfe7",
   "metadata": {},
   "outputs": [
    {
     "data": {
      "text/plain": [
       "<matplotlib.image.AxesImage at 0x163b1dd0620>"
      ]
     },
     "execution_count": 81,
     "metadata": {},
     "output_type": "execute_result"
    },
    {
     "data": {
      "image/png": "[encoded data removed]",
      "text/plain": [
       "<Figure size 640x480 with 1 Axes>"
      ]
     },
     "metadata": {},
     "output_type": "display_data"
    }
   ],
   "source": [
    "plt.imshow(x_train_full[1])    # sample image out of 60k images "
   ]
  },
  {
   "cell_type": "code",
   "execution_count": 82,
   "id": "82769486",
   "metadata": {},
   "outputs": [],
   "source": [
    "class_names = [\"T-shirt/top\", \"Trouser\", \"Pullover\", \"Dress\", \"Coat\", \"Sandal\", \"Shirt\", \"Sneaker\", \"Bag\", \"Ankle boot\"] "
   ]
  },
  {
   "cell_type": "code",
   "execution_count": 83,
   "id": "f8847de8",
   "metadata": {},
   "outputs": [
    {
     "data": {
      "text/plain": [
       "'T-shirt/top'"
      ]
     },
     "execution_count": 83,
     "metadata": {},
     "output_type": "execute_result"
    }
   ],
   "source": [
    "class_names[y_train_full[1]] "
   ]
  },
  {
   "cell_type": "markdown",
   "id": "e19359a1",
   "metadata": {},
   "source": [
    "Data Normalization (we normalize the data so that it is approximately the same scale)  "
   ]
  },
  {
   "cell_type": "code",
   "execution_count": 84,
   "id": "e8f7e00d",
   "metadata": {},
   "outputs": [],
   "source": [
    "x_train_n = x_train_full / 255.0      # 255 is the final limit in pixel colors \n",
    "x_test_n = x_test / 255.0 "
   ]
  },
  {
   "cell_type": "markdown",
   "id": "30d44ce9",
   "metadata": {},
   "source": [
    "Data splitting as train, validation, and test sets  "
   ]
  },
  {
   "cell_type": "code",
   "execution_count": 85,
   "id": "6f3c3aae",
   "metadata": {},
   "outputs": [],
   "source": [
    "X_valid, X_train = x_train_n[:5000], x_train_n[5000:] \n",
    "y_valid, y_train = y_train_full[:5000], y_train_full[5000:] \n",
    "X_test = x_test_n "
   ]
  },
  {
   "cell_type": "code",
   "execution_count": 86,
   "id": "0067bb95",
   "metadata": {},
   "outputs": [
    {
     "data": {
      "text/plain": [
       "array([[[0., 0., 0., ..., 0., 0., 0.],\n",
       "        [0., 0., 0., ..., 0., 0., 0.],\n",
       "        [0., 0., 0., ..., 0., 0., 0.],\n",
       "        ...,\n",
       "        [0., 0., 0., ..., 0., 0., 0.],\n",
       "        [0., 0., 0., ..., 0., 0., 0.],\n",
       "        [0., 0., 0., ..., 0., 0., 0.]],\n",
       "\n",
       "       [[0., 0., 0., ..., 0., 0., 0.],\n",
       "        [0., 0., 0., ..., 0., 0., 0.],\n",
       "        [0., 0., 0., ..., 0., 0., 0.],\n",
       "        ...,\n",
       "        [0., 0., 0., ..., 0., 0., 0.],\n",
       "        [0., 0., 0., ..., 0., 0., 0.],\n",
       "        [0., 0., 0., ..., 0., 0., 0.]],\n",
       "\n",
       "       [[0., 0., 0., ..., 0., 0., 0.],\n",
       "        [0., 0., 0., ..., 0., 0., 0.],\n",
       "        [0., 0., 0., ..., 0., 0., 0.],\n",
       "        ...,\n",
       "        [0., 0., 0., ..., 0., 0., 0.],\n",
       "        [0., 0., 0., ..., 0., 0., 0.],\n",
       "        [0., 0., 0., ..., 0., 0., 0.]],\n",
       "\n",
       "       ...,\n",
       "\n",
       "       [[0., 0., 0., ..., 0., 0., 0.],\n",
       "        [0., 0., 0., ..., 0., 0., 0.],\n",
       "        [0., 0., 0., ..., 0., 0., 0.],\n",
       "        ...,\n",
       "        [0., 0., 0., ..., 0., 0., 0.],\n",
       "        [0., 0., 0., ..., 0., 0., 0.],\n",
       "        [0., 0., 0., ..., 0., 0., 0.]],\n",
       "\n",
       "       [[0., 0., 0., ..., 0., 0., 0.],\n",
       "        [0., 0., 0., ..., 0., 0., 0.],\n",
       "        [0., 0., 0., ..., 0., 0., 0.],\n",
       "        ...,\n",
       "        [0., 0., 0., ..., 0., 0., 0.],\n",
       "        [0., 0., 0., ..., 0., 0., 0.],\n",
       "        [0., 0., 0., ..., 0., 0., 0.]],\n",
       "\n",
       "       [[0., 0., 0., ..., 0., 0., 0.],\n",
       "        [0., 0., 0., ..., 0., 0., 0.],\n",
       "        [0., 0., 0., ..., 0., 0., 0.],\n",
       "        ...,\n",
       "        [0., 0., 0., ..., 0., 0., 0.],\n",
       "        [0., 0., 0., ..., 0., 0., 0.],\n",
       "        [0., 0., 0., ..., 0., 0., 0.]]])"
      ]
     },
     "execution_count": 86,
     "metadata": {},
     "output_type": "execute_result"
    }
   ],
   "source": [
    "X_valid "
   ]
  },
  {
   "cell_type": "code",
   "execution_count": 87,
   "id": "c3bb79cb",
   "metadata": {},
   "outputs": [
    {
     "data": {
      "text/plain": [
       "array([9, 0, 0, ..., 5, 8, 3], dtype=uint8)"
      ]
     },
     "execution_count": 87,
     "metadata": {},
     "output_type": "execute_result"
    }
   ],
   "source": [
    "y_valid "
   ]
  },
  {
   "cell_type": "markdown",
   "id": "dd3057b8",
   "metadata": {},
   "source": [
    "# Neural Network Model (in Keras)  "
   ]
  },
  {
   "cell_type": "code",
   "execution_count": 88,
   "id": "83e59699",
   "metadata": {},
   "outputs": [
    {
     "data": {
      "text/html": [
       "<pre style=\"white-space:pre;overflow-x:auto;line-height:normal;font-family:Menlo,'DejaVu Sans Mono',consolas,'Courier New',monospace\"><span style=\"font-weight: bold\">Model: \"sequential_2\"</span>\n",
       "</pre>\n"
      ],
      "text/plain": [
       "\u001b[1mModel: \"sequential_2\"\u001b[0m\n"
      ]
     },
     "metadata": {},
     "output_type": "display_data"
    },
    {
     "data": {
      "text/html": [
       "<pre style=\"white-space:pre;overflow-x:auto;line-height:normal;font-family:Menlo,'DejaVu Sans Mono',consolas,'Courier New',monospace\">┏━━━━━━━━━━━━━━━━━━━━━━━━━━━━━━━━━┳━━━━━━━━━━━━━━━━━━━━━━━━┳━━━━━━━━━━━━━━━┓\n",
       "┃<span style=\"font-weight: bold\"> Layer (type)                    </span>┃<span style=\"font-weight: bold\"> Output Shape           </span>┃<span style=\"font-weight: bold\">       Param # </span>┃\n",
       "┡━━━━━━━━━━━━━━━━━━━━━━━━━━━━━━━━━╇━━━━━━━━━━━━━━━━━━━━━━━━╇━━━━━━━━━━━━━━━┩\n",
       "│ flatten_2 (<span style=\"color: #0087ff; text-decoration-color: #0087ff\">Flatten</span>)             │ (<span style=\"color: #00d7ff; text-decoration-color: #00d7ff\">None</span>, <span style=\"color: #00af00; text-decoration-color: #00af00\">784</span>)            │             <span style=\"color: #00af00; text-decoration-color: #00af00\">0</span> │\n",
       "├─────────────────────────────────┼────────────────────────┼───────────────┤\n",
       "│ dense_6 (<span style=\"color: #0087ff; text-decoration-color: #0087ff\">Dense</span>)                 │ (<span style=\"color: #00d7ff; text-decoration-color: #00d7ff\">None</span>, <span style=\"color: #00af00; text-decoration-color: #00af00\">300</span>)            │       <span style=\"color: #00af00; text-decoration-color: #00af00\">235,500</span> │\n",
       "├─────────────────────────────────┼────────────────────────┼───────────────┤\n",
       "│ dense_7 (<span style=\"color: #0087ff; text-decoration-color: #0087ff\">Dense</span>)                 │ (<span style=\"color: #00d7ff; text-decoration-color: #00d7ff\">None</span>, <span style=\"color: #00af00; text-decoration-color: #00af00\">100</span>)            │        <span style=\"color: #00af00; text-decoration-color: #00af00\">30,100</span> │\n",
       "├─────────────────────────────────┼────────────────────────┼───────────────┤\n",
       "│ dense_8 (<span style=\"color: #0087ff; text-decoration-color: #0087ff\">Dense</span>)                 │ (<span style=\"color: #00d7ff; text-decoration-color: #00d7ff\">None</span>, <span style=\"color: #00af00; text-decoration-color: #00af00\">10</span>)             │         <span style=\"color: #00af00; text-decoration-color: #00af00\">1,010</span> │\n",
       "└─────────────────────────────────┴────────────────────────┴───────────────┘\n",
       "</pre>\n"
      ],
      "text/plain": [
       "┏━━━━━━━━━━━━━━━━━━━━━━━━━━━━━━━━━┳━━━━━━━━━━━━━━━━━━━━━━━━┳━━━━━━━━━━━━━━━┓\n",
       "┃\u001b[1m \u001b[0m\u001b[1mLayer (type)                   \u001b[0m\u001b[1m \u001b[0m┃\u001b[1m \u001b[0m\u001b[1mOutput Shape          \u001b[0m\u001b[1m \u001b[0m┃\u001b[1m \u001b[0m\u001b[1m      Param #\u001b[0m\u001b[1m \u001b[0m┃\n",
       "┡━━━━━━━━━━━━━━━━━━━━━━━━━━━━━━━━━╇━━━━━━━━━━━━━━━━━━━━━━━━╇━━━━━━━━━━━━━━━┩\n",
       "│ flatten_2 (\u001b[38;5;33mFlatten\u001b[0m)             │ (\u001b[38;5;45mNone\u001b[0m, \u001b[38;5;34m784\u001b[0m)            │             \u001b[38;5;34m0\u001b[0m │\n",
       "├─────────────────────────────────┼────────────────────────┼───────────────┤\n",
       "│ dense_6 (\u001b[38;5;33mDense\u001b[0m)                 │ (\u001b[38;5;45mNone\u001b[0m, \u001b[38;5;34m300\u001b[0m)            │       \u001b[38;5;34m235,500\u001b[0m │\n",
       "├─────────────────────────────────┼────────────────────────┼───────────────┤\n",
       "│ dense_7 (\u001b[38;5;33mDense\u001b[0m)                 │ (\u001b[38;5;45mNone\u001b[0m, \u001b[38;5;34m100\u001b[0m)            │        \u001b[38;5;34m30,100\u001b[0m │\n",
       "├─────────────────────────────────┼────────────────────────┼───────────────┤\n",
       "│ dense_8 (\u001b[38;5;33mDense\u001b[0m)                 │ (\u001b[38;5;45mNone\u001b[0m, \u001b[38;5;34m10\u001b[0m)             │         \u001b[38;5;34m1,010\u001b[0m │\n",
       "└─────────────────────────────────┴────────────────────────┴───────────────┘\n"
      ]
     },
     "metadata": {},
     "output_type": "display_data"
    },
    {
     "data": {
      "text/html": [
       "<pre style=\"white-space:pre;overflow-x:auto;line-height:normal;font-family:Menlo,'DejaVu Sans Mono',consolas,'Courier New',monospace\"><span style=\"font-weight: bold\"> Total params: </span><span style=\"color: #00af00; text-decoration-color: #00af00\">266,610</span> (1.02 MB)\n",
       "</pre>\n"
      ],
      "text/plain": [
       "\u001b[1m Total params: \u001b[0m\u001b[38;5;34m266,610\u001b[0m (1.02 MB)\n"
      ]
     },
     "metadata": {},
     "output_type": "display_data"
    },
    {
     "data": {
      "text/html": [
       "<pre style=\"white-space:pre;overflow-x:auto;line-height:normal;font-family:Menlo,'DejaVu Sans Mono',consolas,'Courier New',monospace\"><span style=\"font-weight: bold\"> Trainable params: </span><span style=\"color: #00af00; text-decoration-color: #00af00\">266,610</span> (1.02 MB)\n",
       "</pre>\n"
      ],
      "text/plain": [
       "\u001b[1m Trainable params: \u001b[0m\u001b[38;5;34m266,610\u001b[0m (1.02 MB)\n"
      ]
     },
     "metadata": {},
     "output_type": "display_data"
    },
    {
     "data": {
      "text/html": [
       "<pre style=\"white-space:pre;overflow-x:auto;line-height:normal;font-family:Menlo,'DejaVu Sans Mono',consolas,'Courier New',monospace\"><span style=\"font-weight: bold\"> Non-trainable params: </span><span style=\"color: #00af00; text-decoration-color: #00af00\">0</span> (0.00 B)\n",
       "</pre>\n"
      ],
      "text/plain": [
       "\u001b[1m Non-trainable params: \u001b[0m\u001b[38;5;34m0\u001b[0m (0.00 B)\n"
      ]
     },
     "metadata": {},
     "output_type": "display_data"
    }
   ],
   "source": [
    "# Sequential model object \n",
    "model = keras.models.Sequential([\n",
    "    keras.layers.Input(shape=(28,28)),   # Input layer; making the 2D array to a 1D format for input layer \n",
    "    keras.layers.Flatten(), \n",
    "    keras.layers.Dense(300, activation='relu'),  # Hidden layer 1; with 300 neurons and ReLU activation function  _| 0 for -ve values & |\n",
    "    keras.layers.Dense(100, activation='relu'),  # Hidden layer 2; with 100 neurons and ReLU activation function   | 1 for +ve values.  |\n",
    "    keras.layers.Dense(10, activation='softmax')  \n",
    "    # Output layer; with 10 neurons and softmax activation function for exclusive class classification\n",
    "])       \n",
    "\n",
    "##  OR --\n",
    "# model = keras.models.Sequential() \n",
    "# model.add(keras.layers.Flatten(input_shape=[28, 28]))     # Input layer; making the 2D array to a 1D format for input layer \n",
    "# model.add(keras.layers.Dense(300, activation='relu'))     # Hidden layer 1; with 300 neurons and ReLU activation function  _| 0 for -ve values & |\n",
    "# model.add(keras.layers.Dense(100, activation='relu'))     # Hidden layer 2; with 100 neurons and ReLU activation function   | 1 for +ve values.  |\n",
    "# model.add(keras.layers.Dense(10, activation='softmax'))   # Output layer; with 10 neurons and softmax activation function for exclusive class classification \n",
    "\n",
    "\n",
    "model.summary() "
   ]
  },
  {
   "cell_type": "code",
   "execution_count": 89,
   "id": "d75d3d56",
   "metadata": {},
   "outputs": [
    {
     "data": {
      "image/png": "[encoded data removed]",
      "text/plain": [
       "<IPython.core.display.Image object>"
      ]
     },
     "execution_count": 89,
     "metadata": {},
     "output_type": "execute_result"
    }
   ],
   "source": [
    "import pydot \n",
    "from IPython.display import Image  \n",
    "\n",
    "# keras.utils.plot_model(model, show_shapes=True, show_layer_names=True, to_file='model.png')  \n",
    "\n",
    "keras.utils.plot_model(model, show_shapes=True, to_file='model.png', dpi=130)   \n",
    "Image('model.png')  "
   ]
  },
  {
   "cell_type": "code",
   "execution_count": 90,
   "id": "fcb630ed",
   "metadata": {},
   "outputs": [],
   "source": [
    "weight_l1, bais_l1 = model.layers[1].get_weights()   # Weight and bias distribution at different dense layers \n",
    "weight_l2, bais_l2 = model.layers[2].get_weights()   # Weight and bias distribution at different dense layers \n",
    "weight_l3, bais_l3 = model.layers[3].get_weights()   # Weight and bias distribution at different dense layers "
   ]
  },
  {
   "cell_type": "code",
   "execution_count": 91,
   "id": "f476a6a5",
   "metadata": {},
   "outputs": [
    {
     "data": {
      "text/plain": [
       "array([[ 0.02103858,  0.0369535 , -0.05220834, ..., -0.01651658,\n",
       "         0.03658647, -0.0709465 ],\n",
       "       [ 0.06635751, -0.05115946, -0.07376538, ...,  0.01747102,\n",
       "        -0.06484953, -0.00463318],\n",
       "       [-0.02216648, -0.02287002, -0.0419079 , ..., -0.07415579,\n",
       "        -0.0645469 ,  0.07187432],\n",
       "       ...,\n",
       "       [-0.06191545, -0.00882327, -0.04614019, ..., -0.00579153,\n",
       "        -0.04146558,  0.06029338],\n",
       "       [-0.03933328, -0.02180894, -0.05891211, ...,  0.01763382,\n",
       "        -0.02363998, -0.0180996 ],\n",
       "       [-0.01585328, -0.00956058,  0.02914631, ...,  0.02070217,\n",
       "        -0.00055874,  0.01161481]], dtype=float32)"
      ]
     },
     "execution_count": 91,
     "metadata": {},
     "output_type": "execute_result"
    }
   ],
   "source": [
    "weight_l1 "
   ]
  },
  {
   "cell_type": "code",
   "execution_count": 92,
   "id": "971c03e2",
   "metadata": {},
   "outputs": [
    {
     "data": {
      "text/plain": [
       "array([0., 0., 0., 0., 0., 0., 0., 0., 0., 0., 0., 0., 0., 0., 0., 0., 0.,\n",
       "       0., 0., 0., 0., 0., 0., 0., 0., 0., 0., 0., 0., 0., 0., 0., 0., 0.,\n",
       "       0., 0., 0., 0., 0., 0., 0., 0., 0., 0., 0., 0., 0., 0., 0., 0., 0.,\n",
       "       0., 0., 0., 0., 0., 0., 0., 0., 0., 0., 0., 0., 0., 0., 0., 0., 0.,\n",
       "       0., 0., 0., 0., 0., 0., 0., 0., 0., 0., 0., 0., 0., 0., 0., 0., 0.,\n",
       "       0., 0., 0., 0., 0., 0., 0., 0., 0., 0., 0., 0., 0., 0., 0., 0., 0.,\n",
       "       0., 0., 0., 0., 0., 0., 0., 0., 0., 0., 0., 0., 0., 0., 0., 0., 0.,\n",
       "       0., 0., 0., 0., 0., 0., 0., 0., 0., 0., 0., 0., 0., 0., 0., 0., 0.,\n",
       "       0., 0., 0., 0., 0., 0., 0., 0., 0., 0., 0., 0., 0., 0., 0., 0., 0.,\n",
       "       0., 0., 0., 0., 0., 0., 0., 0., 0., 0., 0., 0., 0., 0., 0., 0., 0.,\n",
       "       0., 0., 0., 0., 0., 0., 0., 0., 0., 0., 0., 0., 0., 0., 0., 0., 0.,\n",
       "       0., 0., 0., 0., 0., 0., 0., 0., 0., 0., 0., 0., 0., 0., 0., 0., 0.,\n",
       "       0., 0., 0., 0., 0., 0., 0., 0., 0., 0., 0., 0., 0., 0., 0., 0., 0.,\n",
       "       0., 0., 0., 0., 0., 0., 0., 0., 0., 0., 0., 0., 0., 0., 0., 0., 0.,\n",
       "       0., 0., 0., 0., 0., 0., 0., 0., 0., 0., 0., 0., 0., 0., 0., 0., 0.,\n",
       "       0., 0., 0., 0., 0., 0., 0., 0., 0., 0., 0., 0., 0., 0., 0., 0., 0.,\n",
       "       0., 0., 0., 0., 0., 0., 0., 0., 0., 0., 0., 0., 0., 0., 0., 0., 0.,\n",
       "       0., 0., 0., 0., 0., 0., 0., 0., 0., 0., 0.], dtype=float32)"
      ]
     },
     "execution_count": 92,
     "metadata": {},
     "output_type": "execute_result"
    }
   ],
   "source": [
    "bais_l1 "
   ]
  },
  {
   "cell_type": "code",
   "execution_count": 93,
   "id": "2c788421",
   "metadata": {},
   "outputs": [
    {
     "name": "stdout",
     "output_type": "stream",
     "text": [
      "Weight shape : (784, 300)\n",
      "Bias shape : (300,)\n"
     ]
    }
   ],
   "source": [
    "print(f\"Weight shape : {weight_l1.shape}\\nBias shape : {bais_l1.shape}\") "
   ]
  },
  {
   "cell_type": "code",
   "execution_count": 94,
   "id": "b6e43b57",
   "metadata": {},
   "outputs": [
    {
     "data": {
      "text/plain": [
       "array([[-0.07203749,  0.04154836, -0.11331622, ..., -0.00882594,\n",
       "        -0.05728608,  0.11111008],\n",
       "       [-0.05512614, -0.0635826 , -0.09741318, ..., -0.02370796,\n",
       "        -0.07309477, -0.02897914],\n",
       "       [-0.04609317, -0.00797594, -0.08512986, ..., -0.04620145,\n",
       "         0.09158296,  0.05498692],\n",
       "       ...,\n",
       "       [-0.10886614, -0.06297339, -0.05052232, ...,  0.06590921,\n",
       "         0.06530272,  0.07095277],\n",
       "       [ 0.10442115, -0.09516839,  0.05270968, ...,  0.01419549,\n",
       "         0.01166854,  0.10873694],\n",
       "       [ 0.08717472,  0.05006594, -0.09262044, ...,  0.08860243,\n",
       "         0.02368904,  0.06199919]], dtype=float32)"
      ]
     },
     "execution_count": 94,
     "metadata": {},
     "output_type": "execute_result"
    }
   ],
   "source": [
    "weight_l2 "
   ]
  },
  {
   "cell_type": "code",
   "execution_count": 95,
   "id": "3ff2ce6c",
   "metadata": {},
   "outputs": [
    {
     "data": {
      "text/plain": [
       "array([0., 0., 0., 0., 0., 0., 0., 0., 0., 0., 0., 0., 0., 0., 0., 0., 0.,\n",
       "       0., 0., 0., 0., 0., 0., 0., 0., 0., 0., 0., 0., 0., 0., 0., 0., 0.,\n",
       "       0., 0., 0., 0., 0., 0., 0., 0., 0., 0., 0., 0., 0., 0., 0., 0., 0.,\n",
       "       0., 0., 0., 0., 0., 0., 0., 0., 0., 0., 0., 0., 0., 0., 0., 0., 0.,\n",
       "       0., 0., 0., 0., 0., 0., 0., 0., 0., 0., 0., 0., 0., 0., 0., 0., 0.,\n",
       "       0., 0., 0., 0., 0., 0., 0., 0., 0., 0., 0., 0., 0., 0., 0.],\n",
       "      dtype=float32)"
      ]
     },
     "execution_count": 95,
     "metadata": {},
     "output_type": "execute_result"
    }
   ],
   "source": [
    "bais_l2 "
   ]
  },
  {
   "cell_type": "code",
   "execution_count": 96,
   "id": "ea0bb42a",
   "metadata": {},
   "outputs": [
    {
     "name": "stdout",
     "output_type": "stream",
     "text": [
      "Weight shape : (300, 100)\n",
      "Bias shape : (100,)\n"
     ]
    }
   ],
   "source": [
    "print(f\"Weight shape : {weight_l2.shape}\\nBias shape : {bais_l2.shape}\") "
   ]
  },
  {
   "cell_type": "code",
   "execution_count": 97,
   "id": "4a269597",
   "metadata": {},
   "outputs": [
    {
     "data": {
      "text/plain": [
       "array([[-1.58378527e-01,  9.31097865e-02,  1.62653059e-01,\n",
       "         8.03090334e-02, -8.42349380e-02, -1.37610435e-01,\n",
       "        -9.31071788e-02, -3.55127901e-02, -2.02441216e-02,\n",
       "         1.05425715e-01],\n",
       "       [-1.55925602e-01,  5.90174198e-02, -1.16056204e-01,\n",
       "         1.73245609e-01, -1.79649502e-01,  1.35076374e-01,\n",
       "        -4.36441749e-02,  1.23351067e-01,  1.34379625e-01,\n",
       "        -3.08084488e-02],\n",
       "       [ 4.47447002e-02, -3.00046653e-02,  1.21066511e-01,\n",
       "        -2.58077681e-02,  7.09204078e-02, -2.02718064e-01,\n",
       "         4.53094840e-02,  1.81245297e-01, -1.82270870e-01,\n",
       "        -1.91676378e-01],\n",
       "       [ 1.98912054e-01, -1.59211814e-01, -2.26529330e-01,\n",
       "        -4.41999435e-02, -6.96950555e-02,  8.24081004e-02,\n",
       "        -1.65744722e-01, -1.41352683e-01,  3.87269557e-02,\n",
       "        -3.67807895e-02],\n",
       "       [-1.56893417e-01,  1.88612938e-03, -2.26728618e-01,\n",
       "        -4.22067940e-03,  1.47580385e-01,  2.15849578e-01,\n",
       "         2.30504274e-02,  8.87319744e-02,  1.06368095e-01,\n",
       "        -4.02734876e-02],\n",
       "       [-1.74986422e-02, -1.94151849e-02,  4.75862920e-02,\n",
       "         2.04701215e-01,  6.24305308e-02, -1.86665282e-01,\n",
       "        -1.92761362e-01,  1.76249534e-01,  1.59228802e-01,\n",
       "         2.23081797e-01],\n",
       "       [ 6.74755871e-02, -1.26672536e-01, -1.54389530e-01,\n",
       "         2.29527384e-01,  4.01245952e-02,  1.24604523e-01,\n",
       "        -1.81944296e-01,  8.54107440e-02,  1.90434605e-01,\n",
       "         1.83211446e-01],\n",
       "       [ 1.65177584e-01, -2.16935560e-01,  1.83191538e-01,\n",
       "         1.10851288e-01, -2.20381975e-01,  1.54748410e-01,\n",
       "        -1.22828096e-01, -6.79835677e-04, -1.84785932e-01,\n",
       "         1.34941190e-02],\n",
       "       [-1.61482722e-01,  5.42052090e-02,  6.88163936e-03,\n",
       "        -2.14239135e-01, -1.19220033e-01,  5.09647131e-02,\n",
       "        -3.39523405e-02,  1.59328043e-01,  8.36321712e-02,\n",
       "         1.68511271e-01],\n",
       "       [-8.24697465e-02,  2.66775787e-02,  2.03897417e-01,\n",
       "         2.17584312e-01,  2.16559082e-01, -1.61508173e-01,\n",
       "         1.50128871e-01, -1.04766339e-01,  7.83482790e-02,\n",
       "        -1.74450576e-01],\n",
       "       [ 2.21815079e-01, -3.80434096e-03,  7.43779540e-03,\n",
       "         1.89826101e-01,  1.78308845e-01,  7.82327056e-02,\n",
       "         1.68295473e-01, -1.63721830e-01, -6.62761927e-03,\n",
       "         4.45818007e-02],\n",
       "       [-5.71681410e-02,  9.76696908e-02,  1.46007866e-01,\n",
       "        -1.90787241e-01,  1.39323890e-01,  1.53695524e-01,\n",
       "        -9.46035385e-02,  6.75876737e-02,  2.07636803e-01,\n",
       "        -2.29739159e-01],\n",
       "       [-1.67655408e-01, -1.12206586e-01, -2.10739985e-01,\n",
       "         1.65307283e-01, -2.25758240e-01,  2.03382820e-01,\n",
       "         5.72043359e-02, -1.48267955e-01,  5.64543009e-02,\n",
       "         4.24041748e-02],\n",
       "       [-4.03507799e-02, -1.15294352e-01, -9.99550223e-02,\n",
       "        -2.20997885e-01, -6.32847548e-02, -1.52834713e-01,\n",
       "        -8.32467973e-02,  1.81729645e-01, -1.10345036e-02,\n",
       "        -5.05744815e-02],\n",
       "       [ 1.83446258e-01,  1.92255676e-02,  1.89909339e-01,\n",
       "        -8.92090797e-03, -2.21870378e-01, -1.87071204e-01,\n",
       "         5.39293587e-02,  4.97462749e-02, -2.10809812e-01,\n",
       "        -1.95138276e-01],\n",
       "       [ 2.12987512e-01, -1.30405873e-01, -1.90914646e-01,\n",
       "        -1.36767954e-01,  1.74206018e-01,  6.69262409e-02,\n",
       "         4.11146879e-02, -2.16378793e-01, -9.89033431e-02,\n",
       "        -6.75119013e-02],\n",
       "       [ 7.36135244e-03,  1.55067354e-01, -1.59543693e-01,\n",
       "        -4.97477055e-02,  2.31638610e-01, -2.21445799e-01,\n",
       "        -9.35153365e-02,  1.15642250e-01,  1.93865716e-01,\n",
       "        -1.74538895e-01],\n",
       "       [ 6.24388754e-02,  1.85515434e-01,  9.07033682e-02,\n",
       "         7.48715401e-02,  1.83248490e-01,  2.02325791e-01,\n",
       "         6.61693513e-02,  1.16883546e-01, -1.55695736e-01,\n",
       "         7.84774125e-03],\n",
       "       [-1.33780241e-01, -1.55927390e-02, -5.37206680e-02,\n",
       "         1.17351115e-02,  1.32406622e-01, -1.12483494e-01,\n",
       "        -2.05752432e-01,  9.90383923e-02,  4.11001444e-02,\n",
       "         4.18611765e-02],\n",
       "       [-3.25565487e-02, -7.19521493e-02, -5.92877567e-02,\n",
       "        -8.49440098e-02,  7.21638501e-02,  1.30639255e-01,\n",
       "        -2.17463210e-01, -3.26210856e-02, -2.03079119e-01,\n",
       "        -2.49298215e-02],\n",
       "       [-4.89822924e-02, -1.35706753e-01, -3.49803269e-03,\n",
       "         1.91250533e-01, -2.17171654e-01,  1.10931069e-01,\n",
       "        -1.09411545e-01,  1.67963684e-01, -9.83137339e-02,\n",
       "        -1.62143260e-02],\n",
       "       [-1.10953785e-01, -1.98818728e-01, -1.63227588e-01,\n",
       "        -5.95634431e-02,  1.37791634e-01, -6.72513694e-02,\n",
       "        -7.20058233e-02, -2.29860544e-02,  8.96476209e-02,\n",
       "         1.37294143e-01],\n",
       "       [-1.05332524e-01, -4.42842543e-02, -2.20305756e-01,\n",
       "         1.42695516e-01,  8.20763409e-02, -1.03955269e-01,\n",
       "        -9.20052826e-02,  1.25782281e-01, -6.97342008e-02,\n",
       "        -1.39361769e-01],\n",
       "       [-2.06667021e-01,  1.97193325e-02,  7.08392859e-02,\n",
       "         3.51962447e-02, -4.68288809e-02,  4.98406887e-02,\n",
       "        -1.19743444e-01,  5.77204525e-02,  6.94940984e-02,\n",
       "        -1.73980564e-01],\n",
       "       [-1.43889144e-01, -1.80782750e-01, -1.66386366e-04,\n",
       "         1.86491877e-01, -3.02510709e-02,  1.48425758e-01,\n",
       "        -1.40653878e-01,  1.67234331e-01, -1.98220372e-01,\n",
       "         1.63351834e-01],\n",
       "       [ 2.18891293e-01,  1.30000502e-01,  9.74233747e-02,\n",
       "        -1.67341262e-01,  1.30666703e-01,  1.82318538e-01,\n",
       "        -1.46283492e-01, -5.12424558e-02,  2.25669712e-01,\n",
       "         2.29499936e-01],\n",
       "       [-1.53646290e-01,  1.89951122e-01,  8.86534154e-03,\n",
       "         2.25819945e-01, -1.40626371e-01, -3.64553928e-03,\n",
       "         1.67047352e-01,  5.96364439e-02,  2.10227102e-01,\n",
       "        -4.96882349e-02],\n",
       "       [-2.17748746e-01,  4.42555845e-02,  4.21156883e-02,\n",
       "        -2.00678587e-01,  3.52136195e-02, -1.47618771e-01,\n",
       "        -2.33064070e-01,  1.82970583e-01, -1.46829739e-01,\n",
       "        -2.10374042e-01],\n",
       "       [-1.25714839e-01,  2.16727197e-01, -1.92184657e-01,\n",
       "         1.44009590e-01, -1.54524237e-01, -3.91453505e-05,\n",
       "        -4.73379344e-02,  1.49826258e-02, -3.79403383e-02,\n",
       "         1.13385916e-02],\n",
       "       [ 2.15110183e-01,  6.37513101e-02,  1.25699252e-01,\n",
       "        -1.66046619e-02,  4.34955060e-02, -2.19105572e-01,\n",
       "        -1.76482558e-01,  5.24537861e-02, -1.81187287e-01,\n",
       "        -2.16230333e-01],\n",
       "       [-7.61660933e-02, -2.19644070e-01,  3.07366848e-02,\n",
       "        -4.30261493e-02, -2.95609981e-02,  4.02627289e-02,\n",
       "        -1.22669339e-02,  1.40779436e-01, -4.61775661e-02,\n",
       "         1.03151143e-01],\n",
       "       [-1.79704785e-01, -2.58509219e-02,  2.05427140e-01,\n",
       "        -9.91093814e-02,  2.29063213e-01,  4.46376503e-02,\n",
       "         2.10702121e-01,  2.09814489e-01,  4.32428718e-02,\n",
       "        -1.40021831e-01],\n",
       "       [ 1.89712465e-01, -1.01362631e-01,  2.55871415e-02,\n",
       "         1.04018897e-01, -4.13369089e-02, -1.11972220e-01,\n",
       "        -1.52401626e-01, -6.81824386e-02, -1.14658795e-01,\n",
       "        -5.54119051e-03],\n",
       "       [-1.62889212e-01, -7.37700760e-02,  2.02888250e-01,\n",
       "        -1.85616329e-01,  1.40793800e-01,  3.47765088e-02,\n",
       "        -7.85512030e-02, -1.64501831e-01, -7.18725771e-02,\n",
       "         1.55524284e-01],\n",
       "       [-7.13817924e-02, -5.75325787e-02, -2.55672187e-02,\n",
       "         1.46752059e-01,  2.10932434e-01, -4.04191017e-02,\n",
       "        -1.38428852e-01, -1.83645621e-01, -1.04925483e-02,\n",
       "        -1.29490674e-01],\n",
       "       [ 1.02457970e-01, -2.06088036e-01, -1.19013563e-01,\n",
       "        -1.88086927e-02, -2.06660733e-01, -6.09092265e-02,\n",
       "         9.29447711e-02,  6.81261420e-02,  3.81419063e-02,\n",
       "         1.38397723e-01],\n",
       "       [-1.08403966e-01, -1.14135653e-01,  6.26034141e-02,\n",
       "        -1.54112726e-02, -1.14836976e-01,  1.60186380e-01,\n",
       "        -6.56445920e-02,  5.33943176e-02,  1.08646303e-01,\n",
       "         1.25682205e-01],\n",
       "       [-6.64663464e-02, -9.24113244e-02,  1.68909669e-01,\n",
       "        -2.31578246e-01, -1.76563457e-01,  1.18516088e-01,\n",
       "         6.96533322e-02, -3.96205038e-02, -9.34645534e-02,\n",
       "        -3.77206653e-02],\n",
       "       [-2.88215280e-02,  1.10545695e-01,  1.28114998e-01,\n",
       "         1.71821594e-01, -1.84566319e-01,  9.31248367e-02,\n",
       "         1.39847934e-01, -1.91453815e-01, -1.99445099e-01,\n",
       "        -1.13479599e-01],\n",
       "       [-4.78965491e-02,  8.03564787e-02,  2.07703441e-01,\n",
       "         2.20262408e-02,  7.79969394e-02,  2.83668935e-03,\n",
       "         1.30431950e-01,  2.32444823e-01, -2.02027991e-01,\n",
       "         1.85437083e-01],\n",
       "       [ 1.85072422e-03, -5.76904416e-03,  1.03669226e-01,\n",
       "        -2.17693120e-01, -4.09567058e-02,  1.25467569e-01,\n",
       "        -7.19960779e-02, -1.36187181e-01, -2.20947102e-01,\n",
       "        -5.12373298e-02],\n",
       "       [ 3.92131805e-02,  1.53978646e-01,  6.64812624e-02,\n",
       "        -1.89043939e-01,  1.81650072e-01,  4.32771742e-02,\n",
       "        -1.42447084e-01,  1.71085298e-01,  1.89754277e-01,\n",
       "        -2.13278547e-01],\n",
       "       [ 2.32200921e-02,  5.73253334e-02,  1.09902948e-01,\n",
       "        -1.89164147e-01, -1.07925490e-01, -5.79795390e-02,\n",
       "        -1.83503032e-02, -1.73244625e-02,  9.68310535e-02,\n",
       "         1.67578340e-01],\n",
       "       [-6.97570294e-02, -1.34206608e-01, -2.68623233e-03,\n",
       "         5.29855490e-02,  1.72422230e-02,  1.22009844e-01,\n",
       "        -9.05264020e-02,  1.30563647e-01,  3.83647978e-02,\n",
       "         4.64362204e-02],\n",
       "       [ 4.58330512e-02,  1.38506532e-01,  1.64654583e-01,\n",
       "        -1.24147162e-01, -2.01688111e-01,  1.71370059e-01,\n",
       "         1.80309117e-02, -1.54841006e-01,  8.20565820e-02,\n",
       "        -7.44857639e-02],\n",
       "       [-1.16746552e-01, -2.19933793e-01,  2.18983501e-01,\n",
       "         5.00991940e-02,  1.67360008e-01,  5.87057173e-02,\n",
       "         2.89605260e-02,  9.75309908e-02,  2.19602913e-01,\n",
       "        -1.05799466e-01],\n",
       "       [ 1.81874245e-01, -2.06355363e-01,  6.36735260e-02,\n",
       "         6.09551668e-02,  1.58408105e-01, -2.01900095e-01,\n",
       "        -2.31243700e-01,  3.49246860e-02,  1.36773139e-02,\n",
       "         8.41717422e-02],\n",
       "       [-2.13187292e-01, -9.97136384e-02, -1.94905475e-01,\n",
       "         2.22706884e-01, -8.14742595e-02,  7.41099119e-02,\n",
       "        -1.40825152e-01, -1.78379148e-01,  3.19196582e-02,\n",
       "         1.04274392e-01],\n",
       "       [ 7.92330503e-03, -9.04821903e-02,  7.23895729e-02,\n",
       "         2.21483409e-03,  4.80517447e-02,  1.32316798e-01,\n",
       "        -1.87232465e-01,  9.49830711e-02, -7.37744570e-03,\n",
       "        -1.32657737e-01],\n",
       "       [-7.79333413e-02, -5.03510237e-03,  5.67537546e-02,\n",
       "         1.78060979e-01, -1.96053207e-01, -4.36621010e-02,\n",
       "        -4.91241217e-02, -7.48054236e-02, -9.09101963e-03,\n",
       "         2.03554541e-01],\n",
       "       [ 4.33968306e-02,  1.11650139e-01,  4.28743660e-02,\n",
       "        -1.43363446e-01, -7.56444037e-02,  6.35471940e-03,\n",
       "        -1.21165529e-01, -1.88042030e-01, -1.61237866e-02,\n",
       "         1.54870242e-01],\n",
       "       [ 1.45534962e-01, -1.33754611e-02, -1.04949474e-02,\n",
       "         1.64681673e-03, -7.64037669e-03, -3.96144241e-02,\n",
       "         1.70381129e-01, -1.43176019e-02,  3.14065814e-03,\n",
       "        -1.93404824e-01],\n",
       "       [-2.32286915e-01, -3.26975435e-02, -5.81766665e-02,\n",
       "        -1.26142770e-01, -6.55171871e-02,  9.75236297e-03,\n",
       "        -1.46166772e-01, -1.46459728e-01,  5.84595799e-02,\n",
       "        -1.47936702e-01],\n",
       "       [-1.58219337e-01,  1.04145646e-01, -1.43451244e-01,\n",
       "         1.30653292e-01, -2.11736470e-01,  2.14550495e-01,\n",
       "        -2.19768524e-01, -2.28834480e-01, -9.57255512e-02,\n",
       "        -1.10212564e-02],\n",
       "       [ 1.02010787e-01, -2.23262548e-01, -4.60492671e-02,\n",
       "        -9.14024115e-02, -1.38683319e-01,  9.52718854e-02,\n",
       "         1.31311268e-02,  1.60471350e-01, -1.04680523e-01,\n",
       "         1.72662735e-02],\n",
       "       [-4.40779477e-02,  2.21539050e-01,  2.99498737e-02,\n",
       "        -9.45994705e-02, -1.76580384e-01,  8.01848173e-02,\n",
       "        -2.07808018e-02,  1.82013839e-01, -1.63325250e-01,\n",
       "        -1.21473119e-01],\n",
       "       [-1.62476093e-01, -4.33983356e-02, -1.76452488e-01,\n",
       "         1.88150406e-02,  1.93315059e-01,  1.88774884e-01,\n",
       "         4.72192764e-02,  1.31743938e-01, -2.30506524e-01,\n",
       "        -5.73361367e-02],\n",
       "       [ 1.49152815e-01, -8.64595175e-02, -1.29705116e-01,\n",
       "         3.58646512e-02,  2.11243808e-01, -2.03846589e-01,\n",
       "        -4.37870622e-02,  1.00394040e-02, -1.55611545e-01,\n",
       "         1.61455452e-01],\n",
       "       [-1.68757990e-01, -1.05006501e-01, -1.72928616e-01,\n",
       "        -1.76897272e-01, -1.44393742e-01,  1.57725364e-01,\n",
       "         6.60085976e-02, -2.26342529e-02,  2.47865915e-02,\n",
       "         2.06104964e-01],\n",
       "       [ 1.18976980e-01, -2.83102989e-02,  1.12465620e-01,\n",
       "         1.83426559e-01, -2.28712589e-01,  1.13443851e-01,\n",
       "         1.30196244e-01,  1.15924507e-01, -2.72060633e-02,\n",
       "        -1.97307065e-01],\n",
       "       [ 1.70052499e-01, -1.68832600e-01,  2.02351898e-01,\n",
       "         7.34531879e-03, -1.68348670e-01,  3.83899808e-02,\n",
       "        -1.77840814e-01,  1.09121442e-01, -6.26808256e-02,\n",
       "         6.73893094e-03],\n",
       "       [-1.66342258e-01,  2.33210355e-01, -2.96903402e-02,\n",
       "        -4.79418188e-02,  1.29529387e-02, -8.77325833e-02,\n",
       "         1.03545934e-01, -1.45192280e-01, -3.22836637e-03,\n",
       "        -2.27908701e-01],\n",
       "       [-5.44471592e-02, -1.14054747e-01, -2.38910615e-02,\n",
       "         6.63001835e-02, -1.46427825e-01,  1.33524537e-02,\n",
       "        -6.54825568e-02, -9.81109291e-02, -2.80050039e-02,\n",
       "        -1.57187149e-01],\n",
       "       [-2.14290634e-01, -1.77780181e-01, -3.22839767e-02,\n",
       "        -1.07503578e-01,  1.58861756e-01,  1.13507807e-02,\n",
       "        -9.41057950e-02,  2.14637220e-01,  3.02500725e-02,\n",
       "         3.86244059e-02],\n",
       "       [ 2.30494767e-01,  1.56880766e-01,  9.84339416e-03,\n",
       "        -2.96534300e-02, -1.47295356e-01,  1.67418092e-01,\n",
       "        -3.14169973e-02, -4.14826870e-02, -1.43048167e-01,\n",
       "         9.14759040e-02],\n",
       "       [ 8.24145079e-02, -1.49993405e-01,  1.64250970e-01,\n",
       "        -1.31219238e-01,  9.80470181e-02, -1.58843979e-01,\n",
       "         8.14486444e-02,  8.23243558e-02, -2.22410992e-01,\n",
       "         1.57148838e-01],\n",
       "       [-1.77102417e-01,  2.12712497e-01,  2.22670138e-02,\n",
       "         1.04724288e-01, -8.91345143e-02, -1.15939043e-01,\n",
       "        -1.19543493e-01, -1.96129546e-01,  8.51755440e-02,\n",
       "        -1.19951367e-02],\n",
       "       [ 1.00313395e-01,  2.24845052e-01,  1.83690101e-01,\n",
       "         1.03426725e-01,  7.56476223e-02, -9.27857757e-02,\n",
       "         1.43727213e-01, -7.81372041e-02, -1.97985217e-01,\n",
       "         6.68966174e-02],\n",
       "       [-1.21255286e-01, -8.85644257e-02, -1.58974558e-01,\n",
       "        -1.60360336e-01,  2.20115602e-01, -1.31661132e-01,\n",
       "        -1.04249880e-01,  7.59164989e-03,  7.62282312e-02,\n",
       "         2.06021339e-01],\n",
       "       [ 1.78768992e-01,  1.54373437e-01,  2.22559124e-01,\n",
       "        -5.42456955e-02,  1.12550646e-01,  6.73895180e-02,\n",
       "        -1.31652623e-01,  2.02025175e-02,  1.62327200e-01,\n",
       "        -8.08809549e-02],\n",
       "       [ 1.93923950e-01,  1.93676710e-01, -1.19506910e-01,\n",
       "         1.38458014e-02, -1.15955025e-01,  1.74044371e-01,\n",
       "         3.99720073e-02, -1.78782582e-01,  2.13414460e-01,\n",
       "        -1.08336091e-01],\n",
       "       [ 6.04917109e-02,  1.01356626e-01, -1.33679241e-01,\n",
       "        -1.25989363e-01,  2.03373551e-01,  6.27345145e-02,\n",
       "         9.46945250e-02,  2.06362158e-01,  1.00482732e-01,\n",
       "         1.10216320e-01],\n",
       "       [-1.71619356e-01,  1.76884800e-01,  8.18232596e-02,\n",
       "        -1.68973312e-01,  2.06577986e-01, -3.41822505e-02,\n",
       "        -1.61681741e-01, -3.19722146e-02, -1.90670490e-02,\n",
       "         2.31036216e-01],\n",
       "       [-6.31584674e-02, -1.29878461e-01,  5.80555499e-02,\n",
       "         1.90596253e-01,  1.01794720e-01, -1.81241795e-01,\n",
       "         9.41024423e-02,  1.63716197e-01, -1.38537109e-01,\n",
       "        -1.01683304e-01],\n",
       "       [ 5.47555089e-03, -2.77836025e-02,  8.58350396e-02,\n",
       "         1.45756692e-01,  1.16105586e-01,  9.79672074e-02,\n",
       "         3.92527282e-02,  1.57697797e-01, -2.85819173e-04,\n",
       "        -7.22849518e-02],\n",
       "       [ 1.59729272e-01, -6.19166344e-02, -4.49752063e-02,\n",
       "         1.00101978e-01,  2.12374479e-01, -8.35617334e-02,\n",
       "         1.25856221e-01,  1.86380923e-01,  2.00027943e-01,\n",
       "        -5.60097694e-02],\n",
       "       [-2.14270264e-01, -1.75087601e-01,  4.96461987e-04,\n",
       "         1.33096576e-01, -1.38250440e-02,  2.21759349e-01,\n",
       "         5.32331169e-02, -1.61976740e-01,  1.92257434e-01,\n",
       "         1.38683707e-01],\n",
       "       [ 1.99463695e-01, -1.70465216e-01,  7.01405108e-03,\n",
       "        -3.76157016e-02,  1.26992196e-01, -2.26584345e-01,\n",
       "         5.45349717e-02,  3.75420749e-02, -3.86013985e-02,\n",
       "        -2.02800319e-01],\n",
       "       [-1.78329259e-01, -1.94024518e-01, -9.41860378e-02,\n",
       "         1.70677304e-01,  1.84647471e-01,  2.31742293e-01,\n",
       "        -6.55429065e-03,  3.99099290e-02, -4.61177081e-02,\n",
       "         9.06334221e-02],\n",
       "       [ 1.01880729e-02,  1.63117498e-01, -1.92690969e-01,\n",
       "        -5.08716702e-03,  1.65010333e-01, -9.02853906e-03,\n",
       "         1.00882709e-01, -1.60598308e-01,  1.00691974e-01,\n",
       "         8.09612572e-02],\n",
       "       [-1.95260942e-01, -1.57799765e-01, -2.56980062e-02,\n",
       "        -2.00085908e-01,  2.31730372e-01,  6.26983047e-02,\n",
       "         3.63907516e-02, -2.28484690e-01,  1.68959290e-01,\n",
       "         1.39326960e-01],\n",
       "       [-4.44196165e-02,  4.30977643e-02, -2.24450037e-01,\n",
       "        -6.26552701e-02,  7.50978887e-02,  2.83296704e-02,\n",
       "         1.36388868e-01,  6.44697845e-02,  4.28193510e-02,\n",
       "        -9.84296203e-04],\n",
       "       [ 1.90239608e-01,  1.64553046e-01,  2.09935635e-01,\n",
       "         4.99489903e-03,  1.57912135e-01, -7.00065941e-02,\n",
       "         1.44797206e-01, -5.00036776e-02, -1.80132776e-01,\n",
       "        -7.52656460e-02],\n",
       "       [ 5.58492839e-02,  5.32414019e-02,  1.31023079e-01,\n",
       "         3.01784575e-02, -1.35562748e-01,  1.86312199e-02,\n",
       "        -3.55535001e-02, -2.14243025e-01, -2.28757083e-01,\n",
       "        -2.26789981e-01],\n",
       "       [ 8.79356563e-02, -1.14391446e-02, -2.02902153e-01,\n",
       "         3.33966911e-02,  1.58229291e-01, -9.59466398e-03,\n",
       "         1.24116927e-01, -6.27611279e-02,  6.12725616e-02,\n",
       "        -4.73046303e-03],\n",
       "       [-1.48710430e-01, -6.13010079e-02, -7.16832578e-02,\n",
       "         9.74081755e-02, -1.42790228e-02, -1.46482229e-01,\n",
       "        -1.87636882e-01, -1.89394176e-01,  1.89248830e-01,\n",
       "        -7.49284327e-02],\n",
       "       [ 1.49179608e-01, -7.43282288e-02,  1.23100281e-02,\n",
       "         1.01375490e-01, -1.00228935e-01, -1.33453503e-01,\n",
       "        -1.92223579e-01, -3.34219187e-02, -1.50816232e-01,\n",
       "         1.21468037e-01],\n",
       "       [ 1.45701319e-01, -1.68052986e-01,  1.79799050e-01,\n",
       "         2.64432728e-02,  1.14354193e-02,  1.30832851e-01,\n",
       "        -1.46334276e-01,  1.66651636e-01, -8.34620148e-02,\n",
       "         5.52947521e-02],\n",
       "       [-5.04840612e-02,  3.33643854e-02, -6.28104806e-03,\n",
       "         3.40288579e-02, -1.14695601e-01, -2.22365394e-01,\n",
       "         2.01988131e-01,  2.47822702e-02,  5.00915051e-02,\n",
       "        -5.34224510e-03],\n",
       "       [ 1.73177749e-01,  1.04146868e-01,  1.17929876e-01,\n",
       "        -1.43829450e-01,  5.67970276e-02, -1.64286733e-01,\n",
       "        -2.31521502e-01,  7.99586177e-02, -1.92254201e-01,\n",
       "        -2.29881868e-01],\n",
       "       [ 1.27179861e-01,  1.27698869e-01,  8.17210972e-02,\n",
       "         1.89932674e-01, -1.86995089e-01,  1.41325414e-01,\n",
       "        -3.60762477e-02,  1.56394839e-01, -2.17558980e-01,\n",
       "         2.11929530e-01],\n",
       "       [ 1.28039718e-01, -1.91350311e-01, -2.09713429e-02,\n",
       "        -5.02523780e-03, -1.26927614e-01,  1.77392572e-01,\n",
       "        -1.35013670e-01,  7.23869801e-02,  2.55311430e-02,\n",
       "         1.01487309e-01],\n",
       "       [ 2.10661739e-01,  1.35769963e-01,  1.74569011e-01,\n",
       "         2.25665629e-01,  9.27081704e-03, -7.20204413e-03,\n",
       "        -2.44711637e-02, -6.33411109e-03, -5.47777414e-02,\n",
       "         2.32802033e-01],\n",
       "       [ 1.48515701e-01,  1.52722567e-01, -1.64479062e-01,\n",
       "         3.94608080e-02,  1.74974501e-01, -2.06577212e-01,\n",
       "        -9.30261612e-02, -1.78689986e-01, -1.68905318e-01,\n",
       "        -2.27717936e-01],\n",
       "       [ 3.03719640e-02, -1.02552459e-01, -5.15732020e-02,\n",
       "        -4.79437113e-02, -1.59780174e-01,  6.32464886e-03,\n",
       "         9.47861373e-02, -2.25613356e-01, -1.06183678e-01,\n",
       "        -1.11281253e-01],\n",
       "       [-2.76678950e-02,  2.16035187e-01, -9.99964476e-02,\n",
       "        -6.08889014e-02, -1.39012292e-01, -2.21751437e-01,\n",
       "         1.97579056e-01, -2.03369558e-02,  2.09421754e-01,\n",
       "        -2.03621745e-01],\n",
       "       [ 8.12351108e-02,  9.45109427e-02, -1.11646421e-01,\n",
       "        -1.11747041e-01,  8.32599401e-02, -1.14639848e-02,\n",
       "        -1.80768162e-01, -5.46886027e-03,  1.36461258e-01,\n",
       "        -1.03222087e-01],\n",
       "       [-2.03259364e-01, -1.72475860e-01,  1.55884326e-01,\n",
       "        -1.74070492e-01,  1.15090668e-01, -8.49107653e-02,\n",
       "        -5.99021018e-02,  1.57042593e-01,  1.64094508e-01,\n",
       "        -2.24787861e-01],\n",
       "       [-1.15697220e-01,  1.22156620e-01,  8.99461508e-02,\n",
       "        -8.56164247e-02,  2.05585063e-01,  1.95700347e-01,\n",
       "        -1.75472409e-01, -1.02295980e-01,  6.06667995e-02,\n",
       "        -2.39631683e-02],\n",
       "       [-1.87460706e-01,  1.07888281e-01, -6.65002614e-02,\n",
       "        -1.51447713e-01, -1.70190752e-01, -1.11565232e-01,\n",
       "         1.79429561e-01,  1.00418031e-01, -1.01130381e-01,\n",
       "         2.30879039e-01]], dtype=float32)"
      ]
     },
     "execution_count": 97,
     "metadata": {},
     "output_type": "execute_result"
    }
   ],
   "source": [
    "weight_l3 "
   ]
  },
  {
   "cell_type": "code",
   "execution_count": 98,
   "id": "2972ac93",
   "metadata": {},
   "outputs": [
    {
     "data": {
      "text/plain": [
       "array([0., 0., 0., 0., 0., 0., 0., 0., 0., 0.], dtype=float32)"
      ]
     },
     "execution_count": 98,
     "metadata": {},
     "output_type": "execute_result"
    }
   ],
   "source": [
    "bais_l3 "
   ]
  },
  {
   "cell_type": "code",
   "execution_count": 99,
   "id": "b1fa900a",
   "metadata": {},
   "outputs": [
    {
     "name": "stdout",
     "output_type": "stream",
     "text": [
      "Weight shape : (100, 10)\n",
      "Bias shape : (10,)\n"
     ]
    }
   ],
   "source": [
    "print(f\"Weight shape : {weight_l3.shape}\\nBias shape : {bais_l3.shape}\") "
   ]
  },
  {
   "cell_type": "markdown",
   "id": "0633ac10",
   "metadata": {},
   "source": [
    "# Model compilation and showcase -  "
   ]
  },
  {
   "cell_type": "code",
   "execution_count": 100,
   "id": "26d63603",
   "metadata": {},
   "outputs": [],
   "source": [
    "model.compile(loss='sparse_categorical_crossentropy', optimizer='sgd', metrics=['accuracy'])    # sgd: Stoichastic Gradient Descent "
   ]
  },
  {
   "cell_type": "code",
   "execution_count": 101,
   "id": "77cb5017",
   "metadata": {},
   "outputs": [
    {
     "name": "stdout",
     "output_type": "stream",
     "text": [
      "Epoch 1/10\n",
      "\u001b[1m1719/1719\u001b[0m \u001b[32m━━━━━━━━━━━━━━━━━━━━\u001b[0m\u001b[37m\u001b[0m \u001b[1m3s\u001b[0m 2ms/step - accuracy: 0.6819 - loss: 0.9994 - val_accuracy: 0.8110 - val_loss: 0.5324\n",
      "Epoch 2/10\n",
      "\u001b[1m1719/1719\u001b[0m \u001b[32m━━━━━━━━━━━━━━━━━━━━\u001b[0m\u001b[37m\u001b[0m \u001b[1m3s\u001b[0m 2ms/step - accuracy: 0.8211 - loss: 0.5088 - val_accuracy: 0.8432 - val_loss: 0.4603\n",
      "Epoch 3/10\n",
      "\u001b[1m1719/1719\u001b[0m \u001b[32m━━━━━━━━━━━━━━━━━━━━\u001b[0m\u001b[37m\u001b[0m \u001b[1m2s\u001b[0m 1ms/step - accuracy: 0.8407 - loss: 0.4511 - val_accuracy: 0.8520 - val_loss: 0.4241\n",
      "Epoch 4/10\n",
      "\u001b[1m1719/1719\u001b[0m \u001b[32m━━━━━━━━━━━━━━━━━━━━\u001b[0m\u001b[37m\u001b[0m \u001b[1m3s\u001b[0m 1ms/step - accuracy: 0.8520 - loss: 0.4196 - val_accuracy: 0.8594 - val_loss: 0.3997\n",
      "Epoch 5/10\n",
      "\u001b[1m1719/1719\u001b[0m \u001b[32m━━━━━━━━━━━━━━━━━━━━\u001b[0m\u001b[37m\u001b[0m \u001b[1m3s\u001b[0m 1ms/step - accuracy: 0.8606 - loss: 0.3973 - val_accuracy: 0.8620 - val_loss: 0.3835\n",
      "Epoch 6/10\n",
      "\u001b[1m1719/1719\u001b[0m \u001b[32m━━━━━━━━━━━━━━━━━━━━\u001b[0m\u001b[37m\u001b[0m \u001b[1m2s\u001b[0m 1ms/step - accuracy: 0.8658 - loss: 0.3798 - val_accuracy: 0.8674 - val_loss: 0.3717\n",
      "Epoch 7/10\n",
      "\u001b[1m1719/1719\u001b[0m \u001b[32m━━━━━━━━━━━━━━━━━━━━\u001b[0m\u001b[37m\u001b[0m \u001b[1m3s\u001b[0m 1ms/step - accuracy: 0.8698 - loss: 0.3655 - val_accuracy: 0.8704 - val_loss: 0.3617\n",
      "Epoch 8/10\n",
      "\u001b[1m1719/1719\u001b[0m \u001b[32m━━━━━━━━━━━━━━━━━━━━\u001b[0m\u001b[37m\u001b[0m \u001b[1m2s\u001b[0m 1ms/step - accuracy: 0.8742 - loss: 0.3530 - val_accuracy: 0.8728 - val_loss: 0.3549\n",
      "Epoch 9/10\n",
      "\u001b[1m1719/1719\u001b[0m \u001b[32m━━━━━━━━━━━━━━━━━━━━\u001b[0m\u001b[37m\u001b[0m \u001b[1m3s\u001b[0m 2ms/step - accuracy: 0.8768 - loss: 0.3422 - val_accuracy: 0.8740 - val_loss: 0.3497\n",
      "Epoch 10/10\n",
      "\u001b[1m1719/1719\u001b[0m \u001b[32m━━━━━━━━━━━━━━━━━━━━\u001b[0m\u001b[37m\u001b[0m \u001b[1m2s\u001b[0m 1ms/step - accuracy: 0.8797 - loss: 0.3327 - val_accuracy: 0.8764 - val_loss: 0.3438\n",
      "Model parameters : {'verbose': 'auto', 'epochs': 10, 'steps': 1719}\n",
      "Model history : {'accuracy': [0.7580909132957458, 0.8271272778511047, 0.8433272838592529, 0.8537999987602234, 0.8615818023681641, 0.866527259349823, 0.8710181713104248, 0.874854564666748, 0.8781636357307434, 0.8811454772949219], 'loss': [0.7292795181274414, 0.49346235394477844, 0.4451064169406891, 0.4163687825202942, 0.39517712593078613, 0.3783988654613495, 0.36426740884780884, 0.35205015540122986, 0.3415014147758484, 0.33201128244400024], 'val_accuracy': [0.8109999895095825, 0.8432000279426575, 0.8519999980926514, 0.8593999743461609, 0.8619999885559082, 0.8673999905586243, 0.8704000115394592, 0.8727999925613403, 0.8740000128746033, 0.8763999938964844], 'val_loss': [0.5323602557182312, 0.46033334732055664, 0.4240809977054596, 0.3996761739253998, 0.38345205783843994, 0.3717430531978607, 0.36173364520072937, 0.354861319065094, 0.3497137129306793, 0.3437790274620056]}\n"
     ]
    }
   ],
   "source": [
    "model_history = model.fit(X_train, y_train, epochs=10, validation_data=(X_valid, y_valid)) \n",
    "print(f\"Model parameters : {model_history.params}\") \n",
    "print(f\"Model history : {model_history.history}\") "
   ]
  },
  {
   "cell_type": "code",
   "execution_count": 102,
   "id": "36f48d6c",
   "metadata": {},
   "outputs": [
    {
     "data": {
      "image/png": "[encoded data removed]",
      "text/plain": [
       "<Figure size 800x500 with 1 Axes>"
      ]
     },
     "metadata": {},
     "output_type": "display_data"
    }
   ],
   "source": [
    "pd.DataFrame(model_history.history).plot(figsize=(8,5)) \n",
    "plt.grid(True) \n",
    "plt.gca().set_ylim(0, 1) \n",
    "plt.show() "
   ]
  },
  {
   "cell_type": "markdown",
   "id": "131f6466",
   "metadata": {},
   "source": [
    "# Model performance -  "
   ]
  },
  {
   "cell_type": "code",
   "execution_count": 103,
   "id": "f8733393",
   "metadata": {},
   "outputs": [
    {
     "name": "stdout",
     "output_type": "stream",
     "text": [
      "\u001b[1m313/313\u001b[0m \u001b[32m━━━━━━━━━━━━━━━━━━━━\u001b[0m\u001b[37m\u001b[0m \u001b[1m0s\u001b[0m 1ms/step - accuracy: 0.8639 - loss: 0.3812  \n"
     ]
    },
    {
     "data": {
      "text/plain": [
       "[0.3859192728996277, 0.861299991607666]"
      ]
     },
     "execution_count": 103,
     "metadata": {},
     "output_type": "execute_result"
    }
   ],
   "source": [
    "model.evaluate(X_test, y_test)    # (independent_test_set, dependent_test_set) "
   ]
  },
  {
   "cell_type": "code",
   "execution_count": 104,
   "id": "6e802831",
   "metadata": {},
   "outputs": [
    {
     "data": {
      "text/plain": [
       "array([[[0., 0., 0., ..., 0., 0., 0.],\n",
       "        [0., 0., 0., ..., 0., 0., 0.],\n",
       "        [0., 0., 0., ..., 0., 0., 0.],\n",
       "        ...,\n",
       "        [0., 0., 0., ..., 0., 0., 0.],\n",
       "        [0., 0., 0., ..., 0., 0., 0.],\n",
       "        [0., 0., 0., ..., 0., 0., 0.]],\n",
       "\n",
       "       [[0., 0., 0., ..., 0., 0., 0.],\n",
       "        [0., 0., 0., ..., 0., 0., 0.],\n",
       "        [0., 0., 0., ..., 0., 0., 0.],\n",
       "        ...,\n",
       "        [0., 0., 0., ..., 0., 0., 0.],\n",
       "        [0., 0., 0., ..., 0., 0., 0.],\n",
       "        [0., 0., 0., ..., 0., 0., 0.]],\n",
       "\n",
       "       [[0., 0., 0., ..., 0., 0., 0.],\n",
       "        [0., 0., 0., ..., 0., 0., 0.],\n",
       "        [0., 0., 0., ..., 0., 0., 0.],\n",
       "        ...,\n",
       "        [0., 0., 0., ..., 0., 0., 0.],\n",
       "        [0., 0., 0., ..., 0., 0., 0.],\n",
       "        [0., 0., 0., ..., 0., 0., 0.]]])"
      ]
     },
     "execution_count": 104,
     "metadata": {},
     "output_type": "execute_result"
    }
   ],
   "source": [
    "X_new = X_test[:3] \n",
    "X_new "
   ]
  },
  {
   "cell_type": "code",
   "execution_count": 105,
   "id": "ffd258d6",
   "metadata": {},
   "outputs": [
    {
     "name": "stdout",
     "output_type": "stream",
     "text": [
      "\u001b[1m1/1\u001b[0m \u001b[32m━━━━━━━━━━━━━━━━━━━━\u001b[0m\u001b[37m\u001b[0m \u001b[1m0s\u001b[0m 43ms/step\n"
     ]
    },
    {
     "data": {
      "text/plain": [
       "array([[0.   , 0.   , 0.   , 0.   , 0.   , 0.059, 0.   , 0.126, 0.004,\n",
       "        0.81 ],\n",
       "       [0.   , 0.   , 0.987, 0.   , 0.011, 0.   , 0.002, 0.   , 0.   ,\n",
       "        0.   ],\n",
       "       [0.   , 1.   , 0.   , 0.   , 0.   , 0.   , 0.   , 0.   , 0.   ,\n",
       "        0.   ]], dtype=float32)"
      ]
     },
     "execution_count": 105,
     "metadata": {},
     "output_type": "execute_result"
    }
   ],
   "source": [
    "y_prob = model.predict(X_new)     # Probability of each class at each record \n",
    "y_prob.round(3) "
   ]
  },
  {
   "cell_type": "code",
   "execution_count": 106,
   "id": "e4beab2d",
   "metadata": {},
   "outputs": [
    {
     "name": "stdout",
     "output_type": "stream",
     "text": [
      "\u001b[1m1/1\u001b[0m \u001b[32m━━━━━━━━━━━━━━━━━━━━\u001b[0m\u001b[37m\u001b[0m \u001b[1m0s\u001b[0m 26ms/step\n"
     ]
    },
    {
     "data": {
      "text/plain": [
       "array([9, 2, 1])"
      ]
     },
     "execution_count": 106,
     "metadata": {},
     "output_type": "execute_result"
    }
   ],
   "source": [
    "y_pred = np.argmax(model.predict(X_new), axis=-1)      # Prediction of classes \n",
    "y_pred "
   ]
  },
  {
   "cell_type": "code",
   "execution_count": 107,
   "id": "1101c5b8",
   "metadata": {},
   "outputs": [
    {
     "data": {
      "text/plain": [
       "array(['Ankle boot', 'Pullover', 'Trouser'], dtype='<U11')"
      ]
     },
     "execution_count": 107,
     "metadata": {},
     "output_type": "execute_result"
    }
   ],
   "source": [
    "np.array(class_names)[y_pred]     # Description of predicted classes "
   ]
  },
  {
   "cell_type": "code",
   "execution_count": 108,
   "id": "88eff95a",
   "metadata": {},
   "outputs": [
    {
     "name": "stdout",
     "output_type": "stream",
     "text": [
      "AxesImage(shape=(28, 28))\n"
     ]
    },
    {
     "data": {
      "image/png": "[encoded data removed]",
      "text/plain": [
       "<Figure size 640x480 with 1 Axes>"
      ]
     },
     "metadata": {},
     "output_type": "display_data"
    }
   ],
   "source": [
    "print(plt.imshow(X_new[0]))      # print(plt.imshow(X_test[0])) "
   ]
  },
  {
   "cell_type": "code",
   "execution_count": 109,
   "id": "f51beba0",
   "metadata": {},
   "outputs": [
    {
     "name": "stdout",
     "output_type": "stream",
     "text": [
      "AxesImage(shape=(28, 28))\n"
     ]
    },
    {
     "data": {
      "image/png": "[encoded data removed]",
      "text/plain": [
       "<Figure size 640x480 with 1 Axes>"
      ]
     },
     "metadata": {},
     "output_type": "display_data"
    }
   ],
   "source": [
    "print(plt.imshow(X_new[1]))       # print(plt.imshow(X_test[0])) "
   ]
  },
  {
   "cell_type": "code",
   "execution_count": 110,
   "id": "0abb14a9",
   "metadata": {},
   "outputs": [
    {
     "name": "stdout",
     "output_type": "stream",
     "text": [
      "AxesImage(shape=(28, 28))\n"
     ]
    },
    {
     "data": {
      "image/png": "[encoded data removed]",
      "text/plain": [
       "<Figure size 640x480 with 1 Axes>"
      ]
     },
     "metadata": {},
     "output_type": "display_data"
    }
   ],
   "source": [
    "print(plt.imshow(X_new[2]))        # print(plt.imshow(X_test[0])) "
   ]
  }
 ],
 "metadata": {
  "kernelspec": {
   "display_name": "virtl_env",
   "language": "python",
   "name": "python3"
  },
  "language_info": {
   "codemirror_mode": {
    "name": "ipython",
    "version": 3
   },
   "file_extension": ".py",
   "mimetype": "text/x-python",
   "name": "python",
   "nbconvert_exporter": "python",
   "pygments_lexer": "ipython3",
   "version": "3.12.2"
  }
 },
 "nbformat": 4,
 "nbformat_minor": 5
}
