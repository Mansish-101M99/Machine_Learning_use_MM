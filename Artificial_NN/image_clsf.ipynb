{
 "cells": [
  {
   "cell_type": "markdown",
   "id": "e3129f10",
   "metadata": {},
   "source": [
    "# Image Classification using Keras and TF -   "
   ]
  },
  {
   "cell_type": "code",
   "execution_count": 231,
   "id": "d27500ce",
   "metadata": {},
   "outputs": [],
   "source": [
    "import numpy as np \n",
    "import pandas as pd \n",
    "\n",
    "%matplotlib inline \n",
    "import matplotlib as mtp \n",
    "import matplotlib.pyplot as plt "
   ]
  },
  {
   "cell_type": "code",
   "execution_count": 232,
   "id": "4c06d1cf",
   "metadata": {},
   "outputs": [],
   "source": [
    "import tensorflow as tf     # pip install tensorflow==<version_name> \n",
    "from tensorflow import keras "
   ]
  },
  {
   "cell_type": "code",
   "execution_count": 233,
   "id": "5f6861e3",
   "metadata": {},
   "outputs": [
    {
     "data": {
      "text/plain": [
       "'2.19.0'"
      ]
     },
     "execution_count": 233,
     "metadata": {},
     "output_type": "execute_result"
    }
   ],
   "source": [
    "tf.__version__"
   ]
  },
  {
   "cell_type": "code",
   "execution_count": 234,
   "id": "80e0e1e6",
   "metadata": {},
   "outputs": [
    {
     "data": {
      "text/plain": [
       "'3.10.0'"
      ]
     },
     "execution_count": 234,
     "metadata": {},
     "output_type": "execute_result"
    }
   ],
   "source": [
    "keras.__version__ "
   ]
  },
  {
   "cell_type": "code",
   "execution_count": 235,
   "id": "08562bdb",
   "metadata": {},
   "outputs": [],
   "source": [
    "np.random.seed(42) \n",
    "tf.random.set_seed(42) "
   ]
  },
  {
   "cell_type": "markdown",
   "id": "64fecf4c",
   "metadata": {},
   "source": [
    "# Image dataset loading (available in keras)  "
   ]
  },
  {
   "cell_type": "code",
   "execution_count": 236,
   "id": "81602d0f",
   "metadata": {},
   "outputs": [],
   "source": [
    "fashion_mnist = keras.datasets.fashion_mnist \n",
    "(x_train_full, y_train_full), (x_test, y_test) = fashion_mnist.load_data() "
   ]
  },
  {
   "cell_type": "code",
   "execution_count": 237,
   "id": "a5f21c7e",
   "metadata": {},
   "outputs": [
    {
     "name": "stdout",
     "output_type": "stream",
     "text": [
      "Train size :\n",
      "(60000, 28, 28)\n",
      "(60000,)\n",
      "Test size : \n",
      "(10000, 28, 28)\n",
      "(10000,)\n"
     ]
    }
   ],
   "source": [
    "print(f\"Train size :\\n{x_train_full.shape}\\n{y_train_full.shape}\\nTest size : \\n{x_test.shape}\\n{y_test.shape}\") "
   ]
  },
  {
   "cell_type": "code",
   "execution_count": 238,
   "id": "6b31dfe7",
   "metadata": {},
   "outputs": [
    {
     "data": {
      "text/plain": [
       "<matplotlib.image.AxesImage at 0x26d3561fe60>"
      ]
     },
     "execution_count": 238,
     "metadata": {},
     "output_type": "execute_result"
    },
    {
     "data": {
      "image/png": "[encoded data removed]",
      "text/plain": [
       "<Figure size 640x480 with 1 Axes>"
      ]
     },
     "metadata": {},
     "output_type": "display_data"
    }
   ],
   "source": [
    "plt.imshow(x_train_full[1])    # sample image out of 60k images "
   ]
  },
  {
   "cell_type": "code",
   "execution_count": 239,
   "id": "82769486",
   "metadata": {},
   "outputs": [],
   "source": [
    "class_names = [\"T-shirt/top\", \"Trouser\", \"Pullover\", \"Dress\", \"Coat\", \"Sandal\", \"Shirt\", \"Sneaker\", \"Bag\", \"Ankle boot\"] "
   ]
  },
  {
   "cell_type": "code",
   "execution_count": 240,
   "id": "f8847de8",
   "metadata": {},
   "outputs": [
    {
     "data": {
      "text/plain": [
       "'T-shirt/top'"
      ]
     },
     "execution_count": 240,
     "metadata": {},
     "output_type": "execute_result"
    }
   ],
   "source": [
    "class_names[y_train_full[1]] "
   ]
  },
  {
   "cell_type": "markdown",
   "id": "e19359a1",
   "metadata": {},
   "source": [
    "Data Normalization (we normalize the data so that it is approximately the same scale)  "
   ]
  },
  {
   "cell_type": "code",
   "execution_count": 241,
   "id": "e8f7e00d",
   "metadata": {},
   "outputs": [],
   "source": [
    "x_train_n = x_train_full / 255.0      # 255 is the final limit in pixel colors \n",
    "x_test_n = x_test / 255.0 "
   ]
  },
  {
   "cell_type": "markdown",
   "id": "30d44ce9",
   "metadata": {},
   "source": [
    "Data splitting as train, validation, and test sets  "
   ]
  },
  {
   "cell_type": "code",
   "execution_count": 242,
   "id": "6f3c3aae",
   "metadata": {},
   "outputs": [],
   "source": [
    "X_valid, X_train = x_train_n[:5000], x_train_n[5000:] \n",
    "y_valid, y_train = y_train_full[:5000], y_train_full[5000:] \n",
    "X_test = x_test_n "
   ]
  },
  {
   "cell_type": "code",
   "execution_count": 243,
   "id": "0067bb95",
   "metadata": {},
   "outputs": [
    {
     "data": {
      "text/plain": [
       "array([[[0., 0., 0., ..., 0., 0., 0.],\n",
       "        [0., 0., 0., ..., 0., 0., 0.],\n",
       "        [0., 0., 0., ..., 0., 0., 0.],\n",
       "        ...,\n",
       "        [0., 0., 0., ..., 0., 0., 0.],\n",
       "        [0., 0., 0., ..., 0., 0., 0.],\n",
       "        [0., 0., 0., ..., 0., 0., 0.]],\n",
       "\n",
       "       [[0., 0., 0., ..., 0., 0., 0.],\n",
       "        [0., 0., 0., ..., 0., 0., 0.],\n",
       "        [0., 0., 0., ..., 0., 0., 0.],\n",
       "        ...,\n",
       "        [0., 0., 0., ..., 0., 0., 0.],\n",
       "        [0., 0., 0., ..., 0., 0., 0.],\n",
       "        [0., 0., 0., ..., 0., 0., 0.]],\n",
       "\n",
       "       [[0., 0., 0., ..., 0., 0., 0.],\n",
       "        [0., 0., 0., ..., 0., 0., 0.],\n",
       "        [0., 0., 0., ..., 0., 0., 0.],\n",
       "        ...,\n",
       "        [0., 0., 0., ..., 0., 0., 0.],\n",
       "        [0., 0., 0., ..., 0., 0., 0.],\n",
       "        [0., 0., 0., ..., 0., 0., 0.]],\n",
       "\n",
       "       ...,\n",
       "\n",
       "       [[0., 0., 0., ..., 0., 0., 0.],\n",
       "        [0., 0., 0., ..., 0., 0., 0.],\n",
       "        [0., 0., 0., ..., 0., 0., 0.],\n",
       "        ...,\n",
       "        [0., 0., 0., ..., 0., 0., 0.],\n",
       "        [0., 0., 0., ..., 0., 0., 0.],\n",
       "        [0., 0., 0., ..., 0., 0., 0.]],\n",
       "\n",
       "       [[0., 0., 0., ..., 0., 0., 0.],\n",
       "        [0., 0., 0., ..., 0., 0., 0.],\n",
       "        [0., 0., 0., ..., 0., 0., 0.],\n",
       "        ...,\n",
       "        [0., 0., 0., ..., 0., 0., 0.],\n",
       "        [0., 0., 0., ..., 0., 0., 0.],\n",
       "        [0., 0., 0., ..., 0., 0., 0.]],\n",
       "\n",
       "       [[0., 0., 0., ..., 0., 0., 0.],\n",
       "        [0., 0., 0., ..., 0., 0., 0.],\n",
       "        [0., 0., 0., ..., 0., 0., 0.],\n",
       "        ...,\n",
       "        [0., 0., 0., ..., 0., 0., 0.],\n",
       "        [0., 0., 0., ..., 0., 0., 0.],\n",
       "        [0., 0., 0., ..., 0., 0., 0.]]])"
      ]
     },
     "execution_count": 243,
     "metadata": {},
     "output_type": "execute_result"
    }
   ],
   "source": [
    "X_valid "
   ]
  },
  {
   "cell_type": "code",
   "execution_count": 244,
   "id": "c3bb79cb",
   "metadata": {},
   "outputs": [
    {
     "data": {
      "text/plain": [
       "array([9, 0, 0, ..., 5, 8, 3], dtype=uint8)"
      ]
     },
     "execution_count": 244,
     "metadata": {},
     "output_type": "execute_result"
    }
   ],
   "source": [
    "y_valid "
   ]
  },
  {
   "cell_type": "markdown",
   "id": "dd3057b8",
   "metadata": {},
   "source": [
    "# Neural Network Model (in Keras)  "
   ]
  },
  {
   "cell_type": "code",
   "execution_count": 245,
   "id": "83e59699",
   "metadata": {},
   "outputs": [
    {
     "data": {
      "text/html": [
       "<pre style=\"white-space:pre;overflow-x:auto;line-height:normal;font-family:Menlo,'DejaVu Sans Mono',consolas,'Courier New',monospace\"><span style=\"font-weight: bold\">Model: \"sequential_11\"</span>\n",
       "</pre>\n"
      ],
      "text/plain": [
       "\u001b[1mModel: \"sequential_11\"\u001b[0m\n"
      ]
     },
     "metadata": {},
     "output_type": "display_data"
    },
    {
     "data": {
      "text/html": [
       "<pre style=\"white-space:pre;overflow-x:auto;line-height:normal;font-family:Menlo,'DejaVu Sans Mono',consolas,'Courier New',monospace\">┏━━━━━━━━━━━━━━━━━━━━━━━━━━━━━━━━━┳━━━━━━━━━━━━━━━━━━━━━━━━┳━━━━━━━━━━━━━━━┓\n",
       "┃<span style=\"font-weight: bold\"> Layer (type)                    </span>┃<span style=\"font-weight: bold\"> Output Shape           </span>┃<span style=\"font-weight: bold\">       Param # </span>┃\n",
       "┡━━━━━━━━━━━━━━━━━━━━━━━━━━━━━━━━━╇━━━━━━━━━━━━━━━━━━━━━━━━╇━━━━━━━━━━━━━━━┩\n",
       "│ flatten_11 (<span style=\"color: #0087ff; text-decoration-color: #0087ff\">Flatten</span>)            │ (<span style=\"color: #00d7ff; text-decoration-color: #00d7ff\">None</span>, <span style=\"color: #00af00; text-decoration-color: #00af00\">784</span>)            │             <span style=\"color: #00af00; text-decoration-color: #00af00\">0</span> │\n",
       "├─────────────────────────────────┼────────────────────────┼───────────────┤\n",
       "│ dense_33 (<span style=\"color: #0087ff; text-decoration-color: #0087ff\">Dense</span>)                │ (<span style=\"color: #00d7ff; text-decoration-color: #00d7ff\">None</span>, <span style=\"color: #00af00; text-decoration-color: #00af00\">300</span>)            │       <span style=\"color: #00af00; text-decoration-color: #00af00\">235,500</span> │\n",
       "├─────────────────────────────────┼────────────────────────┼───────────────┤\n",
       "│ dense_34 (<span style=\"color: #0087ff; text-decoration-color: #0087ff\">Dense</span>)                │ (<span style=\"color: #00d7ff; text-decoration-color: #00d7ff\">None</span>, <span style=\"color: #00af00; text-decoration-color: #00af00\">100</span>)            │        <span style=\"color: #00af00; text-decoration-color: #00af00\">30,100</span> │\n",
       "├─────────────────────────────────┼────────────────────────┼───────────────┤\n",
       "│ dense_35 (<span style=\"color: #0087ff; text-decoration-color: #0087ff\">Dense</span>)                │ (<span style=\"color: #00d7ff; text-decoration-color: #00d7ff\">None</span>, <span style=\"color: #00af00; text-decoration-color: #00af00\">10</span>)             │         <span style=\"color: #00af00; text-decoration-color: #00af00\">1,010</span> │\n",
       "└─────────────────────────────────┴────────────────────────┴───────────────┘\n",
       "</pre>\n"
      ],
      "text/plain": [
       "┏━━━━━━━━━━━━━━━━━━━━━━━━━━━━━━━━━┳━━━━━━━━━━━━━━━━━━━━━━━━┳━━━━━━━━━━━━━━━┓\n",
       "┃\u001b[1m \u001b[0m\u001b[1mLayer (type)                   \u001b[0m\u001b[1m \u001b[0m┃\u001b[1m \u001b[0m\u001b[1mOutput Shape          \u001b[0m\u001b[1m \u001b[0m┃\u001b[1m \u001b[0m\u001b[1m      Param #\u001b[0m\u001b[1m \u001b[0m┃\n",
       "┡━━━━━━━━━━━━━━━━━━━━━━━━━━━━━━━━━╇━━━━━━━━━━━━━━━━━━━━━━━━╇━━━━━━━━━━━━━━━┩\n",
       "│ flatten_11 (\u001b[38;5;33mFlatten\u001b[0m)            │ (\u001b[38;5;45mNone\u001b[0m, \u001b[38;5;34m784\u001b[0m)            │             \u001b[38;5;34m0\u001b[0m │\n",
       "├─────────────────────────────────┼────────────────────────┼───────────────┤\n",
       "│ dense_33 (\u001b[38;5;33mDense\u001b[0m)                │ (\u001b[38;5;45mNone\u001b[0m, \u001b[38;5;34m300\u001b[0m)            │       \u001b[38;5;34m235,500\u001b[0m │\n",
       "├─────────────────────────────────┼────────────────────────┼───────────────┤\n",
       "│ dense_34 (\u001b[38;5;33mDense\u001b[0m)                │ (\u001b[38;5;45mNone\u001b[0m, \u001b[38;5;34m100\u001b[0m)            │        \u001b[38;5;34m30,100\u001b[0m │\n",
       "├─────────────────────────────────┼────────────────────────┼───────────────┤\n",
       "│ dense_35 (\u001b[38;5;33mDense\u001b[0m)                │ (\u001b[38;5;45mNone\u001b[0m, \u001b[38;5;34m10\u001b[0m)             │         \u001b[38;5;34m1,010\u001b[0m │\n",
       "└─────────────────────────────────┴────────────────────────┴───────────────┘\n"
      ]
     },
     "metadata": {},
     "output_type": "display_data"
    },
    {
     "data": {
      "text/html": [
       "<pre style=\"white-space:pre;overflow-x:auto;line-height:normal;font-family:Menlo,'DejaVu Sans Mono',consolas,'Courier New',monospace\"><span style=\"font-weight: bold\"> Total params: </span><span style=\"color: #00af00; text-decoration-color: #00af00\">266,610</span> (1.02 MB)\n",
       "</pre>\n"
      ],
      "text/plain": [
       "\u001b[1m Total params: \u001b[0m\u001b[38;5;34m266,610\u001b[0m (1.02 MB)\n"
      ]
     },
     "metadata": {},
     "output_type": "display_data"
    },
    {
     "data": {
      "text/html": [
       "<pre style=\"white-space:pre;overflow-x:auto;line-height:normal;font-family:Menlo,'DejaVu Sans Mono',consolas,'Courier New',monospace\"><span style=\"font-weight: bold\"> Trainable params: </span><span style=\"color: #00af00; text-decoration-color: #00af00\">266,610</span> (1.02 MB)\n",
       "</pre>\n"
      ],
      "text/plain": [
       "\u001b[1m Trainable params: \u001b[0m\u001b[38;5;34m266,610\u001b[0m (1.02 MB)\n"
      ]
     },
     "metadata": {},
     "output_type": "display_data"
    },
    {
     "data": {
      "text/html": [
       "<pre style=\"white-space:pre;overflow-x:auto;line-height:normal;font-family:Menlo,'DejaVu Sans Mono',consolas,'Courier New',monospace\"><span style=\"font-weight: bold\"> Non-trainable params: </span><span style=\"color: #00af00; text-decoration-color: #00af00\">0</span> (0.00 B)\n",
       "</pre>\n"
      ],
      "text/plain": [
       "\u001b[1m Non-trainable params: \u001b[0m\u001b[38;5;34m0\u001b[0m (0.00 B)\n"
      ]
     },
     "metadata": {},
     "output_type": "display_data"
    }
   ],
   "source": [
    "# Sequential model object \n",
    "model = keras.models.Sequential([\n",
    "    keras.layers.Input(shape=(28,28)),   # Input layer; making the 2D array to a 1D format for input layer \n",
    "    keras.layers.Flatten(), \n",
    "    keras.layers.Dense(300, activation='relu'),  # Hidden layer 1; with 300 neurons and ReLU activation function  _| 0 for -ve values & |\n",
    "    keras.layers.Dense(100, activation='relu'),  # Hidden layer 2; with 100 neurons and ReLU activation function   | 1 for +ve values.  |\n",
    "    keras.layers.Dense(10, activation='softmax')  \n",
    "    # Output layer; with 10 neurons and softmax activation function for exclusive class classification\n",
    "])       \n",
    "\n",
    "##  OR --\n",
    "# model = keras.models.Sequential() \n",
    "# model.add(keras.layers.Flatten(input_shape=[28, 28]))     # Input layer; making the 2D array to a 1D format for input layer \n",
    "# model.add(keras.layers.Dense(300, activation='relu'))     # Hidden layer 1; with 300 neurons and ReLU activation function  _| 0 for -ve values & |\n",
    "# model.add(keras.layers.Dense(100, activation='relu'))     # Hidden layer 2; with 100 neurons and ReLU activation function   | 1 for +ve values.  |\n",
    "# model.add(keras.layers.Dense(10, activation='softmax'))   # Output layer; with 10 neurons and softmax activation function for exclusive class classification \n",
    "\n",
    "\n",
    "model.summary() "
   ]
  },
  {
   "cell_type": "code",
   "execution_count": null,
   "id": "d75d3d56",
   "metadata": {},
   "outputs": [
    {
     "data": {
      "image/png": "[encoded data removed]",
      "text/plain": [
       "<IPython.core.display.Image object>"
      ]
     },
     "execution_count": 259,
     "metadata": {},
     "output_type": "execute_result"
    }
   ],
   "source": [
    "import pydot \n",
    "from IPython.display import Image  \n",
    "\n",
    "# keras.utils.plot_model(model, show_shapes=True, show_layer_names=True, to_file='model.png')  \n",
    "keras.utils.plot_model(model, show_shapes=True, to_file='model.png', dpi=130)   \n",
    "Image('model.png')  "
   ]
  },
  {
   "cell_type": "code",
   "execution_count": 247,
   "id": "fcb630ed",
   "metadata": {},
   "outputs": [],
   "source": [
    "weight_l1, bais_l1 = model.layers[1].get_weights()   # Weight and bias distribution at different dense layers \n",
    "weight_l2, bais_l2 = model.layers[2].get_weights()   # Weight and bias distribution at different dense layers \n",
    "weight_l3, bais_l3 = model.layers[3].get_weights()   # Weight and bias distribution at different dense layers "
   ]
  },
  {
   "cell_type": "code",
   "execution_count": 248,
   "id": "f476a6a5",
   "metadata": {},
   "outputs": [
    {
     "data": {
      "text/plain": [
       "array([[-0.03589175, -0.04329207,  0.02851426, ...,  0.04572704,\n",
       "         0.00485192,  0.0404306 ],\n",
       "       [ 0.07122386,  0.05626604, -0.0368892 , ..., -0.07109684,\n",
       "        -0.05465598, -0.01235921],\n",
       "       [-0.05699002,  0.01322316, -0.03233444, ...,  0.06148982,\n",
       "         0.03283781,  0.04216205],\n",
       "       ...,\n",
       "       [ 0.05393891, -0.06024731, -0.05852662, ..., -0.05055693,\n",
       "        -0.06224358,  0.04197617],\n",
       "       [ 0.05986476, -0.03100252,  0.00866494, ...,  0.05763996,\n",
       "        -0.06263174,  0.06273554],\n",
       "       [ 0.02024655,  0.06560482, -0.02382325, ...,  0.04049921,\n",
       "         0.0629794 , -0.04587167]], dtype=float32)"
      ]
     },
     "execution_count": 248,
     "metadata": {},
     "output_type": "execute_result"
    }
   ],
   "source": [
    "weight_l1 "
   ]
  },
  {
   "cell_type": "code",
   "execution_count": 249,
   "id": "971c03e2",
   "metadata": {},
   "outputs": [
    {
     "data": {
      "text/plain": [
       "array([0., 0., 0., 0., 0., 0., 0., 0., 0., 0., 0., 0., 0., 0., 0., 0., 0.,\n",
       "       0., 0., 0., 0., 0., 0., 0., 0., 0., 0., 0., 0., 0., 0., 0., 0., 0.,\n",
       "       0., 0., 0., 0., 0., 0., 0., 0., 0., 0., 0., 0., 0., 0., 0., 0., 0.,\n",
       "       0., 0., 0., 0., 0., 0., 0., 0., 0., 0., 0., 0., 0., 0., 0., 0., 0.,\n",
       "       0., 0., 0., 0., 0., 0., 0., 0., 0., 0., 0., 0., 0., 0., 0., 0., 0.,\n",
       "       0., 0., 0., 0., 0., 0., 0., 0., 0., 0., 0., 0., 0., 0., 0., 0., 0.,\n",
       "       0., 0., 0., 0., 0., 0., 0., 0., 0., 0., 0., 0., 0., 0., 0., 0., 0.,\n",
       "       0., 0., 0., 0., 0., 0., 0., 0., 0., 0., 0., 0., 0., 0., 0., 0., 0.,\n",
       "       0., 0., 0., 0., 0., 0., 0., 0., 0., 0., 0., 0., 0., 0., 0., 0., 0.,\n",
       "       0., 0., 0., 0., 0., 0., 0., 0., 0., 0., 0., 0., 0., 0., 0., 0., 0.,\n",
       "       0., 0., 0., 0., 0., 0., 0., 0., 0., 0., 0., 0., 0., 0., 0., 0., 0.,\n",
       "       0., 0., 0., 0., 0., 0., 0., 0., 0., 0., 0., 0., 0., 0., 0., 0., 0.,\n",
       "       0., 0., 0., 0., 0., 0., 0., 0., 0., 0., 0., 0., 0., 0., 0., 0., 0.,\n",
       "       0., 0., 0., 0., 0., 0., 0., 0., 0., 0., 0., 0., 0., 0., 0., 0., 0.,\n",
       "       0., 0., 0., 0., 0., 0., 0., 0., 0., 0., 0., 0., 0., 0., 0., 0., 0.,\n",
       "       0., 0., 0., 0., 0., 0., 0., 0., 0., 0., 0., 0., 0., 0., 0., 0., 0.,\n",
       "       0., 0., 0., 0., 0., 0., 0., 0., 0., 0., 0., 0., 0., 0., 0., 0., 0.,\n",
       "       0., 0., 0., 0., 0., 0., 0., 0., 0., 0., 0.], dtype=float32)"
      ]
     },
     "execution_count": 249,
     "metadata": {},
     "output_type": "execute_result"
    }
   ],
   "source": [
    "bais_l1 "
   ]
  },
  {
   "cell_type": "code",
   "execution_count": 250,
   "id": "2c788421",
   "metadata": {},
   "outputs": [
    {
     "name": "stdout",
     "output_type": "stream",
     "text": [
      "Weight shape : (784, 300)\n",
      "Bias shape : (300,)\n"
     ]
    }
   ],
   "source": [
    "print(f\"Weight shape : {weight_l1.shape}\\nBias shape : {bais_l1.shape}\") "
   ]
  },
  {
   "cell_type": "code",
   "execution_count": 251,
   "id": "b6e43b57",
   "metadata": {},
   "outputs": [
    {
     "data": {
      "text/plain": [
       "array([[ 0.12163364,  0.08588364,  0.07700785, ...,  0.01969383,\n",
       "         0.0326707 , -0.1135227 ],\n",
       "       [ 0.11145786, -0.07500391, -0.08926073, ..., -0.08009677,\n",
       "         0.07926501,  0.08566528],\n",
       "       [-0.04728264,  0.11038838, -0.06985781, ..., -0.10974054,\n",
       "         0.07289407,  0.06425791],\n",
       "       ...,\n",
       "       [ 0.06870694,  0.11579626,  0.11642543, ...,  0.1198542 ,\n",
       "        -0.11127776,  0.10187491],\n",
       "       [ 0.09705638, -0.00384403,  0.05343878, ..., -0.01319011,\n",
       "         0.05188113, -0.0408332 ],\n",
       "       [-0.08854631,  0.08571631, -0.10585669, ..., -0.06042019,\n",
       "        -0.07799666,  0.07882478]], dtype=float32)"
      ]
     },
     "execution_count": 251,
     "metadata": {},
     "output_type": "execute_result"
    }
   ],
   "source": [
    "weight_l2 "
   ]
  },
  {
   "cell_type": "code",
   "execution_count": 252,
   "id": "3ff2ce6c",
   "metadata": {},
   "outputs": [
    {
     "data": {
      "text/plain": [
       "array([0., 0., 0., 0., 0., 0., 0., 0., 0., 0., 0., 0., 0., 0., 0., 0., 0.,\n",
       "       0., 0., 0., 0., 0., 0., 0., 0., 0., 0., 0., 0., 0., 0., 0., 0., 0.,\n",
       "       0., 0., 0., 0., 0., 0., 0., 0., 0., 0., 0., 0., 0., 0., 0., 0., 0.,\n",
       "       0., 0., 0., 0., 0., 0., 0., 0., 0., 0., 0., 0., 0., 0., 0., 0., 0.,\n",
       "       0., 0., 0., 0., 0., 0., 0., 0., 0., 0., 0., 0., 0., 0., 0., 0., 0.,\n",
       "       0., 0., 0., 0., 0., 0., 0., 0., 0., 0., 0., 0., 0., 0., 0.],\n",
       "      dtype=float32)"
      ]
     },
     "execution_count": 252,
     "metadata": {},
     "output_type": "execute_result"
    }
   ],
   "source": [
    "bais_l2 "
   ]
  },
  {
   "cell_type": "code",
   "execution_count": 253,
   "id": "ea0bb42a",
   "metadata": {},
   "outputs": [
    {
     "name": "stdout",
     "output_type": "stream",
     "text": [
      "Weight shape : (300, 100)\n",
      "Bias shape : (100,)\n"
     ]
    }
   ],
   "source": [
    "print(f\"Weight shape : {weight_l2.shape}\\nBias shape : {bais_l2.shape}\") "
   ]
  },
  {
   "cell_type": "code",
   "execution_count": 254,
   "id": "4a269597",
   "metadata": {},
   "outputs": [
    {
     "data": {
      "text/plain": [
       "array([[ 0.1428501 ,  0.1616945 , -0.2173377 , -0.04689887,  0.15280503,\n",
       "        -0.20516822, -0.15800557,  0.08580029, -0.08538947, -0.19583966],\n",
       "       [ 0.01075727,  0.22803971,  0.18896502,  0.03931999,  0.13287753,\n",
       "         0.09870362, -0.13179193, -0.11911301, -0.02409591,  0.01166266],\n",
       "       [ 0.16471115, -0.08459058,  0.14486778, -0.22410837,  0.04237711,\n",
       "         0.14595023,  0.14218426,  0.13668036, -0.10344204,  0.1954453 ],\n",
       "       [-0.16116321,  0.19336617,  0.04177052, -0.1465252 ,  0.15319738,\n",
       "        -0.03707458,  0.02344522,  0.05282485,  0.19767907, -0.11740316],\n",
       "       [-0.17447497,  0.16547394, -0.07567269,  0.23072624,  0.10121357,\n",
       "         0.16314435,  0.21771869,  0.19076157, -0.09993649,  0.22507301],\n",
       "       [ 0.18109158, -0.00373809, -0.03871588,  0.03422078,  0.15029207,\n",
       "         0.04997   , -0.21221624,  0.19032624,  0.17381763,  0.15899295],\n",
       "       [-0.01125027, -0.02228461,  0.23140684,  0.2167365 , -0.16061892,\n",
       "        -0.13262054,  0.086629  ,  0.2069293 , -0.13550557, -0.16170461],\n",
       "       [-0.03903717, -0.04318458,  0.11963448, -0.22486833, -0.13570988,\n",
       "        -0.22997074,  0.20596653, -0.05531976,  0.19790876, -0.01049884],\n",
       "       [ 0.11405089,  0.13220403, -0.10739405, -0.09456262,  0.07984984,\n",
       "        -0.22424914, -0.00354603, -0.16116399, -0.19150338,  0.12249979],\n",
       "       [-0.23134498, -0.09098156,  0.14580807, -0.16518468,  0.01636951,\n",
       "        -0.215449  ,  0.15119532, -0.04995541,  0.08842483, -0.01594694],\n",
       "       [-0.10242756,  0.1261431 , -0.10067366,  0.19135115, -0.14196402,\n",
       "        -0.2064713 ,  0.01010193,  0.03269374,  0.09882385,  0.07228106],\n",
       "       [ 0.0563201 , -0.10124446, -0.09676047, -0.11246624, -0.13323522,\n",
       "         0.22999859, -0.09952666,  0.21125951, -0.04744858, -0.10596909],\n",
       "       [-0.02581184,  0.14930105, -0.03816044, -0.14971961, -0.13595119,\n",
       "         0.07896218, -0.05684434, -0.18047266,  0.22495991,  0.10437852],\n",
       "       [-0.14092806, -0.13006404,  0.15655565,  0.06877378,  0.0655297 ,\n",
       "        -0.20272598,  0.17851436,  0.13331106, -0.0840155 ,  0.15285856],\n",
       "       [-0.20310634,  0.21589902, -0.10249594, -0.17168082, -0.01466411,\n",
       "        -0.06683359,  0.09545931, -0.02585275,  0.1455442 ,  0.06242898],\n",
       "       [ 0.01065987, -0.17872244, -0.057496  ,  0.21192747, -0.09738216,\n",
       "         0.021694  , -0.08793482, -0.02681524, -0.18034971,  0.08329052],\n",
       "       [ 0.0381839 ,  0.17760912,  0.0264211 ,  0.09834886,  0.15742412,\n",
       "        -0.19789162, -0.12081963, -0.02861044, -0.00073534, -0.12732124],\n",
       "       [-0.07263748, -0.03286469, -0.10576618, -0.1851398 ,  0.10865945,\n",
       "        -0.09899494,  0.19279876,  0.02918273, -0.08793677,  0.07218111],\n",
       "       [-0.19343323,  0.16051742, -0.18040739,  0.04891247,  0.07980967,\n",
       "        -0.0484923 , -0.17078412, -0.18153691,  0.22808465,  0.15167817],\n",
       "       [ 0.21641538,  0.19437063,  0.22998634, -0.19604139, -0.1691173 ,\n",
       "        -0.05411378,  0.10516295, -0.14754894, -0.10529861,  0.06627586],\n",
       "       [-0.02849996, -0.05196972, -0.22806478,  0.07565281,  0.19750005,\n",
       "        -0.20305505, -0.16270524, -0.14528644, -0.1767481 , -0.15003823],\n",
       "       [-0.06917764,  0.10282096, -0.03049685,  0.19072899,  0.04961759,\n",
       "         0.0887278 ,  0.17637354, -0.13808824, -0.08168741, -0.14032128],\n",
       "       [ 0.03083596, -0.1733743 , -0.01778513, -0.06561629, -0.0504947 ,\n",
       "        -0.20387672, -0.21314007,  0.0292353 , -0.15765443, -0.02452679],\n",
       "       [ 0.22148684, -0.04224192,  0.18675655, -0.07815818,  0.17376167,\n",
       "         0.15402582,  0.03235126, -0.2201828 , -0.09490958, -0.10523529],\n",
       "       [-0.0015085 ,  0.07511741,  0.05654612,  0.15015966, -0.0432642 ,\n",
       "         0.18039945, -0.08867541,  0.18684646,  0.10083926,  0.09781697],\n",
       "       [-0.13674963,  0.08904302, -0.22660317, -0.13256893,  0.10298672,\n",
       "        -0.21955732, -0.07455386, -0.2095223 ,  0.11220458,  0.19318795],\n",
       "       [ 0.11429551, -0.23151967,  0.02359271, -0.18354996,  0.13937345,\n",
       "         0.11565661,  0.22004405,  0.22804272, -0.17575857,  0.13003737],\n",
       "       [ 0.14283964,  0.15318307,  0.1928001 ,  0.12829071,  0.18995094,\n",
       "        -0.22645968, -0.10091928, -0.18128078, -0.0035153 , -0.14614144],\n",
       "       [ 0.03088653, -0.17436555,  0.15989092, -0.17707808,  0.17579114,\n",
       "         0.16130286,  0.20899713,  0.05352399, -0.03190456, -0.03713816],\n",
       "       [-0.09360281, -0.17079875,  0.08587998, -0.03066407, -0.08087339,\n",
       "        -0.12569854,  0.12680283,  0.00361514,  0.06124565,  0.11979473],\n",
       "       [-0.192534  ,  0.16177827,  0.1637587 , -0.09975803, -0.12883052,\n",
       "         0.20771658, -0.00806758, -0.11591254,  0.2146675 ,  0.1318534 ],\n",
       "       [-0.01703648,  0.04785338, -0.1351065 ,  0.19658414,  0.23094463,\n",
       "         0.20837349, -0.08563502,  0.15337706, -0.08457778,  0.00965664],\n",
       "       [ 0.02229536,  0.18650526,  0.15053448, -0.07174918, -0.07893324,\n",
       "         0.10615388,  0.19448802, -0.17414567, -0.08137174, -0.23097609],\n",
       "       [-0.03393736,  0.00205123, -0.2048304 , -0.09188461, -0.08433852,\n",
       "         0.11140889,  0.06645772,  0.11442655,  0.21313429, -0.13547155],\n",
       "       [ 0.2190221 , -0.21403588, -0.10012776,  0.0388636 , -0.09518158,\n",
       "        -0.10964496,  0.09171277, -0.16659817,  0.14947805, -0.04484686],\n",
       "       [-0.05727699, -0.0461102 , -0.0287057 ,  0.1188041 , -0.20958546,\n",
       "        -0.02174532, -0.20479141, -0.21367651, -0.03029767, -0.2250768 ],\n",
       "       [-0.02627823,  0.08357444, -0.05731264, -0.20477103, -0.05375223,\n",
       "         0.18948182, -0.02051769,  0.09444919, -0.13691111,  0.10075429],\n",
       "       [-0.1551956 ,  0.15928292, -0.00937918,  0.16486818, -0.04547903,\n",
       "        -0.03879294, -0.15565833, -0.0589375 , -0.17562677, -0.06881247],\n",
       "       [-0.21425489,  0.22807458,  0.0029323 , -0.19081992,  0.04464713,\n",
       "         0.08760113, -0.16601032, -0.11713934, -0.07189947,  0.16177773],\n",
       "       [ 0.1694102 ,  0.21151614,  0.10325128,  0.11029449,  0.18368965,\n",
       "         0.20114803,  0.14379472, -0.12080359,  0.1898779 , -0.05738102],\n",
       "       [-0.16015136, -0.18884677, -0.0989465 , -0.230303  , -0.16056775,\n",
       "         0.06048676, -0.0620123 , -0.22125107, -0.23229855,  0.16014093],\n",
       "       [ 0.1834636 ,  0.0679675 ,  0.01871866,  0.14144522, -0.15362792,\n",
       "         0.23046911, -0.17741585,  0.22459942, -0.23083493, -0.07837375],\n",
       "       [ 0.21037549,  0.10648909,  0.05040377,  0.1880211 ,  0.06730288,\n",
       "        -0.03320892,  0.03624317,  0.01826355,  0.19340464, -0.07185286],\n",
       "       [ 0.19668931, -0.23271707, -0.15726532, -0.02145918, -0.15812907,\n",
       "         0.08220097,  0.18449154,  0.09678891,  0.16349164, -0.07618162],\n",
       "       [ 0.2326822 ,  0.01407957, -0.1630699 ,  0.10124168,  0.0910241 ,\n",
       "         0.1132693 ,  0.13712421, -0.01225318,  0.16939855,  0.14275   ],\n",
       "       [-0.14375234, -0.13286817, -0.1202863 ,  0.02504379,  0.10586494,\n",
       "         0.05932361, -0.06320646,  0.04083019, -0.14431757, -0.10151887],\n",
       "       [ 0.18002847,  0.09435803, -0.1368297 ,  0.21787664, -0.11611901,\n",
       "         0.00568853,  0.1185568 ,  0.12715474, -0.08002673,  0.00115229],\n",
       "       [ 0.1483624 , -0.03985949, -0.10070045,  0.0982326 , -0.08457015,\n",
       "         0.0201205 ,  0.03447324,  0.19636759, -0.16072166,  0.09917808],\n",
       "       [-0.01308256, -0.16673593, -0.06803147, -0.00647026,  0.20254534,\n",
       "         0.05385855, -0.05496238,  0.2262013 , -0.11044963, -0.172102  ],\n",
       "       [ 0.10639226, -0.10212436, -0.01407127,  0.12033328,  0.16136909,\n",
       "        -0.03017862, -0.04513653,  0.00574861,  0.0676741 ,  0.16272333],\n",
       "       [ 0.02559578, -0.2319522 ,  0.03299388,  0.23272201,  0.01259841,\n",
       "        -0.03905548, -0.10397348, -0.04970032,  0.1546031 ,  0.04959875],\n",
       "       [ 0.10410571, -0.04412979,  0.18261087, -0.19686733,  0.13798177,\n",
       "         0.0093343 ,  0.22713879, -0.13654923,  0.06878242,  0.23335397],\n",
       "       [-0.01872483,  0.01584537, -0.18612929, -0.15018657,  0.21638614,\n",
       "         0.19689384, -0.00183107, -0.01320384,  0.14349523,  0.00363602],\n",
       "       [-0.18032649, -0.18973456,  0.04016909, -0.21406251,  0.02377462,\n",
       "        -0.1471968 , -0.06409706,  0.16678977, -0.17553428, -0.04090287],\n",
       "       [-0.20382254, -0.00888231,  0.10407442,  0.14791766, -0.07096472,\n",
       "        -0.22613283,  0.02957442,  0.18614113, -0.01492517,  0.06699082],\n",
       "       [-0.18337522,  0.00874117,  0.12094629, -0.09781019,  0.10398406,\n",
       "        -0.04296395,  0.15410596, -0.09428637, -0.05869763,  0.07364959],\n",
       "       [-0.09046009,  0.0173817 ,  0.18958667, -0.01506698, -0.08639565,\n",
       "        -0.09130089, -0.14546707,  0.05069599,  0.19923183,  0.09932771],\n",
       "       [ 0.11545962,  0.16623941, -0.1279313 , -0.13865459, -0.04352061,\n",
       "         0.02473432, -0.2181916 ,  0.01594448, -0.2131865 , -0.18458548],\n",
       "       [-0.10970705,  0.06381235,  0.15360743, -0.13746962,  0.17428258,\n",
       "        -0.18741806, -0.16595799, -0.15070625, -0.18253703,  0.04322127],\n",
       "       [ 0.21233836,  0.02481869,  0.11193141, -0.19062354,  0.03645182,\n",
       "        -0.20358293, -0.20430207,  0.07637924, -0.2202436 , -0.15419482],\n",
       "       [ 0.10031366, -0.22188903, -0.04740036,  0.16229442, -0.07441893,\n",
       "         0.09273952,  0.18564117, -0.02107948, -0.13327065, -0.04223713],\n",
       "       [-0.19183151,  0.01318999, -0.13683209, -0.10545652, -0.01644334,\n",
       "        -0.00439893, -0.13173881, -0.01736289,  0.02380693, -0.2259699 ],\n",
       "       [ 0.00111571, -0.08813651, -0.19759065,  0.05577752, -0.07224654,\n",
       "         0.16457099, -0.08409168,  0.14746913,  0.03358886, -0.16985494],\n",
       "       [-0.00957724, -0.00218271, -0.11338577, -0.01576757,  0.05539003,\n",
       "        -0.08412743, -0.16315493, -0.05001704,  0.14452052,  0.06486994],\n",
       "       [-0.02180374, -0.1008004 ,  0.148166  ,  0.11239111,  0.16690475,\n",
       "         0.09510964, -0.15579012,  0.22651407,  0.14127502, -0.09447786],\n",
       "       [-0.00714986, -0.21385464, -0.15526025, -0.10089779, -0.04706898,\n",
       "         0.21171486,  0.11862361,  0.13859674, -0.01571107, -0.00063668],\n",
       "       [ 0.04186234, -0.05800733,  0.08812571,  0.13717109,  0.19647133,\n",
       "         0.04278228, -0.13951465, -0.02676484,  0.06594566, -0.10706541],\n",
       "       [ 0.21631059, -0.00872803,  0.0188525 , -0.08148873,  0.17890525,\n",
       "        -0.14560366,  0.12629858, -0.07247005, -0.14561503,  0.23190439],\n",
       "       [ 0.17639631, -0.17271157, -0.07864162, -0.21768388,  0.21658587,\n",
       "        -0.19849816,  0.1880044 ,  0.00159335, -0.15478912, -0.11502674],\n",
       "       [-0.07457635, -0.14984801, -0.17055905, -0.13860413,  0.07370341,\n",
       "         0.22193953, -0.07856295,  0.00971371,  0.13676572, -0.22016293],\n",
       "       [-0.15451644,  0.00507085, -0.19141857,  0.14085656, -0.11164625,\n",
       "         0.06871977, -0.14968091,  0.07696652, -0.05956049, -0.09568645],\n",
       "       [ 0.09902656,  0.05984697,  0.000606  ,  0.03916579, -0.03978354,\n",
       "        -0.20500028, -0.09723099,  0.2223753 , -0.13133755, -0.12189747],\n",
       "       [-0.19762757, -0.03869265, -0.20057479, -0.02171271,  0.22016388,\n",
       "        -0.05798562,  0.1231896 , -0.02618106,  0.1651378 , -0.01253621],\n",
       "       [ 0.22351986,  0.23105025, -0.15091528, -0.10822618, -0.204514  ,\n",
       "         0.00046328, -0.22731942,  0.22089893,  0.21016422,  0.16714391],\n",
       "       [-0.18037939,  0.04813215,  0.03934622,  0.19863382,  0.05502436,\n",
       "        -0.21429437,  0.09866932, -0.19402942,  0.20583394,  0.07501402],\n",
       "       [ 0.13521835, -0.18313205, -0.17089808, -0.20526706, -0.09812942,\n",
       "         0.04888135, -0.00864705, -0.20763862, -0.04948756, -0.00902186],\n",
       "       [-0.21279266, -0.21808012,  0.18684435, -0.08922026, -0.20446634,\n",
       "        -0.17408329,  0.10041156,  0.08899537,  0.02358073, -0.10760286],\n",
       "       [-0.14293596,  0.03903863, -0.07383972, -0.20579554,  0.06652531,\n",
       "         0.12792328,  0.19315246,  0.16333884, -0.17642626, -0.07364389],\n",
       "       [-0.10769151,  0.02709404, -0.1752298 ,  0.19592041,  0.12604171,\n",
       "        -0.04712841,  0.13326636,  0.07799125,  0.04281121,  0.20723614],\n",
       "       [ 0.18479913, -0.00106281,  0.03782362, -0.22204761, -0.2011545 ,\n",
       "         0.01372692, -0.07285236,  0.21975198,  0.20773724, -0.16586277],\n",
       "       [-0.22167248,  0.18317309,  0.08432031,  0.19028547, -0.09766731,\n",
       "        -0.2238015 , -0.11611795, -0.14139897, -0.12560576,  0.10770547],\n",
       "       [ 0.06832492, -0.00158635,  0.12874514, -0.1319738 , -0.14700457,\n",
       "        -0.16378292,  0.18749684, -0.02778523,  0.01397443,  0.0651581 ],\n",
       "       [ 0.05983028,  0.10074154, -0.04919027,  0.22705632,  0.23033452,\n",
       "        -0.0716175 ,  0.01108724,  0.17197177,  0.05724204, -0.09841573],\n",
       "       [-0.06080672, -0.23304348,  0.00949422, -0.17053342,  0.14982623,\n",
       "         0.1985031 ,  0.04435152, -0.08948347,  0.03352538,  0.19005981],\n",
       "       [ 0.14558408,  0.03864193, -0.12029482, -0.149959  ,  0.100357  ,\n",
       "        -0.17961147, -0.05427448, -0.00903562, -0.02942786,  0.1593453 ],\n",
       "       [ 0.17569697, -0.23136704, -0.15270981,  0.06200328, -0.05985115,\n",
       "         0.03568926,  0.00159675, -0.17027679,  0.1914556 ,  0.23204792],\n",
       "       [-0.0780299 , -0.08760463,  0.21233389,  0.13974518,  0.06469342,\n",
       "         0.12357542, -0.20981042, -0.10855314,  0.09877071, -0.17735605],\n",
       "       [-0.13559312,  0.09835142,  0.09723043, -0.19567244, -0.16570997,\n",
       "        -0.1915634 ,  0.03624073, -0.07808581,  0.19164744, -0.04813358],\n",
       "       [-0.14183384, -0.179867  , -0.18324064, -0.14945394, -0.19689474,\n",
       "        -0.17484805, -0.2157228 , -0.22580919, -0.21833977, -0.22489572],\n",
       "       [ 0.2145442 , -0.07630602,  0.06166685, -0.10639133, -0.12808031,\n",
       "        -0.0788354 ,  0.04689181, -0.09337857, -0.00177783, -0.0110687 ],\n",
       "       [-0.06136911, -0.07927875, -0.20667276,  0.16080675,  0.14715454,\n",
       "         0.15314353, -0.18083432,  0.2334544 ,  0.18468794,  0.08657217],\n",
       "       [ 0.11995232,  0.09960234,  0.01338755,  0.00572896,  0.03349063,\n",
       "        -0.02527544,  0.22695988, -0.14819992, -0.12931028,  0.01169217],\n",
       "       [-0.11878186, -0.23285778,  0.03655484, -0.00537382, -0.1240667 ,\n",
       "        -0.19316466,  0.15032348, -0.09640932, -0.0440888 ,  0.09834537],\n",
       "       [ 0.12393746,  0.22346196,  0.15848917, -0.16392958, -0.10420705,\n",
       "        -0.23157585,  0.10829774,  0.1868918 ,  0.10373792, -0.10535251],\n",
       "       [-0.09252006, -0.18962553,  0.07318959,  0.1593155 ,  0.13044721,\n",
       "        -0.04358749, -0.16299444,  0.00212245,  0.21485871,  0.00244814],\n",
       "       [ 0.17121655,  0.09407845,  0.01209933, -0.13853282,  0.10620528,\n",
       "        -0.17591698,  0.21135905, -0.20388763,  0.02213883,  0.09902942],\n",
       "       [-0.07751761,  0.2119498 ,  0.03560683, -0.00949444,  0.1437152 ,\n",
       "         0.19493419, -0.08350883,  0.18462625,  0.09803158, -0.07743955],\n",
       "       [ 0.06611422,  0.01707423,  0.00440755, -0.14057681, -0.10423513,\n",
       "         0.03769812,  0.18667635, -0.09582299, -0.09291218,  0.00883761],\n",
       "       [ 0.17327985, -0.08591656,  0.12114871, -0.0685799 ,  0.19308698,\n",
       "        -0.0047823 ,  0.04024771,  0.2046668 ,  0.05245379, -0.0399414 ],\n",
       "       [-0.02192257,  0.04970428,  0.03938991,  0.04109326, -0.05081721,\n",
       "        -0.13084444, -0.05513601, -0.19247977, -0.1562205 ,  0.04898888]],\n",
       "      dtype=float32)"
      ]
     },
     "execution_count": 254,
     "metadata": {},
     "output_type": "execute_result"
    }
   ],
   "source": [
    "weight_l3 "
   ]
  },
  {
   "cell_type": "code",
   "execution_count": 255,
   "id": "2972ac93",
   "metadata": {},
   "outputs": [
    {
     "data": {
      "text/plain": [
       "array([0., 0., 0., 0., 0., 0., 0., 0., 0., 0.], dtype=float32)"
      ]
     },
     "execution_count": 255,
     "metadata": {},
     "output_type": "execute_result"
    }
   ],
   "source": [
    "bais_l3 "
   ]
  },
  {
   "cell_type": "code",
   "execution_count": 256,
   "id": "b1fa900a",
   "metadata": {},
   "outputs": [
    {
     "name": "stdout",
     "output_type": "stream",
     "text": [
      "Weight shape : (100, 10)\n",
      "Bias shape : (10,)\n"
     ]
    }
   ],
   "source": [
    "print(f\"Weight shape : {weight_l3.shape}\\nBias shape : {bais_l3.shape}\") "
   ]
  }
 ],
 "metadata": {
  "kernelspec": {
   "display_name": "virtl_env",
   "language": "python",
   "name": "python3"
  },
  "language_info": {
   "codemirror_mode": {
    "name": "ipython",
    "version": 3
   },
   "file_extension": ".py",
   "mimetype": "text/x-python",
   "name": "python",
   "nbconvert_exporter": "python",
   "pygments_lexer": "ipython3",
   "version": "3.12.2"
  }
 },
 "nbformat": 4,
 "nbformat_minor": 5
}
